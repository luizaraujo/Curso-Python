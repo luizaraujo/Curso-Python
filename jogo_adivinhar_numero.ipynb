{
  "nbformat": 4,
  "nbformat_minor": 0,
  "metadata": {
    "colab": {
      "name": "jogo_adivinhar_numero.ipynb",
      "provenance": [],
      "authorship_tag": "ABX9TyMMUJf0uCvzCEiPx8Ooxukj",
      "include_colab_link": true
    },
    "kernelspec": {
      "name": "python3",
      "display_name": "Python 3"
    },
    "language_info": {
      "name": "python"
    }
  },
  "cells": [
    {
      "cell_type": "markdown",
      "metadata": {
        "id": "view-in-github",
        "colab_type": "text"
      },
      "source": [
        "<a href=\"https://colab.research.google.com/github/luizaraujo/Curso-Python/blob/main/jogo_adivinhar_numero.ipynb\" target=\"_parent\"><img src=\"https://colab.research.google.com/assets/colab-badge.svg\" alt=\"Open In Colab\"/></a>"
      ]
    },
    {
      "cell_type": "markdown",
      "metadata": {
        "id": "Q3w21Nd3ca3Q"
      },
      "source": [
        "### Como adivinhar número usando **randint**"
      ]
    },
    {
      "cell_type": "code",
      "metadata": {
        "id": "yfXcP7H2QRC2"
      },
      "source": [
        "from random import randint\n",
        "\n",
        "def adivinhar():\n",
        "    numero = randint(0, 5)\n",
        "    num = int(input('Digite um número entre 0 e 5: '))\n",
        "    if num == numero:\n",
        "        print('Você acertou!')\n",
        "    else:\n",
        "        print('Errou, tente de novo!')\n",
        "        adivinhar()\n",
        "\n",
        "adivinhar()"
      ],
      "execution_count": null,
      "outputs": []
    }
  ]
}