{
  "nbformat": 4,
  "nbformat_minor": 0,
  "metadata": {
    "colab": {
      "name": "Calculadora.ipynb",
      "provenance": [],
      "authorship_tag": "ABX9TyNv7zv6Lfp8/O2+036lIThz",
      "include_colab_link": true
    },
    "kernelspec": {
      "name": "python3",
      "display_name": "Python 3"
    },
    "language_info": {
      "name": "python"
    }
  },
  "cells": [
    {
      "cell_type": "markdown",
      "metadata": {
        "id": "view-in-github",
        "colab_type": "text"
      },
      "source": [
        "<a href=\"https://colab.research.google.com/github/luizaraujo/Curso-Python/blob/main/Calculadora.ipynb\" target=\"_parent\"><img src=\"https://colab.research.google.com/assets/colab-badge.svg\" alt=\"Open In Colab\"/></a>"
      ]
    },
    {
      "cell_type": "code",
      "execution_count": 3,
      "metadata": {
        "colab": {
          "base_uri": "https://localhost:8080/"
        },
        "id": "8Ds9u052Rt8H",
        "outputId": "670ff5fc-cf12-48de-e76f-3782e3a2b59a"
      },
      "outputs": [
        {
          "output_type": "stream",
          "name": "stdout",
          "text": [
            "Digite um número inteiro: 3\n",
            " 3 * 0 =  0\n",
            " 3 * 1 =  3\n",
            " 3 * 2 =  6\n",
            " 3 * 3 =  9\n",
            " 3 * 4 =  12\n",
            " 3 * 5 =  15\n",
            " 3 * 6 =  18\n",
            " 3 * 7 =  21\n",
            " 3 * 8 =  24\n",
            " 3 * 9 =  27\n"
          ]
        }
      ],
      "source": [
        "num = int(input('Digite um número inteiro: '))\n",
        "#deno = int(input('Digite um número inteiro: '))\n",
        "\n",
        "for i in range(10):\n",
        "    print(f' {num} * {i} = ', num * i)\n"
      ]
    }
  ]
}