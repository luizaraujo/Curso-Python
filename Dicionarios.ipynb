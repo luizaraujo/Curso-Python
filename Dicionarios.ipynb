{
  "nbformat": 4,
  "nbformat_minor": 0,
  "metadata": {
    "colab": {
      "name": "Dicionarios.ipynb",
      "provenance": [],
      "collapsed_sections": [],
      "authorship_tag": "ABX9TyOPqLft42GZ3CUXeXxdeMf1",
      "include_colab_link": true
    },
    "kernelspec": {
      "name": "python3",
      "display_name": "Python 3"
    },
    "language_info": {
      "name": "python"
    }
  },
  "cells": [
    {
      "cell_type": "markdown",
      "metadata": {
        "id": "view-in-github",
        "colab_type": "text"
      },
      "source": [
        "<a href=\"https://colab.research.google.com/github/luizaraujo/Curso-Python/blob/main/Dicionarios.ipynb\" target=\"_parent\"><img src=\"https://colab.research.google.com/assets/colab-badge.svg\" alt=\"Open In Colab\"/></a>"
      ]
    },
    {
      "cell_type": "markdown",
      "metadata": {
        "id": "5Dmz5b5h19iV"
      },
      "source": [
        "# **Dicionários**"
      ]
    },
    {
      "cell_type": "markdown",
      "metadata": {
        "id": "xsSk7wWfM497"
      },
      "source": [
        "### **Criando um dicionário e logo após localizando a chave**"
      ]
    },
    {
      "cell_type": "code",
      "metadata": {
        "colab": {
          "base_uri": "https://localhost:8080/"
        },
        "id": "Uv8PwtRB17WV",
        "outputId": "3ac9fdcf-c9d9-478d-8ca3-03b0f6879ab7"
      },
      "source": [
        "setor = {\n",
        "    'Luiz Carlos': 'Desenvolvimento',\n",
        "    'Mario José': 'Cobrança',\n",
        "    'Claudia Araujo': 'Compras'\n",
        "}\n",
        "\n",
        "print(setor['Claudia Araujo'])\n",
        "print(setor['Luiz Carlos'])"
      ],
      "execution_count": 11,
      "outputs": [
        {
          "output_type": "stream",
          "name": "stdout",
          "text": [
            "Compras\n",
            "Desenvolvimento\n"
          ]
        }
      ]
    },
    {
      "cell_type": "markdown",
      "metadata": {
        "id": "Fg2YapdsCWMX"
      },
      "source": [
        "### **Acrescentando pares no dicionário**"
      ]
    },
    {
      "cell_type": "code",
      "metadata": {
        "colab": {
          "base_uri": "https://localhost:8080/"
        },
        "id": "fpAZFicaB-Hy",
        "outputId": "00421961-7c1e-4412-99ae-8393d7e8d510"
      },
      "source": [
        "setor['Alberto Perreira'] = 'Financeiro'\n",
        "print(setor)\n",
        "print(setor['Alberto Perreira'], ' - ', setor['Luiz Carlos'])\n"
      ],
      "execution_count": 12,
      "outputs": [
        {
          "output_type": "stream",
          "name": "stdout",
          "text": [
            "{'Luiz Carlos': 'Desenvolvimento', 'Mario José': 'Cobrança', 'Claudia Araujo': 'Compras', 'Alberto Perreira': 'Financeiro'}\n",
            "Financeiro  -  Desenvolvimento\n"
          ]
        }
      ]
    },
    {
      "cell_type": "markdown",
      "metadata": {
        "id": "ktvcIH4ZRqSn"
      },
      "source": [
        "## **Criando Estrutura de Mapeamento**"
      ]
    },
    {
      "cell_type": "markdown",
      "metadata": {
        "id": "KArsR4DeMVzF"
      },
      "source": [
        "### **Colocando mensagem caso a chave não se encontra no dicionário**"
      ]
    },
    {
      "cell_type": "code",
      "metadata": {
        "colab": {
          "base_uri": "https://localhost:8080/"
        },
        "id": "MypjKmrupM56",
        "outputId": "6c503b46-fd5a-494a-926b-9f800865185c"
      },
      "source": [
        "print(setor.get('FERREIRA', 'Contato não encontrado'))\n",
        "print(setor.get('Luiz Carlos', 'Contato não encontrado'))"
      ],
      "execution_count": 13,
      "outputs": [
        {
          "output_type": "stream",
          "name": "stdout",
          "text": [
            "Contato não encontrado\n",
            "Desenvolvimento\n"
          ]
        }
      ]
    },
    {
      "cell_type": "markdown",
      "metadata": {
        "id": "rBLgHWiKL3X3"
      },
      "source": [
        "### **Verificando se uma chave se encontra no dicionário**"
      ]
    },
    {
      "cell_type": "code",
      "metadata": {
        "colab": {
          "base_uri": "https://localhost:8080/"
        },
        "id": "k_9Axa6-Lkx4",
        "outputId": "7460dd93-48ea-4b8a-b4e4-02f7ec3377fa"
      },
      "source": [
        "print('Luiz' in setor)\n",
        "\n",
        "print('Luiz Carlos' in setor)"
      ],
      "execution_count": 14,
      "outputs": [
        {
          "output_type": "stream",
          "name": "stdout",
          "text": [
            "False\n",
            "True\n"
          ]
        }
      ]
    },
    {
      "cell_type": "markdown",
      "metadata": {
        "id": "Udj3rB8eQsBo"
      },
      "source": [
        "### **Procurando por valores da chaves**"
      ]
    },
    {
      "cell_type": "code",
      "metadata": {
        "colab": {
          "base_uri": "https://localhost:8080/"
        },
        "id": "ERjB8tLRQ6kU",
        "outputId": "a548764d-ab27-4870-a2c9-b05657cf170f"
      },
      "source": [
        "print('Desenvolvimento' in setor.values())\n",
        "print('Cadastro Técnico' in setor.values())"
      ],
      "execution_count": 15,
      "outputs": [
        {
          "output_type": "stream",
          "name": "stdout",
          "text": [
            "True\n",
            "False\n"
          ]
        }
      ]
    },
    {
      "cell_type": "markdown",
      "metadata": {
        "id": "vUVPTGLXU6QO"
      },
      "source": [
        "## **Adicionando Dados no dicionário**"
      ]
    },
    {
      "cell_type": "code",
      "metadata": {
        "id": "K06qj1H8VqF7",
        "outputId": "526c4fa2-9781-4ea2-b5dd-03e4ef278dcd",
        "colab": {
          "base_uri": "https://localhost:8080/"
        }
      },
      "source": [
        "setor['Marilia'] = 'Operacional'\n",
        "print(setor)"
      ],
      "execution_count": 16,
      "outputs": [
        {
          "output_type": "stream",
          "name": "stdout",
          "text": [
            "{'Luiz Carlos': 'Desenvolvimento', 'Mario José': 'Cobrança', 'Claudia Araujo': 'Compras', 'Alberto Perreira': 'Financeiro', 'Marilia': 'Operacional'}\n"
          ]
        }
      ]
    },
    {
      "cell_type": "markdown",
      "metadata": {
        "id": "4tF3ChxyWTrA"
      },
      "source": [
        "## **Removendo dados no dicionário**"
      ]
    },
    {
      "cell_type": "code",
      "metadata": {
        "id": "pMh3Gj7wWZZe",
        "outputId": "6f676d8c-7a40-46a0-8292-c5864cd464d3",
        "colab": {
          "base_uri": "https://localhost:8080/"
        }
      },
      "source": [
        "del setor['Mario José']\n",
        "print(setor)"
      ],
      "execution_count": 17,
      "outputs": [
        {
          "output_type": "stream",
          "name": "stdout",
          "text": [
            "{'Luiz Carlos': 'Desenvolvimento', 'Claudia Araujo': 'Compras', 'Alberto Perreira': 'Financeiro', 'Marilia': 'Operacional'}\n"
          ]
        }
      ]
    },
    {
      "cell_type": "markdown",
      "metadata": {
        "id": "30hRIFpbXVlS"
      },
      "source": [
        "## **Removendo dados com mensagem caso não exista no dicionário**"
      ]
    },
    {
      "cell_type": "code",
      "metadata": {
        "id": "J6lkHCRaXeX6",
        "outputId": "f3ffda5a-360f-4afd-da25-02cd7c5e9bee",
        "colab": {
          "base_uri": "https://localhost:8080/"
        }
      },
      "source": [
        "print(setor.pop('Alberto Perreira', 'Funcionário não encontrado!'))\n",
        "print(setor.pop('Adalto Prado', 'Funcionário não encontrado!'))\n",
        "print()\n",
        "print(setor)"
      ],
      "execution_count": 18,
      "outputs": [
        {
          "output_type": "stream",
          "name": "stdout",
          "text": [
            "Financeiro\n",
            "Funcionário não encontrado!\n",
            "\n",
            "{'Luiz Carlos': 'Desenvolvimento', 'Claudia Araujo': 'Compras', 'Marilia': 'Operacional'}\n"
          ]
        }
      ]
    }
  ]
}