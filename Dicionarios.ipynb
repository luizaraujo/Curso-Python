{
  "nbformat": 4,
  "nbformat_minor": 0,
  "metadata": {
    "colab": {
      "name": "Dicionarios.ipynb",
      "provenance": [],
      "collapsed_sections": [],
      "authorship_tag": "ABX9TyMlqKieEwpPG2FLa32zOa2s",
      "include_colab_link": true
    },
    "kernelspec": {
      "name": "python3",
      "display_name": "Python 3"
    },
    "language_info": {
      "name": "python"
    }
  },
  "cells": [
    {
      "cell_type": "markdown",
      "metadata": {
        "id": "view-in-github",
        "colab_type": "text"
      },
      "source": [
        "<a href=\"https://colab.research.google.com/github/luizaraujo/Curso-Python/blob/main/Dicionarios.ipynb\" target=\"_parent\"><img src=\"https://colab.research.google.com/assets/colab-badge.svg\" alt=\"Open In Colab\"/></a>"
      ]
    },
    {
      "cell_type": "markdown",
      "metadata": {
        "id": "5Dmz5b5h19iV"
      },
      "source": [
        "# **Dicionários**"
      ]
    },
    {
      "cell_type": "markdown",
      "metadata": {
        "id": "xsSk7wWfM497"
      },
      "source": [
        "### **Criando um dicionário e logo após localizando a chave**"
      ]
    },
    {
      "cell_type": "code",
      "metadata": {
        "colab": {
          "base_uri": "https://localhost:8080/"
        },
        "id": "Uv8PwtRB17WV",
        "outputId": "d1530747-7d07-4ef6-8175-ea0dea3c0a90"
      },
      "source": [
        "setor = {\n",
        "    'Luiz Carlos': 'Desenvolvimento',\n",
        "    'Mario José': 'Cobrança',\n",
        "    'Claudia Araujo': 'Compras'\n",
        "}\n",
        "\n",
        "print(setor['Claudia Araujo'])\n",
        "print(setor['Luiz Carlos'])"
      ],
      "execution_count": 1,
      "outputs": [
        {
          "output_type": "stream",
          "name": "stdout",
          "text": [
            "Compras\n",
            "Desenvolvimento\n"
          ]
        }
      ]
    },
    {
      "cell_type": "markdown",
      "metadata": {
        "id": "Fg2YapdsCWMX"
      },
      "source": [
        "### **Acrescentando pares no dicionário**"
      ]
    },
    {
      "cell_type": "code",
      "metadata": {
        "colab": {
          "base_uri": "https://localhost:8080/"
        },
        "id": "fpAZFicaB-Hy",
        "outputId": "d05e92e7-7122-4fc5-df3a-889f0ef985a8"
      },
      "source": [
        "setor['Alberto Perreira'] = 'Financeiro'\n",
        "print(setor)\n",
        "print(setor['Alberto Perreira'], ' - ', setor['Luiz Carlos'])\n"
      ],
      "execution_count": 2,
      "outputs": [
        {
          "output_type": "stream",
          "name": "stdout",
          "text": [
            "{'Luiz Carlos': 'Desenvolvimento', 'Mario José': 'Cobrança', 'Claudia Araujo': 'Compras', 'Alberto Perreira': 'Financeiro'}\n",
            "Financeiro  -  Desenvolvimento\n"
          ]
        }
      ]
    },
    {
      "cell_type": "markdown",
      "metadata": {
        "id": "ktvcIH4ZRqSn"
      },
      "source": [
        "## **Criando Estrutura de Mapeamento**"
      ]
    },
    {
      "cell_type": "markdown",
      "metadata": {
        "id": "KArsR4DeMVzF"
      },
      "source": [
        "### **Colocando mensagem caso a chave não se encontra no dicionário**"
      ]
    },
    {
      "cell_type": "code",
      "metadata": {
        "colab": {
          "base_uri": "https://localhost:8080/"
        },
        "id": "MypjKmrupM56",
        "outputId": "0301a535-6606-4259-a4ef-2b55020e924d"
      },
      "source": [
        "print(setor.get('FERREIRA', 'Contato não encontrado'))\n",
        "print(setor.get('Luiz Carlos', 'Contato não encontrado'))"
      ],
      "execution_count": 3,
      "outputs": [
        {
          "output_type": "stream",
          "name": "stdout",
          "text": [
            "Contato não encontrado\n",
            "Desenvolvimento\n"
          ]
        }
      ]
    },
    {
      "cell_type": "markdown",
      "metadata": {
        "id": "rBLgHWiKL3X3"
      },
      "source": [
        "### **Verificando se uma chave se encontra no dicionário**"
      ]
    },
    {
      "cell_type": "code",
      "metadata": {
        "colab": {
          "base_uri": "https://localhost:8080/"
        },
        "id": "k_9Axa6-Lkx4",
        "outputId": "8a075c37-8d1d-4fb1-e270-7c997cff4d8a"
      },
      "source": [
        "print('Luiz' in setor)\n",
        "\n",
        "print('Luiz Carlos' in setor)"
      ],
      "execution_count": 4,
      "outputs": [
        {
          "output_type": "stream",
          "name": "stdout",
          "text": [
            "False\n",
            "True\n"
          ]
        }
      ]
    },
    {
      "cell_type": "markdown",
      "metadata": {
        "id": "Udj3rB8eQsBo"
      },
      "source": [
        "### **Procurando por valores da chaves**"
      ]
    },
    {
      "cell_type": "code",
      "metadata": {
        "colab": {
          "base_uri": "https://localhost:8080/"
        },
        "id": "ERjB8tLRQ6kU",
        "outputId": "95dc006f-69bc-482c-f4b4-658929949b34"
      },
      "source": [
        "print('Desenvolvimento' in setor.values())\n",
        "print('Cadastro Técnico' in setor.values())"
      ],
      "execution_count": 6,
      "outputs": [
        {
          "output_type": "stream",
          "name": "stdout",
          "text": [
            "True\n",
            "False\n"
          ]
        }
      ]
    }
  ]
}