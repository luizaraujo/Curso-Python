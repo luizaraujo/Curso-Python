{
  "nbformat": 4,
  "nbformat_minor": 0,
  "metadata": {
    "colab": {
      "name": "Dicionarios.ipynb",
      "provenance": [],
      "collapsed_sections": [],
      "authorship_tag": "ABX9TyOi8jJzm+cvV0d3Q+CNzXPE",
      "include_colab_link": true
    },
    "kernelspec": {
      "name": "python3",
      "display_name": "Python 3"
    },
    "language_info": {
      "name": "python"
    }
  },
  "cells": [
    {
      "cell_type": "markdown",
      "metadata": {
        "id": "view-in-github",
        "colab_type": "text"
      },
      "source": [
        "<a href=\"https://colab.research.google.com/github/luizaraujo/Curso-Python/blob/main/Dicionarios.ipynb\" target=\"_parent\"><img src=\"https://colab.research.google.com/assets/colab-badge.svg\" alt=\"Open In Colab\"/></a>"
      ]
    },
    {
      "cell_type": "markdown",
      "metadata": {
        "id": "5Dmz5b5h19iV"
      },
      "source": [
        "### **Dicionários**"
      ]
    },
    {
      "cell_type": "code",
      "metadata": {
        "colab": {
          "base_uri": "https://localhost:8080/"
        },
        "id": "Uv8PwtRB17WV",
        "outputId": "28c62cdc-03b6-4e15-cb88-828163dda50b"
      },
      "source": [
        "setor = {\n",
        "    'Luiz Carlos': 'Desenvolvimento',\n",
        "    'Mario José': 'Cobrança',\n",
        "    'Claudia Araujo': 'Compras'\n",
        "}\n",
        "\n",
        "print(setor['Claudia Araujo'])\n",
        "print(setor['Luiz Carlos'])"
      ],
      "execution_count": 4,
      "outputs": [
        {
          "output_type": "stream",
          "name": "stdout",
          "text": [
            "Compras\n",
            "Desenvolvimento\n"
          ]
        }
      ]
    },
    {
      "cell_type": "markdown",
      "metadata": {
        "id": "Fg2YapdsCWMX"
      },
      "source": [
        "## **Acrescentando pares no dicionário**"
      ]
    },
    {
      "cell_type": "code",
      "metadata": {
        "colab": {
          "base_uri": "https://localhost:8080/"
        },
        "id": "fpAZFicaB-Hy",
        "outputId": "5f1d61aa-d655-4216-e560-2688c92816b2"
      },
      "source": [
        "setor['Alberto Perreira'] = 'Financeiro'\n",
        "print(setor)\n",
        "print(setor['Alberto Perreira'], ' - ', setor['Luiz Carlos'])\n"
      ],
      "execution_count": 5,
      "outputs": [
        {
          "output_type": "stream",
          "name": "stdout",
          "text": [
            "{'Luiz Carlos': 'Desenvolvimento', 'Mario José': 'Cobrança', 'Claudia Araujo': 'Compras', 'Alberto Perreira': 'Financeiro'}\n",
            "Financeiro  -  Desenvolvimento\n"
          ]
        }
      ]
    },
    {
      "cell_type": "code",
      "metadata": {
        "colab": {
          "base_uri": "https://localhost:8080/"
        },
        "id": "MypjKmrupM56",
        "outputId": "cdf043be-3342-47df-8793-c45fe0f1ca3f"
      },
      "source": [
        "print(setor.get('FERREIRA', 'Contato não encontrado'))\n",
        "print(setor.get('Luiz Carlos', 'Contato não encontrado'))"
      ],
      "execution_count": 7,
      "outputs": [
        {
          "output_type": "stream",
          "name": "stdout",
          "text": [
            "Contato não encontrado\n",
            "Desenvolvimento\n"
          ]
        }
      ]
    }
  ]
}