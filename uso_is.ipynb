{
  "nbformat": 4,
  "nbformat_minor": 0,
  "metadata": {
    "colab": {
      "name": "uso_is.ipynb",
      "provenance": [],
      "authorship_tag": "ABX9TyOe3/n5u2OGSglfkR2vTnah",
      "include_colab_link": true
    },
    "kernelspec": {
      "name": "python3",
      "display_name": "Python 3"
    },
    "language_info": {
      "name": "python"
    }
  },
  "cells": [
    {
      "cell_type": "markdown",
      "metadata": {
        "id": "view-in-github",
        "colab_type": "text"
      },
      "source": [
        "<a href=\"https://colab.research.google.com/github/luizaraujo/Curso-Python/blob/main/uso_is.ipynb\" target=\"_parent\"><img src=\"https://colab.research.google.com/assets/colab-badge.svg\" alt=\"Open In Colab\"/></a>"
      ]
    },
    {
      "cell_type": "code",
      "execution_count": null,
      "metadata": {
        "id": "HIte0aOmdIDK"
      },
      "outputs": [],
      "source": [
        "dados = {\n",
        "    'nome': 'Luiz',\n",
        "    'sexo': 'M',\n",
        "    'idade': 55\n",
        "}\n",
        "\n",
        "resposta = dados.get('idade')\n",
        "\n",
        "if resposta is not None:\n",
        "    print('Busca realizada com sucesso!')\n",
        "else:\n",
        "    print('Nada encontrado!')"
      ]
    }
  ]
}