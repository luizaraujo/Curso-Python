{
  "nbformat": 4,
  "nbformat_minor": 0,
  "metadata": {
    "colab": {
      "name": "uso_is.ipynb",
      "provenance": [],
      "authorship_tag": "ABX9TyMq1orc5AiaePAcKoEBaVGz",
      "include_colab_link": true
    },
    "kernelspec": {
      "name": "python3",
      "display_name": "Python 3"
    },
    "language_info": {
      "name": "python"
    }
  },
  "cells": [
    {
      "cell_type": "markdown",
      "metadata": {
        "id": "view-in-github",
        "colab_type": "text"
      },
      "source": [
        "<a href=\"https://colab.research.google.com/github/luizaraujo/Curso-Python/blob/main/uso_is.ipynb\" target=\"_parent\"><img src=\"https://colab.research.google.com/assets/colab-badge.svg\" alt=\"Open In Colab\"/></a>"
      ]
    },
    {
      "cell_type": "code",
      "execution_count": null,
      "metadata": {
        "id": "HIte0aOmdIDK",
        "colab": {
          "base_uri": "https://localhost:8080/"
        },
        "outputId": "013bf0c8-e80a-447e-a346-90495d630bad"
      },
      "outputs": [
        {
          "output_type": "stream",
          "name": "stdout",
          "text": [
            "Busca realizada com sucesso!\n"
          ]
        }
      ],
      "source": [
        "dados = {\n",
        "    'nome': 'Luiz',\n",
        "    'sexo': 'M',\n",
        "    'idade': 55\n",
        "}\n",
        "\n",
        "resposta = dados.get('idade')\n",
        "\n",
        "if resposta is not None:\n",
        "    print('Busca realizada com sucesso!')\n",
        "else:\n",
        "    print('Nada encontrado!')"
      ]
    },
    {
      "cell_type": "code",
      "source": [
        "dados1 = {\n",
        "    11 : 'São Paulo',\n",
        "    21 : 'Rio de Janeiro',\n",
        "    31 : 'Belo Horizonte',\n",
        "    41 : 'Curitiba'\n",
        "\n",
        "}"
      ],
      "metadata": {
        "id": "5T-DsuULMudh"
      },
      "execution_count": 1,
      "outputs": []
    },
    {
      "cell_type": "code",
      "source": [
        "resposta1 = dados1.get(21)\n",
        "\n",
        "if resposta1 is not None:\n",
        "    print(f'Parabéns o valor procurado \"{resposta1}\" foi encontrado!')\n",
        "else:\n",
        "    print(f'Infelizmente o valor procurado \"{resposta1}\" não foi encontrada!!!')"
      ],
      "metadata": {
        "colab": {
          "base_uri": "https://localhost:8080/"
        },
        "id": "UxIofRr2jwny",
        "outputId": "56d099b0-98be-4ec2-df37-262c98eb2b80"
      },
      "execution_count": 10,
      "outputs": [
        {
          "output_type": "stream",
          "name": "stdout",
          "text": [
            "Parabéns o valor procurado \"Rio de Janeiro\" foi encontrado!\n"
          ]
        }
      ]
    }
  ]
}