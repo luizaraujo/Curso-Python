{
  "nbformat": 4,
  "nbformat_minor": 0,
  "metadata": {
    "colab": {
      "name": "testes4.ipynb",
      "provenance": [],
      "authorship_tag": "ABX9TyP+TuwvALDQWFJpXvD33hgh",
      "include_colab_link": true
    },
    "kernelspec": {
      "name": "python3",
      "display_name": "Python 3"
    },
    "language_info": {
      "name": "python"
    }
  },
  "cells": [
    {
      "cell_type": "markdown",
      "metadata": {
        "id": "view-in-github",
        "colab_type": "text"
      },
      "source": [
        "<a href=\"https://colab.research.google.com/github/luizaraujo/Curso-Python/blob/main/testes4.ipynb\" target=\"_parent\"><img src=\"https://colab.research.google.com/assets/colab-badge.svg\" alt=\"Open In Colab\"/></a>"
      ]
    },
    {
      "cell_type": "code",
      "execution_count": null,
      "metadata": {
        "id": "MmY-He7RjBA7",
        "colab": {
          "base_uri": "https://localhost:8080/"
        },
        "outputId": "e64bb333-a8d2-4156-f6f3-811aac9d3766"
      },
      "outputs": [
        {
          "output_type": "stream",
          "name": "stdout",
          "text": [
            "Digite uma palavra ou frase: caros\n",
            "Caros 5 Caros tem 0 anos de idade!\n"
          ]
        }
      ],
      "source": [
        "palavra = input('Digite uma palavra ou frase: ').capitalize()\n",
        "tam_palavra = len(palavra)\n",
        "if palavra == 'Luiz':\n",
        "    idade = 55\n",
        "elif palavra == 'Carlos':\n",
        "    idade = 35\n",
        "else:\n",
        "    idade = '0'\n",
        "\n",
        "print(palavra, tam_palavra, f'{palavra} tem {idade} anos de idade!')"
      ]
    },
    {
      "cell_type": "code",
      "source": [
        ""
      ],
      "metadata": {
        "colab": {
          "base_uri": "https://localhost:8080/"
        },
        "id": "2BUTwH7M3C_R",
        "outputId": "b3eaf3a6-4bc2-4acd-d34e-c402ffaf70ca"
      },
      "execution_count": null,
      "outputs": [
        {
          "output_type": "stream",
          "name": "stdout",
          "text": [
            "________________________________________\n",
            "                MegaSena                \n",
            "________________________________________\n",
            "     Quantas apostas vc quer fazer?      5\n",
            "________________________________________\n",
            "-=-=-=-=-=  Sorteando 5 jogos  -=-=-=-=\n",
            "________________________________________\n",
            "Sua 1° Aposta é: [6, 20, 25, 38, 39, 49]\n",
            "Sua 2° Aposta é: [28, 38, 43, 45, 49, 51]\n",
            "Sua 3° Aposta é: [8, 41, 47, 53, 55, 60]\n",
            "Sua 4° Aposta é: [2, 8, 13, 36, 43, 47]\n",
            "Sua 5° Aposta é: [7, 24, 29, 41, 44, 57]\n",
            "-=-=-=-=-=-=  Boa sorte  -=-=-=-=-=-=-=\n"
          ]
        }
      ]
    },
    {
      "cell_type": "markdown",
      "source": [
        "## Calculadora"
      ],
      "metadata": {
        "id": "nsJxxiwwtLUt"
      }
    },
    {
      "cell_type": "code",
      "source": [
        "num = float(input('Digite um número qualquer:\\n'))\n",
        "multiplicador = 0\n",
        "for n, mult in range(10):\n",
        "    print(num, ' * ', multiplicador, ' = ', num * multiplicador)\n",
        "    multiplicador = multiplicador + 1\n"
      ],
      "metadata": {
        "colab": {
          "base_uri": "https://localhost:8080/",
          "height": 269
        },
        "id": "O8PtIvVss7ee",
        "outputId": "1b948dcb-7277-412e-bbf8-e77055ca18ba"
      },
      "execution_count": null,
      "outputs": [
        {
          "name": "stdout",
          "output_type": "stream",
          "text": [
            "Digite um número qualquer:\n",
            "5\n"
          ]
        },
        {
          "output_type": "error",
          "ename": "TypeError",
          "evalue": "ignored",
          "traceback": [
            "\u001b[0;31m---------------------------------------------------------------------------\u001b[0m",
            "\u001b[0;31mTypeError\u001b[0m                                 Traceback (most recent call last)",
            "\u001b[0;32m<ipython-input-14-f91a25a06627>\u001b[0m in \u001b[0;36m<module>\u001b[0;34m()\u001b[0m\n\u001b[1;32m      1\u001b[0m \u001b[0mnum\u001b[0m \u001b[0;34m=\u001b[0m \u001b[0mfloat\u001b[0m\u001b[0;34m(\u001b[0m\u001b[0minput\u001b[0m\u001b[0;34m(\u001b[0m\u001b[0;34m'Digite um número qualquer:\\n'\u001b[0m\u001b[0;34m)\u001b[0m\u001b[0;34m)\u001b[0m\u001b[0;34m\u001b[0m\u001b[0;34m\u001b[0m\u001b[0m\n\u001b[1;32m      2\u001b[0m \u001b[0mmultiplicador\u001b[0m \u001b[0;34m=\u001b[0m \u001b[0;36m0\u001b[0m\u001b[0;34m\u001b[0m\u001b[0;34m\u001b[0m\u001b[0m\n\u001b[0;32m----> 3\u001b[0;31m \u001b[0;32mfor\u001b[0m \u001b[0mn\u001b[0m\u001b[0;34m,\u001b[0m \u001b[0mmult\u001b[0m \u001b[0;32min\u001b[0m \u001b[0mrange\u001b[0m\u001b[0;34m(\u001b[0m\u001b[0;36m10\u001b[0m\u001b[0;34m)\u001b[0m\u001b[0;34m:\u001b[0m\u001b[0;34m\u001b[0m\u001b[0;34m\u001b[0m\u001b[0m\n\u001b[0m\u001b[1;32m      4\u001b[0m     \u001b[0mprint\u001b[0m\u001b[0;34m(\u001b[0m\u001b[0mnum\u001b[0m\u001b[0;34m,\u001b[0m \u001b[0;34m' * '\u001b[0m\u001b[0;34m,\u001b[0m \u001b[0mmultiplicador\u001b[0m\u001b[0;34m,\u001b[0m \u001b[0;34m' = '\u001b[0m\u001b[0;34m,\u001b[0m \u001b[0mnum\u001b[0m \u001b[0;34m*\u001b[0m \u001b[0mmultiplicador\u001b[0m\u001b[0;34m)\u001b[0m\u001b[0;34m\u001b[0m\u001b[0;34m\u001b[0m\u001b[0m\n\u001b[1;32m      5\u001b[0m     \u001b[0mmultiplicador\u001b[0m \u001b[0;34m=\u001b[0m \u001b[0mmultiplicador\u001b[0m \u001b[0;34m+\u001b[0m \u001b[0;36m1\u001b[0m\u001b[0;34m\u001b[0m\u001b[0;34m\u001b[0m\u001b[0m\n",
            "\u001b[0;31mTypeError\u001b[0m: cannot unpack non-iterable int object"
          ]
        }
      ]
    },
    {
      "cell_type": "code",
      "source": [
        "velho = 0\n",
        "for c in range(1, 3):\n",
        "    print(5 * '-' + f' {c}ª PESSOA ' + 5 * '-')\n",
        "    nome = input('Digite seu nome: ')\n",
        "    idade = int(input('Digite sua idade: '))\n",
        "    sexo = input('Sexo (M/F): ').upper()  \n",
        "    if sexo == \"M\":\n",
        "        velho = idade\n",
        "        print(velho, f'\\nParabéns')\n",
        "    else:\n",
        "        velho == 0\n",
        "        velho += idade\n",
        "        print(f'Você não poderá participar do curso!!!') \n"
      ],
      "metadata": {
        "colab": {
          "base_uri": "https://localhost:8080/"
        },
        "id": "50QpnKG20BxW",
        "outputId": "a9126f78-49ad-4485-83f9-4fc1eef7d817"
      },
      "execution_count": null,
      "outputs": [
        {
          "output_type": "stream",
          "name": "stdout",
          "text": [
            "----- 1ª PESSOA -----\n",
            "Digite seu nome: sdfsf\n",
            "Digite sua idade: 2\n",
            "Sexo (M/F): m\n",
            "2 \n",
            "Parabéns\n",
            "----- 2ª PESSOA -----\n",
            "Digite seu nome: dfgdfdgdf\n",
            "Digite sua idade: 12\n",
            "Sexo (M/F): b\n",
            "Você não poderá participar do curso!!!\n"
          ]
        }
      ]
    },
    {
      "cell_type": "code",
      "source": [
        "lista_jogos = ['GOD OF WAR', 'CRASH', 'UNCHARTED']\n",
        "lista_tempos = [15, 4, 22]"
      ],
      "metadata": {
        "id": "oK2ZXCQYQJAZ"
      },
      "execution_count": null,
      "outputs": []
    },
    {
      "cell_type": "code",
      "source": [
        "nome_jogo = input('Qual o nome do jogo? ')\n",
        "tempo_jogado = int(input(f'Quanto tempo você jogou {nome_jogo}? '))\n",
        "\n",
        "if nome_jogo.upper() in lista_jogos:\n",
        "    posicao = lista_jogos.index(nome_jogo.upper())\n",
        "    print(f'O jogo está na posição {posicao}.')\n",
        "    lista_tempos[posicao] += tempo_jogado\n",
        "else:\n",
        "    print(f'{nome_jogo} não está na lista. Vou adicionar.')\n",
        "    lista_jogos.append(nome_jogo)\n",
        "    lista_tempos.append(tempo_jogado)\n",
        "\n",
        "print(lista_jogos)"
      ],
      "metadata": {
        "colab": {
          "base_uri": "https://localhost:8080/"
        },
        "id": "kwhlh71-QMSX",
        "outputId": "d7880ddb-3eb0-4dcc-dfe8-bd249070171a"
      },
      "execution_count": null,
      "outputs": [
        {
          "output_type": "stream",
          "name": "stdout",
          "text": [
            "Qual o nome do jogo? baby\n",
            "Quanto tempo você jogou baby? 75\n",
            "baby não está na lista. Vou adicionar.\n",
            "['GOD OF WAR', 'CRASH', 'UNCHARTED', 'people', 'cartola', 'baby']\n"
          ]
        }
      ]
    },
    {
      "cell_type": "code",
      "source": [
        "cod1, num1, vlr1 = input().split(' ')\n",
        "cod1 = str(cod1)\n",
        "num1 = int(num1)\n",
        "vlr1 = float(vlr1)\n",
        "\n",
        "cod2, num2, vlr2 = input().split(' ')\n",
        "cod2 = str(cod2)\n",
        "num2 = int(num2)\n",
        "vlr2 = float(vlr2)\n",
        "\n",
        "total = (num1 * vlr1) + (num2 * vlr2)\n",
        "print(f'VALOR A PAGAR: R${total:.2f}')"
      ],
      "metadata": {
        "colab": {
          "base_uri": "https://localhost:8080/"
        },
        "id": "ePbdQZQrrZvJ",
        "outputId": "f70638f7-1476-4bb0-d2a4-5b5a89d73b7d"
      },
      "execution_count": 11,
      "outputs": [
        {
          "output_type": "stream",
          "name": "stdout",
          "text": [
            "1 1 14.30\n",
            "2 2 10.40\n",
            "VALOR A PAGAR: R$35.10\n"
          ]
        }
      ]
    },
    {
      "cell_type": "code",
      "source": [
        "raio = float(input())\n",
        "vol_esfera = ((4/3) * 3.14159 * raio ** 3)\n",
        "print(f'VOLUME = {vol_esfera:.3f}')"
      ],
      "metadata": {
        "colab": {
          "base_uri": "https://localhost:8080/"
        },
        "id": "Xgh6ENZ104iR",
        "outputId": "75586381-e8ec-4971-e5ab-41567a34ac9e"
      },
      "execution_count": 14,
      "outputs": [
        {
          "output_type": "stream",
          "name": "stdout",
          "text": [
            "3\n",
            "VOLUME = 113.097\n"
          ]
        }
      ]
    },
    {
      "cell_type": "code",
      "source": [
        "a, b, c = input().split(' ')\n",
        "a = float(a)\n",
        "b = float(b)\n",
        "c = float(c)\n",
        "tri = (a * c) / 2\n",
        "cir = (3.14159 * c ** 2)\n",
        "trap = ((a + b) * c) / 2\n",
        "quad = b * b\n",
        "ret = a * b\n",
        "print(f'TRIANGULO: {tri:.3f}')\n",
        "print(f'CIRCULO: {cir:.3f}')\n",
        "print(f'TRAPEZIO: {trap:.3f}')\n",
        "print(f'QUADRADO: {quad:.3f}')\n",
        "print(f'RETANGULO: {ret:.3f}')"
      ],
      "metadata": {
        "colab": {
          "base_uri": "https://localhost:8080/"
        },
        "id": "qA6cm0tz6Sas",
        "outputId": "75430a82-4317-4a01-c6dc-17db638bb718"
      },
      "execution_count": 23,
      "outputs": [
        {
          "output_type": "stream",
          "name": "stdout",
          "text": [
            "3.0 4.0 5.2\n",
            "TRIANGULO: 7.800\n",
            "CIRCULO: 84.949\n",
            "TRAPEZIO: 18.200\n",
            "QUADRADO: 16.000\n",
            "RETANGULO: 12.000\n"
          ]
        }
      ]
    }
  ]
}