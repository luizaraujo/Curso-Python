{
  "nbformat": 4,
  "nbformat_minor": 0,
  "metadata": {
    "colab": {
      "name": "Strings.ipynb",
      "provenance": [],
      "authorship_tag": "ABX9TyNdhQPO69AqAoJSItFJs1af",
      "include_colab_link": true
    },
    "kernelspec": {
      "name": "python3",
      "display_name": "Python 3"
    },
    "language_info": {
      "name": "python"
    }
  },
  "cells": [
    {
      "cell_type": "markdown",
      "metadata": {
        "id": "view-in-github",
        "colab_type": "text"
      },
      "source": [
        "<a href=\"https://colab.research.google.com/github/luizaraujo/Curso-Python/blob/main/Strings.ipynb\" target=\"_parent\"><img src=\"https://colab.research.google.com/assets/colab-badge.svg\" alt=\"Open In Colab\"/></a>"
      ]
    },
    {
      "cell_type": "markdown",
      "source": [
        "# Declara uma variável chamada \"Nome\" e faz seu encode"
      ],
      "metadata": {
        "id": "a6aDadEjpbEC"
      }
    },
    {
      "cell_type": "code",
      "execution_count": 6,
      "metadata": {
        "colab": {
          "base_uri": "https://localhost:8080/"
        },
        "id": "a8-TV0xFngJp",
        "outputId": "95e5d12e-e56c-48c8-80df-f5cdeda88735"
      },
      "outputs": [
        {
          "output_type": "execute_result",
          "data": {
            "text/plain": [
              "b'luiz carlos'"
            ]
          },
          "metadata": {},
          "execution_count": 6
        }
      ],
      "source": [
        "nome = 'luiz carlos'\n",
        "nome.encode()"
      ]
    },
    {
      "cell_type": "markdown",
      "source": [
        "# Declara uma variável chamada \"Nome2\" e faz seu encode"
      ],
      "metadata": {
        "id": "N0uwSkaXptet"
      }
    },
    {
      "cell_type": "code",
      "source": [
        "nome2 = 'Fernandêz'\n",
        "nome2.encode()"
      ],
      "metadata": {
        "colab": {
          "base_uri": "https://localhost:8080/"
        },
        "id": "Ib2kJbb0oBO6",
        "outputId": "69c731ea-2205-4337-e163-5b831f8703ff"
      },
      "execution_count": 5,
      "outputs": [
        {
          "output_type": "execute_result",
          "data": {
            "text/plain": [
              "b'Fernand\\xc3\\xaaz'"
            ]
          },
          "metadata": {},
          "execution_count": 5
        }
      ]
    },
    {
      "cell_type": "markdown",
      "source": [
        "# Coloca em maiúscula a primeira letra de cada palavra"
      ],
      "metadata": {
        "id": "DIh8UbaDp0NC"
      }
    },
    {
      "cell_type": "code",
      "source": [
        "nome.title()"
      ],
      "metadata": {
        "colab": {
          "base_uri": "https://localhost:8080/",
          "height": 35
        },
        "id": "WtKN7uLKo1j7",
        "outputId": "960ffd0a-6b01-4a51-ae5a-20e1a047a47c"
      },
      "execution_count": 7,
      "outputs": [
        {
          "output_type": "execute_result",
          "data": {
            "application/vnd.google.colaboratory.intrinsic+json": {
              "type": "string"
            },
            "text/plain": [
              "'Luiz Carlos'"
            ]
          },
          "metadata": {},
          "execution_count": 7
        }
      ]
    },
    {
      "cell_type": "markdown",
      "source": [
        "# Coloca a primeira letra da palavra em maiuscula"
      ],
      "metadata": {
        "id": "qdj1sOGipD7S"
      }
    },
    {
      "cell_type": "code",
      "source": [
        "nome.capitalize()"
      ],
      "metadata": {
        "colab": {
          "base_uri": "https://localhost:8080/",
          "height": 35
        },
        "id": "qCs3CdGeo-Dy",
        "outputId": "35b5e6aa-a10f-4a93-dc81-ebd0d7cfd5ad"
      },
      "execution_count": 8,
      "outputs": [
        {
          "output_type": "execute_result",
          "data": {
            "application/vnd.google.colaboratory.intrinsic+json": {
              "type": "string"
            },
            "text/plain": [
              "'Luiz carlos'"
            ]
          },
          "metadata": {},
          "execution_count": 8
        }
      ]
    },
    {
      "cell_type": "markdown",
      "source": [
        "# Troca a letra especificada por outra"
      ],
      "metadata": {
        "id": "4iHLrf9IpNo6"
      }
    },
    {
      "cell_type": "code",
      "source": [
        "nome.replace('l', 'j')"
      ],
      "metadata": {
        "colab": {
          "base_uri": "https://localhost:8080/",
          "height": 35
        },
        "id": "eqgpZnkTopgZ",
        "outputId": "07fc55d8-cd71-4d5c-c6c7-f325705648b4"
      },
      "execution_count": 20,
      "outputs": [
        {
          "output_type": "execute_result",
          "data": {
            "application/vnd.google.colaboratory.intrinsic+json": {
              "type": "string"
            },
            "text/plain": [
              "'juiz carjos'"
            ]
          },
          "metadata": {},
          "execution_count": 20
        }
      ]
    },
    {
      "cell_type": "markdown",
      "source": [
        "# Separando uma frase em palavras"
      ],
      "metadata": {
        "id": "UTHyF11uqFhe"
      }
    },
    {
      "cell_type": "code",
      "source": [
        "nomeCompleto = 'luiz carlos araujo da silva'\n",
        "print(nomeCompleto.split())\n",
        "print(nomeCompleto.split()[2])\n",
        "print(nomeCompleto.split('a'))  # faz um split pela letra \"a\""
      ],
      "metadata": {
        "colab": {
          "base_uri": "https://localhost:8080/"
        },
        "id": "Mea0HPZvqw3D",
        "outputId": "55f05415-ca8e-4742-ddf6-770d0b4c5c6c"
      },
      "execution_count": 22,
      "outputs": [
        {
          "output_type": "stream",
          "name": "stdout",
          "text": [
            "['luiz', 'carlos', 'araujo', 'da', 'silva']\n",
            "araujo\n",
            "['luiz c', 'rlos ', 'r', 'ujo d', ' silv', '']\n"
          ]
        }
      ]
    }
  ]
}