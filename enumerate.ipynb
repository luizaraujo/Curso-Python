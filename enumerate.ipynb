{
  "nbformat": 4,
  "nbformat_minor": 0,
  "metadata": {
    "colab": {
      "name": "enumerate.ipynb",
      "provenance": [],
      "authorship_tag": "ABX9TyPPWnZfMxw2nSdY3UCrtPge",
      "include_colab_link": true
    },
    "kernelspec": {
      "name": "python3",
      "display_name": "Python 3"
    },
    "language_info": {
      "name": "python"
    }
  },
  "cells": [
    {
      "cell_type": "markdown",
      "metadata": {
        "id": "view-in-github",
        "colab_type": "text"
      },
      "source": [
        "<a href=\"https://colab.research.google.com/github/luizaraujo/Curso-Python/blob/main/enumerate.ipynb\" target=\"_parent\"><img src=\"https://colab.research.google.com/assets/colab-badge.svg\" alt=\"Open In Colab\"/></a>"
      ]
    },
    {
      "cell_type": "code",
      "metadata": {
        "colab": {
          "base_uri": "https://localhost:8080/"
        },
        "id": "BVfMa4CwkNuF",
        "outputId": "63524bbd-9c74-488b-d2eb-068053c247af"
      },
      "source": [
        "frutas = ['maça', 'abacaxi', 'abacate','laranja']\n",
        "\n",
        "print(list(enumerate(frutas)))\n",
        "print(list(enumerate(frutas, start = 5)))"
      ],
      "execution_count": 3,
      "outputs": [
        {
          "output_type": "stream",
          "name": "stdout",
          "text": [
            "[(0, 'maça'), (1, 'abacaxi'), (2, 'abacate'), (3, 'laranja')]\n",
            "[(5, 'maça'), (6, 'abacaxi'), (7, 'abacate'), (8, 'laranja')]\n"
          ]
        }
      ]
    }
  ]
}