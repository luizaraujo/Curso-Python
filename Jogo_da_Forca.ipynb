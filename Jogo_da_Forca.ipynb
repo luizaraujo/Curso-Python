{
  "nbformat": 4,
  "nbformat_minor": 0,
  "metadata": {
    "colab": {
      "name": "Jogo_da_Forca.ipynb",
      "provenance": [],
      "authorship_tag": "ABX9TyM4G9PafsKHKmvuGvo4X/pX",
      "include_colab_link": true
    },
    "kernelspec": {
      "name": "python3",
      "display_name": "Python 3"
    },
    "language_info": {
      "name": "python"
    },
    "accelerator": "GPU"
  },
  "cells": [
    {
      "cell_type": "markdown",
      "metadata": {
        "id": "view-in-github",
        "colab_type": "text"
      },
      "source": [
        "<a href=\"https://colab.research.google.com/github/luizaraujo/Curso-Python/blob/main/Jogo_da_Forca.ipynb\" target=\"_parent\"><img src=\"https://colab.research.google.com/assets/colab-badge.svg\" alt=\"Open In Colab\"/></a>"
      ]
    },
    {
      "cell_type": "markdown",
      "source": [
        "## Criando o Jogo da Forca"
      ],
      "metadata": {
        "id": "262fE9ZWTcGq"
      }
    },
    {
      "cell_type": "code",
      "execution_count": 3,
      "metadata": {
        "colab": {
          "base_uri": "https://localhost:8080/"
        },
        "id": "YQ4Rmz5gTWXM",
        "outputId": "95821850-6ca3-42b0-9325-305db3cf22f0"
      },
      "outputs": [
        {
          "output_type": "stream",
          "name": "stdout",
          "text": [
            "Digite uma letra: a\n",
            "OOOOOBAAA, acertei a letra a existe na Palavra Secreta.\n",
            "\n",
            "A palavra secreta está assim: a***a**a\n",
            "\n",
            "Você ainda tem 3 chances\n",
            "Digite uma letra: k\n",
            "PUTTZ que pena a letra k NÂO EXISTE na palavra secreta.\n",
            "\n",
            "A palavra secreta está assim: a***a**a\n",
            "\n",
            "Você ainda tem 2 chances\n",
            "Digite uma letra: d\n",
            "PUTTZ que pena a letra d NÂO EXISTE na palavra secreta.\n",
            "\n",
            "A palavra secreta está assim: a***a**a\n",
            "\n",
            "Você ainda tem 1 chances\n",
            "Digite uma letra: l\n",
            "OOOOOBAAA, acertei a letra l existe na Palavra Secreta.\n",
            "\n",
            "A palavra secreta está assim: al**a**a\n",
            "\n",
            "Você ainda tem 1 chances\n",
            "Digite uma letra: m\n",
            "OOOOOBAAA, acertei a letra m existe na Palavra Secreta.\n",
            "\n",
            "A palavra secreta está assim: al*ma**a\n",
            "\n",
            "Você ainda tem 1 chances\n",
            "Digite uma letra: n\n",
            "OOOOOBAAA, acertei a letra n existe na Palavra Secreta.\n",
            "\n",
            "A palavra secreta está assim: al*man*a\n",
            "\n",
            "Você ainda tem 1 chances\n",
            "Digite uma letra: h\n",
            "OOOOOBAAA, acertei a letra h existe na Palavra Secreta.\n",
            "\n",
            "A palavra secreta está assim: al*manha\n",
            "\n",
            "Você ainda tem 1 chances\n",
            "Digite uma letra: e\n",
            "OOOOOBAAA, acertei a letra e existe na Palavra Secreta.\n",
            "\n",
            "Que legal, você ganhou!!!\n"
          ]
        }
      ],
      "source": [
        "palavra_secreta = 'alemanha'\n",
        "letras_digitadas = []\n",
        "chances = 3\n",
        "\n",
        "while True:\n",
        "    if chances < 0:\n",
        "        print('Você perdeu!')\n",
        "        break\n",
        "\n",
        "    letra = input('Digite uma letra: ')\n",
        "\n",
        "    if len(letra) > 1:\n",
        "        print('Letra Errada! Digite outra letra.')\n",
        "        continue\n",
        "\n",
        "    letras_digitadas.append(letra)\n",
        "\n",
        "    if letra in palavra_secreta:\n",
        "        print(f'OBAAA, acertei a letra {letra} existe na Palavra Secreta.\\n')\n",
        "        \n",
        "    else:\n",
        "        print(f'PUTTZ que pena a letra {letra} NÂO EXISTE na palavra secreta.\\n')\n",
        "        \n",
        "        letras_digitadas.pop()\n",
        "\n",
        "    secreto_temporario = ''\n",
        "    for letra_secreta in palavra_secreta:\n",
        "        if letra_secreta in letras_digitadas:\n",
        "            secreto_temporario = secreto_temporario + letra_secreta\n",
        "        else:\n",
        "            secreto_temporario = secreto_temporario + '*'\n",
        "\n",
        "    if secreto_temporario == palavra_secreta:\n",
        "        print('Que legal, você ganhou!!!')\n",
        "        break\n",
        "    else:\n",
        "        print(f'A palavra secreta está assim: {secreto_temporario}\\n')\n",
        "\n",
        "    if letra not in palavra_secreta:\n",
        "        \n",
        "        chances -= 1\n",
        "\n",
        "    print(f'Você ainda tem {chances} chances')\n",
        "\n",
        "        "
      ]
    }
  ]
}