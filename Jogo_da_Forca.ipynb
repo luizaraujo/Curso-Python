{
  "nbformat": 4,
  "nbformat_minor": 0,
  "metadata": {
    "colab": {
      "name": "Jogo_da_Forca.ipynb",
      "provenance": [],
      "authorship_tag": "ABX9TyNejWgoc9T4doEhNWhPfDYC",
      "include_colab_link": true
    },
    "kernelspec": {
      "name": "python3",
      "display_name": "Python 3"
    },
    "language_info": {
      "name": "python"
    },
    "accelerator": "GPU"
  },
  "cells": [
    {
      "cell_type": "markdown",
      "metadata": {
        "id": "view-in-github",
        "colab_type": "text"
      },
      "source": [
        "<a href=\"https://colab.research.google.com/github/luizaraujo/Curso-Python/blob/main/Jogo_da_Forca.ipynb\" target=\"_parent\"><img src=\"https://colab.research.google.com/assets/colab-badge.svg\" alt=\"Open In Colab\"/></a>"
      ]
    },
    {
      "cell_type": "markdown",
      "source": [
        "## Criando o Jogo da Forca"
      ],
      "metadata": {
        "id": "262fE9ZWTcGq"
      }
    },
    {
      "cell_type": "code",
      "execution_count": 10,
      "metadata": {
        "colab": {
          "base_uri": "https://localhost:8080/"
        },
        "id": "YQ4Rmz5gTWXM",
        "outputId": "bf8f7fe5-b006-47b9-d209-6b37ded58a68"
      },
      "outputs": [
        {
          "output_type": "stream",
          "name": "stdout",
          "text": [
            "Digite uma letra: a\n",
            "OOOOOBAAA, acertei a \"a\" existe na Palavra Secreta.\n",
            "\n",
            "A palavra secreta está assim: a***a**a\n",
            "\n",
            "Você ainda tem 3 chances\n",
            "Digite uma letra: v\n",
            "PUTTZ que pena a letra \"v\" NÂO EXISTE na palavra secreta.\n",
            "\n",
            "A palavra secreta está assim: a***a**a\n",
            "\n",
            "Você ainda tem 2 chances\n",
            "Digite uma letra: h\n",
            "OOOOOBAAA, acertei a \"h\" existe na Palavra Secreta.\n",
            "\n",
            "A palavra secreta está assim: a***a*ha\n",
            "\n",
            "Você ainda tem 2 chances\n",
            "Digite uma letra: u\n",
            "PUTTZ que pena a letra \"u\" NÂO EXISTE na palavra secreta.\n",
            "\n",
            "A palavra secreta está assim: a***a*ha\n",
            "\n",
            "Você ainda tem 1 chances\n",
            "Digite uma letra: o\n",
            "PUTTZ que pena a letra \"o\" NÂO EXISTE na palavra secreta.\n",
            "\n",
            "A palavra secreta está assim: a***a*ha\n",
            "\n",
            "Você ainda tem 0 chances\n",
            "Digite uma letra: p\n",
            "PUTTZ que pena a letra \"p\" NÂO EXISTE na palavra secreta.\n",
            "\n",
            "A palavra secreta está assim: a***a*ha\n",
            "\n",
            "Você ainda tem -1 chances\n",
            "Você perdeu!\n"
          ]
        }
      ],
      "source": [
        "palavra_secreta = 'alemanha'\n",
        "letras_digitadas = []\n",
        "chances = 3\n",
        "\n",
        "while True:\n",
        "    if chances < 0:\n",
        "        print('Você perdeu!')\n",
        "        break\n",
        "\n",
        "    letra = input('Digite uma letra: ')\n",
        "\n",
        "    if len(letra) > 1:\n",
        "        print('Letra Errada! Digite outra letra.')\n",
        "        continue\n",
        "\n",
        "    letras_digitadas.append(letra)\n",
        "\n",
        "    if letra in palavra_secreta:\n",
        "        print(f'OOOOOBAAA, acertei a \"{letra}\" existe na Palavra Secreta.\\n')\n",
        "        \n",
        "    else:\n",
        "        print(f'PUTTZ que pena a letra \"{letra}\" NÂO EXISTE na palavra secreta.\\n')\n",
        "        \n",
        "        letras_digitadas.pop()\n",
        "\n",
        "    secreto_temporario = ''\n",
        "    for letra_secreta in palavra_secreta:\n",
        "        if letra_secreta in letras_digitadas:\n",
        "            secreto_temporario = secreto_temporario + letra_secreta\n",
        "        else:\n",
        "            secreto_temporario = secreto_temporario + '*'\n",
        "\n",
        "    if secreto_temporario == palavra_secreta:\n",
        "        print('Que legal, você ganhou!!!')\n",
        "        break\n",
        "    else:\n",
        "        print(f'A palavra secreta está assim: {secreto_temporario}\\n')\n",
        "\n",
        "    if letra not in palavra_secreta:\n",
        "        \n",
        "        chances -= 1\n",
        "\n",
        "    print(f'Você ainda tem {chances} chances')\n",
        "\n",
        "        "
      ]
    }
  ]
}