{
  "nbformat": 4,
  "nbformat_minor": 0,
  "metadata": {
    "colab": {
      "name": "Typecast.ipynb",
      "provenance": [],
      "collapsed_sections": [],
      "authorship_tag": "ABX9TyO8hanEz4dKHo3Jxwa4i2GW",
      "include_colab_link": true
    },
    "kernelspec": {
      "name": "python3",
      "display_name": "Python 3"
    },
    "language_info": {
      "name": "python"
    }
  },
  "cells": [
    {
      "cell_type": "markdown",
      "metadata": {
        "id": "view-in-github",
        "colab_type": "text"
      },
      "source": [
        "<a href=\"https://colab.research.google.com/github/luizaraujo/Curso-Python/blob/main/Typecast.ipynb\" target=\"_parent\"><img src=\"https://colab.research.google.com/assets/colab-badge.svg\" alt=\"Open In Colab\"/></a>"
      ]
    },
    {
      "cell_type": "markdown",
      "metadata": {
        "id": "wQzYILN9EdjB"
      },
      "source": [
        "# **Fazendo TypeCast**"
      ]
    },
    {
      "cell_type": "markdown",
      "metadata": {
        "id": "ZIirpSNDFAgX"
      },
      "source": [
        "### **Transformando números inteiros em decimais.**"
      ]
    },
    {
      "cell_type": "code",
      "metadata": {
        "colab": {
          "base_uri": "https://localhost:8080/"
        },
        "id": "zg1OYVQuEcyw",
        "outputId": "8e2d9fd9-f9d4-42a4-9463-1f179d6d06ff"
      },
      "source": [
        "numero = 15\n",
        "print(float(numero))"
      ],
      "execution_count": 2,
      "outputs": [
        {
          "output_type": "stream",
          "name": "stdout",
          "text": [
            "15.0\n"
          ]
        }
      ]
    },
    {
      "cell_type": "markdown",
      "metadata": {
        "id": "qYhNk9i2Fbcm"
      },
      "source": [
        "### **Transformando String em inteiros.**"
      ]
    },
    {
      "cell_type": "code",
      "metadata": {
        "colab": {
          "base_uri": "https://localhost:8080/"
        },
        "id": "8ww6DJjsFmNp",
        "outputId": "4acccae8-ff5d-4212-ccfa-4ef339a1dbf9"
      },
      "source": [
        "num = '45'\n",
        "num2 = int(num)\n",
        "print(num2)\n",
        "type(num2)"
      ],
      "execution_count": 11,
      "outputs": [
        {
          "output_type": "stream",
          "name": "stdout",
          "text": [
            "45\n"
          ]
        },
        {
          "output_type": "execute_result",
          "data": {
            "text/plain": [
              "int"
            ]
          },
          "metadata": {},
          "execution_count": 11
        }
      ]
    },
    {
      "cell_type": "markdown",
      "metadata": {
        "id": "vRmxe3xvG0EB"
      },
      "source": [
        "### **Transformando inteiro em string.**"
      ]
    },
    {
      "cell_type": "code",
      "metadata": {
        "colab": {
          "base_uri": "https://localhost:8080/"
        },
        "id": "FxgIKtr_G84P",
        "outputId": "b21a2c01-c7fd-475d-dbe4-b23b1887e939"
      },
      "source": [
        "num5 = 23\n",
        "nums = str(num5)\n",
        "print(nums)\n",
        "type(nums)"
      ],
      "execution_count": 12,
      "outputs": [
        {
          "output_type": "stream",
          "name": "stdout",
          "text": [
            "23\n"
          ]
        },
        {
          "output_type": "execute_result",
          "data": {
            "text/plain": [
              "str"
            ]
          },
          "metadata": {},
          "execution_count": 12
        }
      ]
    }
  ]
}