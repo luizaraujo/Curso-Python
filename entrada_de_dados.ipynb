{
  "nbformat": 4,
  "nbformat_minor": 0,
  "metadata": {
    "colab": {
      "name": "entrada_de_dados.ipynb",
      "provenance": [],
      "authorship_tag": "ABX9TyPGFkvGHWHJ6xdcnFhTVYms",
      "include_colab_link": true
    },
    "kernelspec": {
      "name": "python3",
      "display_name": "Python 3"
    },
    "language_info": {
      "name": "python"
    }
  },
  "cells": [
    {
      "cell_type": "markdown",
      "metadata": {
        "id": "view-in-github",
        "colab_type": "text"
      },
      "source": [
        "<a href=\"https://colab.research.google.com/github/luizaraujo/Curso-Python/blob/main/entrada_de_dados.ipynb\" target=\"_parent\"><img src=\"https://colab.research.google.com/assets/colab-badge.svg\" alt=\"Open In Colab\"/></a>"
      ]
    },
    {
      "cell_type": "code",
      "metadata": {
        "colab": {
          "base_uri": "https://localhost:8080/"
        },
        "id": "ecrPmXgaDIk_",
        "outputId": "8069f1a1-5e1c-4b6e-b20d-29f7dc05ba6c"
      },
      "source": [
        "nome = input('Diga qual é o seu nome\\n')\n",
        "idade = input('Informe sua idade\\n')\n",
        "print('O seu nome é {} e a sua idade é {} anos.'.format(nome, idade))\n",
        "\n",
        "print(2 * '\\n')\n",
        "\n",
        "local = input(\"Diga de onde vc é\\n\")\n",
        "time = input(\"Qual o seu time de futebol?\\n\")\n",
        "print(f'Você é de(a) {local} e o seu time é {time}.')"
      ],
      "execution_count": 10,
      "outputs": [
        {
          "output_type": "stream",
          "name": "stdout",
          "text": [
            "Diga qual é o seu nome\n",
            "Luiz Carlos\n",
            "Informe sua idade\n",
            "55\n",
            "O seu nome é Luiz Carlos e a sua idade é 55 anos.\n",
            "\n",
            "\n",
            "\n",
            "Diga de onde vc é\n",
            "Niterói\n",
            "Qual o seu time de futebol?\n",
            "Flamengo\n",
            "Você é de[a] Niterói e o seu time é Flamengo.\n"
          ]
        }
      ]
    }
  ]
}