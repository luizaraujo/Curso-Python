{
  "cells": [
    {
      "cell_type": "markdown",
      "metadata": {
        "id": "view-in-github",
        "colab_type": "text"
      },
      "source": [
        "<a href=\"https://colab.research.google.com/github/luizaraujo/Curso-Python/blob/main/Dados_Pronatec.ipynb\" target=\"_parent\"><img src=\"https://colab.research.google.com/assets/colab-badge.svg\" alt=\"Open In Colab\"/></a>"
      ]
    },
    {
      "cell_type": "code",
      "execution_count": null,
      "id": "d4e20af4",
      "metadata": {
        "id": "d4e20af4"
      },
      "outputs": [],
      "source": [
        "import pandas as pd"
      ]
    },
    {
      "cell_type": "code",
      "execution_count": null,
      "id": "0de7aea2",
      "metadata": {
        "id": "0de7aea2"
      },
      "outputs": [],
      "source": [
        "# Procurar armazenar o arquivo na mesma pasta, senão terá que escrever o caminho completo do arquivo"
      ]
    },
    {
      "cell_type": "code",
      "execution_count": null,
      "id": "6abd413f",
      "metadata": {
        "id": "6abd413f",
        "outputId": "c9d41702-13d3-48bd-d37e-52609f7a407f"
      },
      "outputs": [
        {
          "data": {
            "text/html": [
              "<div>\n",
              "<style scoped>\n",
              "    .dataframe tbody tr th:only-of-type {\n",
              "        vertical-align: middle;\n",
              "    }\n",
              "\n",
              "    .dataframe tbody tr th {\n",
              "        vertical-align: top;\n",
              "    }\n",
              "\n",
              "    .dataframe thead th {\n",
              "        text-align: right;\n",
              "    }\n",
              "</style>\n",
              "<table border=\"1\" class=\"dataframe\">\n",
              "  <thead>\n",
              "    <tr style=\"text-align: right;\">\n",
              "      <th></th>\n",
              "      <th>SIGLA_INSTITUICAO</th>\n",
              "      <th>NOME_UNIDADE_ENSINO</th>\n",
              "      <th>ANO</th>\n",
              "      <th>SIGLA_UF_UNIDADE_ENSINO</th>\n",
              "      <th>NOME_MUNICIPIO_UNIDADE_ENSINO</th>\n",
              "    </tr>\n",
              "  </thead>\n",
              "  <tbody>\n",
              "    <tr>\n",
              "      <th>0</th>\n",
              "      <td>IFAC</td>\n",
              "      <td>Campus Cruzeiro do Sul</td>\n",
              "      <td>2011</td>\n",
              "      <td>AC</td>\n",
              "      <td>Cruzeiro do Sul</td>\n",
              "    </tr>\n",
              "    <tr>\n",
              "      <th>1</th>\n",
              "      <td>IFAC</td>\n",
              "      <td>Campus Rio Branco</td>\n",
              "      <td>2011</td>\n",
              "      <td>AC</td>\n",
              "      <td>Rio Branco</td>\n",
              "    </tr>\n",
              "    <tr>\n",
              "      <th>2</th>\n",
              "      <td>IFAC</td>\n",
              "      <td>Campus Avançado Rio Branco Baixada do Sol</td>\n",
              "      <td>2014</td>\n",
              "      <td>AC</td>\n",
              "      <td>Rio Branco</td>\n",
              "    </tr>\n",
              "    <tr>\n",
              "      <th>3</th>\n",
              "      <td>IFAC</td>\n",
              "      <td>Campus Sena Madureira</td>\n",
              "      <td>2011</td>\n",
              "      <td>AC</td>\n",
              "      <td>Sena Madureira</td>\n",
              "    </tr>\n",
              "    <tr>\n",
              "      <th>4</th>\n",
              "      <td>IFAC</td>\n",
              "      <td>Campus Tarauac</td>\n",
              "      <td>2013</td>\n",
              "      <td>AC</td>\n",
              "      <td>Tarauac</td>\n",
              "    </tr>\n",
              "    <tr>\n",
              "      <th>...</th>\n",
              "      <td>...</td>\n",
              "      <td>...</td>\n",
              "      <td>...</td>\n",
              "      <td>...</td>\n",
              "      <td>...</td>\n",
              "    </tr>\n",
              "    <tr>\n",
              "      <th>660</th>\n",
              "      <td>IFTO</td>\n",
              "      <td>Campus Avançado Lagoa da Confusão</td>\n",
              "      <td>2014</td>\n",
              "      <td>TO</td>\n",
              "      <td>Lagoa da Confusão</td>\n",
              "    </tr>\n",
              "    <tr>\n",
              "      <th>661</th>\n",
              "      <td>IFTO</td>\n",
              "      <td>Campus Palmas</td>\n",
              "      <td>1993</td>\n",
              "      <td>TO</td>\n",
              "      <td>Palmas</td>\n",
              "    </tr>\n",
              "    <tr>\n",
              "      <th>662</th>\n",
              "      <td>IFTO</td>\n",
              "      <td>Campus Paraíso do Tocantins</td>\n",
              "      <td>2007</td>\n",
              "      <td>TO</td>\n",
              "      <td>Paraíso do Tocantins</td>\n",
              "    </tr>\n",
              "    <tr>\n",
              "      <th>663</th>\n",
              "      <td>IFTO</td>\n",
              "      <td>Campus Avançado Pedro Afonso</td>\n",
              "      <td>2014</td>\n",
              "      <td>TO</td>\n",
              "      <td>Pedro Afonso</td>\n",
              "    </tr>\n",
              "    <tr>\n",
              "      <th>664</th>\n",
              "      <td>IFTO</td>\n",
              "      <td>Campus Porto Nacional</td>\n",
              "      <td>2010</td>\n",
              "      <td>TO</td>\n",
              "      <td>Porto Nacional</td>\n",
              "    </tr>\n",
              "  </tbody>\n",
              "</table>\n",
              "<p>665 rows × 5 columns</p>\n",
              "</div>"
            ],
            "text/plain": [
              "    SIGLA_INSTITUICAO                        NOME_UNIDADE_ENSINO   ANO  \\\n",
              "0                IFAC                     Campus Cruzeiro do Sul  2011   \n",
              "1                IFAC                          Campus Rio Branco  2011   \n",
              "2                IFAC  Campus Avançado Rio Branco Baixada do Sol  2014   \n",
              "3                IFAC                      Campus Sena Madureira  2011   \n",
              "4                IFAC                            Campus Tarauac   2013   \n",
              "..                ...                                        ...   ...   \n",
              "660              IFTO          Campus Avançado Lagoa da Confusão  2014   \n",
              "661              IFTO                              Campus Palmas  1993   \n",
              "662              IFTO                Campus Paraíso do Tocantins  2007   \n",
              "663              IFTO               Campus Avançado Pedro Afonso  2014   \n",
              "664              IFTO                      Campus Porto Nacional  2010   \n",
              "\n",
              "    SIGLA_UF_UNIDADE_ENSINO NOME_MUNICIPIO_UNIDADE_ENSINO  \n",
              "0                        AC               Cruzeiro do Sul  \n",
              "1                        AC                    Rio Branco  \n",
              "2                        AC                    Rio Branco  \n",
              "3                        AC                Sena Madureira  \n",
              "4                        AC                      Tarauac   \n",
              "..                      ...                           ...  \n",
              "660                      TO             Lagoa da Confusão  \n",
              "661                      TO                        Palmas  \n",
              "662                      TO          Paraíso do Tocantins  \n",
              "663                      TO                  Pedro Afonso  \n",
              "664                      TO                Porto Nacional  \n",
              "\n",
              "[665 rows x 5 columns]"
            ]
          },
          "metadata": {},
          "output_type": "display_data"
        }
      ],
      "source": [
        "df = pd.read_csv('PDA_2020_Unidades_Rede_Federal_EPCT.csv', sep=';', encoding='cp1252') # Achei o encoding utf-8 -> (cp1252)\n",
        "\n",
        "display(df)"
      ]
    },
    {
      "cell_type": "code",
      "execution_count": null,
      "id": "6ff4a44c",
      "metadata": {
        "id": "6ff4a44c",
        "outputId": "61b10f3b-0d33-4b29-8fa8-7a6601efaa49"
      },
      "outputs": [
        {
          "data": {
            "text/html": [
              "<div>\n",
              "<style scoped>\n",
              "    .dataframe tbody tr th:only-of-type {\n",
              "        vertical-align: middle;\n",
              "    }\n",
              "\n",
              "    .dataframe tbody tr th {\n",
              "        vertical-align: top;\n",
              "    }\n",
              "\n",
              "    .dataframe thead th {\n",
              "        text-align: right;\n",
              "    }\n",
              "</style>\n",
              "<table border=\"1\" class=\"dataframe\">\n",
              "  <thead>\n",
              "    <tr style=\"text-align: right;\">\n",
              "      <th></th>\n",
              "      <th>SIGLA_INSTITUICAO</th>\n",
              "      <th>NOME_UNIDADE_ENSINO</th>\n",
              "      <th>ANO</th>\n",
              "      <th>SIGLA_UF_UNIDADE_ENSINO</th>\n",
              "      <th>NOME_MUNICIPIO_UNIDADE_ENSINO</th>\n",
              "    </tr>\n",
              "  </thead>\n",
              "  <tbody>\n",
              "    <tr>\n",
              "      <th>0</th>\n",
              "      <td>IFAC</td>\n",
              "      <td>Campus Cruzeiro do Sul</td>\n",
              "      <td>2011</td>\n",
              "      <td>AC</td>\n",
              "      <td>Cruzeiro do Sul</td>\n",
              "    </tr>\n",
              "    <tr>\n",
              "      <th>1</th>\n",
              "      <td>IFAC</td>\n",
              "      <td>Campus Rio Branco</td>\n",
              "      <td>2011</td>\n",
              "      <td>AC</td>\n",
              "      <td>Rio Branco</td>\n",
              "    </tr>\n",
              "    <tr>\n",
              "      <th>2</th>\n",
              "      <td>IFAC</td>\n",
              "      <td>Campus Avançado Rio Branco Baixada do Sol</td>\n",
              "      <td>2014</td>\n",
              "      <td>AC</td>\n",
              "      <td>Rio Branco</td>\n",
              "    </tr>\n",
              "    <tr>\n",
              "      <th>3</th>\n",
              "      <td>IFAC</td>\n",
              "      <td>Campus Sena Madureira</td>\n",
              "      <td>2011</td>\n",
              "      <td>AC</td>\n",
              "      <td>Sena Madureira</td>\n",
              "    </tr>\n",
              "    <tr>\n",
              "      <th>4</th>\n",
              "      <td>IFAC</td>\n",
              "      <td>Campus Tarauac</td>\n",
              "      <td>2013</td>\n",
              "      <td>AC</td>\n",
              "      <td>Tarauac</td>\n",
              "    </tr>\n",
              "  </tbody>\n",
              "</table>\n",
              "</div>"
            ],
            "text/plain": [
              "  SIGLA_INSTITUICAO                        NOME_UNIDADE_ENSINO   ANO  \\\n",
              "0              IFAC                     Campus Cruzeiro do Sul  2011   \n",
              "1              IFAC                          Campus Rio Branco  2011   \n",
              "2              IFAC  Campus Avançado Rio Branco Baixada do Sol  2014   \n",
              "3              IFAC                      Campus Sena Madureira  2011   \n",
              "4              IFAC                            Campus Tarauac   2013   \n",
              "\n",
              "  SIGLA_UF_UNIDADE_ENSINO NOME_MUNICIPIO_UNIDADE_ENSINO  \n",
              "0                      AC               Cruzeiro do Sul  \n",
              "1                      AC                    Rio Branco  \n",
              "2                      AC                    Rio Branco  \n",
              "3                      AC                Sena Madureira  \n",
              "4                      AC                      Tarauac   "
            ]
          },
          "execution_count": 16,
          "metadata": {},
          "output_type": "execute_result"
        }
      ],
      "source": [
        "# Mostra as 5 primeiras linhas\n",
        "\n",
        "df.head()  "
      ]
    },
    {
      "cell_type": "code",
      "execution_count": null,
      "id": "07aab748",
      "metadata": {
        "id": "07aab748",
        "outputId": "514740ca-5902-4dce-d029-cd01af5fe034"
      },
      "outputs": [
        {
          "data": {
            "text/plain": [
              "(665, 5)"
            ]
          },
          "execution_count": 17,
          "metadata": {},
          "output_type": "execute_result"
        }
      ],
      "source": [
        "# Mostra a quantidade de linhas e colunas\n",
        "\n",
        "df.shape  "
      ]
    },
    {
      "cell_type": "code",
      "execution_count": null,
      "id": "613a9400",
      "metadata": {
        "id": "613a9400",
        "outputId": "e3cc6a66-d2bb-45ec-d73b-231a5d955de0"
      },
      "outputs": [
        {
          "data": {
            "text/plain": [
              "SIGLA_INSTITUICAO                665\n",
              "NOME_UNIDADE_ENSINO              665\n",
              "ANO                              665\n",
              "SIGLA_UF_UNIDADE_ENSINO          665\n",
              "NOME_MUNICIPIO_UNIDADE_ENSINO    665\n",
              "dtype: int64"
            ]
          },
          "execution_count": 18,
          "metadata": {},
          "output_type": "execute_result"
        }
      ],
      "source": [
        "# Mostra quantidade\n",
        "\n",
        "df.count()   "
      ]
    },
    {
      "cell_type": "code",
      "execution_count": null,
      "id": "aa3f0c4f",
      "metadata": {
        "id": "aa3f0c4f",
        "outputId": "28e37611-3139-417d-86a8-f3bc2e9e38c0"
      },
      "outputs": [
        {
          "data": {
            "text/html": [
              "<div>\n",
              "<style scoped>\n",
              "    .dataframe tbody tr th:only-of-type {\n",
              "        vertical-align: middle;\n",
              "    }\n",
              "\n",
              "    .dataframe tbody tr th {\n",
              "        vertical-align: top;\n",
              "    }\n",
              "\n",
              "    .dataframe thead th {\n",
              "        text-align: right;\n",
              "    }\n",
              "</style>\n",
              "<table border=\"1\" class=\"dataframe\">\n",
              "  <thead>\n",
              "    <tr style=\"text-align: right;\">\n",
              "      <th></th>\n",
              "      <th>ANO</th>\n",
              "    </tr>\n",
              "  </thead>\n",
              "  <tbody>\n",
              "    <tr>\n",
              "      <th>count</th>\n",
              "      <td>665.000000</td>\n",
              "    </tr>\n",
              "    <tr>\n",
              "      <th>mean</th>\n",
              "      <td>2001.210526</td>\n",
              "    </tr>\n",
              "    <tr>\n",
              "      <th>std</th>\n",
              "      <td>24.789127</td>\n",
              "    </tr>\n",
              "    <tr>\n",
              "      <th>min</th>\n",
              "      <td>1909.000000</td>\n",
              "    </tr>\n",
              "    <tr>\n",
              "      <th>25%</th>\n",
              "      <td>2007.000000</td>\n",
              "    </tr>\n",
              "    <tr>\n",
              "      <th>50%</th>\n",
              "      <td>2010.000000</td>\n",
              "    </tr>\n",
              "    <tr>\n",
              "      <th>75%</th>\n",
              "      <td>2014.000000</td>\n",
              "    </tr>\n",
              "    <tr>\n",
              "      <th>max</th>\n",
              "      <td>2020.000000</td>\n",
              "    </tr>\n",
              "  </tbody>\n",
              "</table>\n",
              "</div>"
            ],
            "text/plain": [
              "               ANO\n",
              "count   665.000000\n",
              "mean   2001.210526\n",
              "std      24.789127\n",
              "min    1909.000000\n",
              "25%    2007.000000\n",
              "50%    2010.000000\n",
              "75%    2014.000000\n",
              "max    2020.000000"
            ]
          },
          "execution_count": 19,
          "metadata": {},
          "output_type": "execute_result"
        }
      ],
      "source": [
        "# Descreve as colunas numéricas\n",
        "\n",
        "df.describe()  "
      ]
    },
    {
      "cell_type": "code",
      "execution_count": null,
      "id": "d728ae5e",
      "metadata": {
        "id": "d728ae5e",
        "outputId": "49a55a0d-864d-4e05-dc98-86d85b9e9a94"
      },
      "outputs": [
        {
          "data": {
            "text/plain": [
              "SIGLA_INSTITUICAO                object\n",
              "NOME_UNIDADE_ENSINO              object\n",
              "ANO                               int64\n",
              "SIGLA_UF_UNIDADE_ENSINO          object\n",
              "NOME_MUNICIPIO_UNIDADE_ENSINO    object\n",
              "dtype: object"
            ]
          },
          "execution_count": 20,
          "metadata": {},
          "output_type": "execute_result"
        }
      ],
      "source": [
        "# Mostra o tipo de cada coluna\n",
        "\n",
        "df.dtypes  "
      ]
    },
    {
      "cell_type": "code",
      "execution_count": null,
      "id": "597d496c",
      "metadata": {
        "id": "597d496c",
        "outputId": "b569b8ed-c5f1-4664-b180-9f96cc7853b5"
      },
      "outputs": [
        {
          "data": {
            "text/plain": [
              "Campus São Carlos                                    2\n",
              "Campus Niterói                                       2\n",
              "Campus Itabaiana                                     2\n",
              "Campus Palmas                                        2\n",
              "Campus Santa Inês                                    2\n",
              "                                                    ..\n",
              "Uned Curvelo                                         1\n",
              "Campus Diamantina                                    1\n",
              "Uned Divinópolis                                     1\n",
              "Centro de Ensino e Desenvolvimento Agrário da UFV    1\n",
              "Campus Porto Nacional                                1\n",
              "Name: NOME_UNIDADE_ENSINO, Length: 659, dtype: int64"
            ]
          },
          "execution_count": 23,
          "metadata": {},
          "output_type": "execute_result"
        }
      ],
      "source": [
        "# Quantas unidades de ensino existem por Campus\n",
        "\n",
        "df['NOME_UNIDADE_ENSINO'].value_counts()"
      ]
    },
    {
      "cell_type": "code",
      "execution_count": null,
      "id": "e57a90f7",
      "metadata": {
        "id": "e57a90f7",
        "outputId": "dd4395d8-03e2-4145-b911-4a809c1dcd85"
      },
      "outputs": [
        {
          "data": {
            "text/plain": [
              "Rio de Janeiro    16\n",
              "Brasília          10\n",
              "Natal              6\n",
              "João Pessoa        4\n",
              "São Luís           4\n",
              "                  ..\n",
              "Congonhas          1\n",
              "Cataguases         1\n",
              "Carmo de Minas     1\n",
              "Campina Verde      1\n",
              "Porto Nacional     1\n",
              "Name: NOME_MUNICIPIO_UNIDADE_ENSINO, Length: 576, dtype: int64"
            ]
          },
          "execution_count": 24,
          "metadata": {},
          "output_type": "execute_result"
        }
      ],
      "source": [
        "# Quantas unidades de ensino em cada Município\n",
        "\n",
        "df['NOME_MUNICIPIO_UNIDADE_ENSINO'].value_counts()"
      ]
    },
    {
      "cell_type": "code",
      "execution_count": null,
      "id": "7401ab4f",
      "metadata": {
        "id": "7401ab4f",
        "outputId": "ac47ef7c-9497-4a27-802a-bf7a508a2e21"
      },
      "outputs": [
        {
          "data": {
            "text/plain": [
              "IFSP              37\n",
              "IFCE              34\n",
              "IFMA              29\n",
              "IFPR              26\n",
              "IFSC              23\n",
              "IFBA              23\n",
              "IFPB              22\n",
              "IFES              22\n",
              "IFRN              22\n",
              "IFPI              20\n",
              "IFMT              19\n",
              "IFMG              19\n",
              "IFPA              18\n",
              "IFRS              17\n",
              "IFAM              17\n",
              "IFAL              16\n",
              "IFPE              16\n",
              "IFRJ              15\n",
              "IFC               15\n",
              "IFG               14\n",
              "CPII              14\n",
              "IF Baiano         14\n",
              "IFSul             14\n",
              "IF Goiano         13\n",
              "IFF               12\n",
              "IF Farroupilha    11\n",
              "UTFPR             11\n",
              "IFTO              11\n",
              "IFNMG             11\n",
              "IFS               10\n",
              "IFMS              10\n",
              "IFB               10\n",
              "IF Sudeste MG     10\n",
              "IFRO              10\n",
              "IFSULDEMINAS       9\n",
              "IFTM               9\n",
              "CEFET-MG           9\n",
              "CEFET-RJ           8\n",
              "IF Sertão-PE       7\n",
              "IFAC               6\n",
              "IFRR               5\n",
              "IFAP               5\n",
              "UFRN               3\n",
              "UFPI               3\n",
              "UFSM               2\n",
              "UFPA               2\n",
              "UFPB               2\n",
              "UFRR               1\n",
              "UFMG               1\n",
              "UFV                1\n",
              "UFMA               1\n",
              "UFTM               1\n",
              "UFU                1\n",
              "UFRPE              1\n",
              "UFCG               1\n",
              "UFAL               1\n",
              "UFRRJ              1\n",
              "Name: SIGLA_INSTITUICAO, dtype: int64"
            ]
          },
          "execution_count": 28,
          "metadata": {},
          "output_type": "execute_result"
        }
      ],
      "source": [
        "# Mostra quantidade por unidades de ensino\n",
        "\n",
        "df['SIGLA_INSTITUICAO'].value_counts()"
      ]
    },
    {
      "cell_type": "code",
      "execution_count": null,
      "id": "bfc914d0",
      "metadata": {
        "id": "bfc914d0",
        "outputId": "e39ebe17-40bb-4e42-9d78-f0f604dc5159"
      },
      "outputs": [
        {
          "data": {
            "text/plain": [
              "<AxesSubplot:>"
            ]
          },
          "execution_count": 36,
          "metadata": {},
          "output_type": "execute_result"
        },
        {
          "data": {
            "image/png": "[encoded data removed]",
            "text/plain": [
              "<Figure size 432x288 with 1 Axes>"
            ]
          },
          "metadata": {
            "needs_background": "light"
          },
          "output_type": "display_data"
        }
      ],
      "source": [
        "# mostrando um gráfico de barras\n",
        "# Precisamos informar que queremos visualizar o gráfico\n",
        "%matplotlib inline\n",
        "# Mostrando unidades de ensino por UF e mostrar em um gráfico de barra\n",
        "df['SIGLA_UF_UNIDADE_ENSINO'].value_counts().plot.bar()"
      ]
    },
    {
      "cell_type": "code",
      "execution_count": null,
      "id": "ff9a1a69",
      "metadata": {
        "id": "ff9a1a69",
        "outputId": "87b38b02-bae9-4a84-dfba-675ca24e9691"
      },
      "outputs": [
        {
          "data": {
            "text/plain": [
              "<AxesSubplot:>"
            ]
          },
          "execution_count": 37,
          "metadata": {},
          "output_type": "execute_result"
        },
        {
          "data": {
            "image/png": "[encoded data removed]",
            "text/plain": [
              "<Figure size 432x288 with 1 Axes>"
            ]
          },
          "metadata": {
            "needs_background": "light"
          },
          "output_type": "display_data"
        }
      ],
      "source": [
        "# Criando uma variável para armazenar o dataframe (df)\n",
        "\n",
        "grafico = df['SIGLA_UF_UNIDADE_ENSINO'].value_counts()\n",
        "\n",
        "grafico.plot.bar()"
      ]
    },
    {
      "cell_type": "code",
      "execution_count": null,
      "id": "48289eca",
      "metadata": {
        "id": "48289eca"
      },
      "outputs": [],
      "source": [
        ""
      ]
    }
  ],
  "metadata": {
    "kernelspec": {
      "display_name": "Python 3 (ipykernel)",
      "language": "python",
      "name": "python3"
    },
    "language_info": {
      "codemirror_mode": {
        "name": "ipython",
        "version": 3
      },
      "file_extension": ".py",
      "mimetype": "text/x-python",
      "name": "python",
      "nbconvert_exporter": "python",
      "pygments_lexer": "ipython3",
      "version": "3.9.7"
    },
    "colab": {
      "name": "Dados_Pronatec.ipynb",
      "provenance": [],
      "collapsed_sections": [],
      "include_colab_link": true
    }
  },
  "nbformat": 4,
  "nbformat_minor": 5
}