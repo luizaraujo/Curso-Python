{
  "nbformat": 4,
  "nbformat_minor": 0,
  "metadata": {
    "colab": {
      "name": "For.ipynb",
      "provenance": [],
      "authorship_tag": "ABX9TyNUr14YxgE0ynjR+szi4Xw+",
      "include_colab_link": true
    },
    "kernelspec": {
      "name": "python3",
      "display_name": "Python 3"
    },
    "language_info": {
      "name": "python"
    }
  },
  "cells": [
    {
      "cell_type": "markdown",
      "metadata": {
        "id": "view-in-github",
        "colab_type": "text"
      },
      "source": [
        "<a href=\"https://colab.research.google.com/github/luizaraujo/Curso-Python/blob/main/For.ipynb\" target=\"_parent\"><img src=\"https://colab.research.google.com/assets/colab-badge.svg\" alt=\"Open In Colab\"/></a>"
      ]
    },
    {
      "cell_type": "markdown",
      "metadata": {
        "id": "5K_co_OEOCy-"
      },
      "source": [
        "### **Percorrendo uma string com FOR e separando com um traço.**"
      ]
    },
    {
      "cell_type": "code",
      "metadata": {
        "colab": {
          "base_uri": "https://localhost:8080/"
        },
        "id": "GAWDiHhvNBpw",
        "outputId": "7618a205-9996-4ce1-951a-860db2003cc5"
      },
      "source": [
        "for i in 'Luiz Carlos':\n",
        "    print(i, end='-')"
      ],
      "execution_count": null,
      "outputs": [
        {
          "output_type": "stream",
          "name": "stdout",
          "text": [
            "L-u-i-z- -C-a-r-l-o-s-"
          ]
        }
      ]
    },
    {
      "cell_type": "markdown",
      "metadata": {
        "id": "ETQn9E0vN2kl"
      },
      "source": [
        "### Percorrendo uma string com FOR e separando as letras com **espaço** negrito "
      ]
    },
    {
      "cell_type": "code",
      "metadata": {
        "colab": {
          "base_uri": "https://localhost:8080/"
        },
        "id": "8er3cJ4UNjSM",
        "outputId": "03a5e98b-cdb4-4d0b-de7e-09e3b4e0d5cb"
      },
      "source": [
        "for n in 'Clube de regatas Flamengo':\n",
        "    print(n, end=' ')"
      ],
      "execution_count": null,
      "outputs": [
        {
          "output_type": "stream",
          "name": "stdout",
          "text": [
            "C l u b e   d e   r e g a t a s   F l a m e n g o "
          ]
        }
      ]
    },
    {
      "cell_type": "markdown",
      "metadata": {
        "id": "OcF5_BBLvP5I"
      },
      "source": [
        "### **For com range 3 exemplos:**"
      ]
    },
    {
      "cell_type": "code",
      "metadata": {
        "colab": {
          "base_uri": "https://localhost:8080/"
        },
        "id": "2_8SpSMKvbB4",
        "outputId": "a35f5308-4114-46c6-9292-f24c5420448e"
      },
      "source": [
        "for i in range(15):\n",
        "    print(i, end=',')"
      ],
      "execution_count": null,
      "outputs": [
        {
          "output_type": "stream",
          "name": "stdout",
          "text": [
            "0,1,2,3,4,5,6,7,8,9,10,11,12,13,14,"
          ]
        }
      ]
    },
    {
      "cell_type": "code",
      "metadata": {
        "colab": {
          "base_uri": "https://localhost:8080/"
        },
        "id": "k-ZgsIMQvu35",
        "outputId": "ac2483f7-c576-4adc-9341-2315e2c7feb8"
      },
      "source": [
        "for i in range(1, 15, 2):\n",
        "    print(i, end=',')"
      ],
      "execution_count": null,
      "outputs": [
        {
          "output_type": "stream",
          "name": "stdout",
          "text": [
            "1,3,5,7,9,11,13,"
          ]
        }
      ]
    },
    {
      "cell_type": "code",
      "metadata": {
        "colab": {
          "base_uri": "https://localhost:8080/"
        },
        "id": "qSNvo1xUv7vP",
        "outputId": "0894554c-4d01-4dda-f369-b0da840dae96"
      },
      "source": [
        "for i in range(15, 0, -1):\n",
        "    print(i, end=',')"
      ],
      "execution_count": null,
      "outputs": [
        {
          "output_type": "stream",
          "name": "stdout",
          "text": [
            "15,14,13,12,11,10,9,8,7,6,5,4,3,2,1,"
          ]
        }
      ]
    },
    {
      "cell_type": "code",
      "metadata": {
        "colab": {
          "base_uri": "https://localhost:8080/"
        },
        "id": "RjKRikkYwLAm",
        "outputId": "4e3a5352-ea8e-4d61-8146-1cf89a0f79a7"
      },
      "source": [
        "for i in range(15, -16, -2):\n",
        "    print(i, end=',')"
      ],
      "execution_count": null,
      "outputs": [
        {
          "output_type": "stream",
          "name": "stdout",
          "text": [
            "15,13,11,9,7,5,3,1,-1,-3,-5,-7,-9,-11,-13,-15,"
          ]
        }
      ]
    },
    {
      "cell_type": "markdown",
      "metadata": {
        "id": "o1o_p6LWVd4t"
      },
      "source": [
        "### **Loops Aninhados**"
      ]
    },
    {
      "cell_type": "code",
      "metadata": {
        "colab": {
          "base_uri": "https://localhost:8080/"
        },
        "id": "J7J-9StnVkw2",
        "outputId": "96eebcfa-e5e6-4c33-c0eb-4a58744b2d02"
      },
      "source": [
        "for i in range(3):\n",
        "    for j in range(5):\n",
        "        print(i, j)"
      ],
      "execution_count": null,
      "outputs": [
        {
          "output_type": "stream",
          "name": "stdout",
          "text": [
            "0 0\n",
            "0 1\n",
            "0 2\n",
            "0 3\n",
            "0 4\n",
            "1 0\n",
            "1 1\n",
            "1 2\n",
            "1 3\n",
            "1 4\n",
            "2 0\n",
            "2 1\n",
            "2 2\n",
            "2 3\n",
            "2 4\n"
          ]
        }
      ]
    },
    {
      "cell_type": "markdown",
      "metadata": {
        "id": "gWrK7DM8Zs8l"
      },
      "source": [
        "### **Enumerate**"
      ]
    },
    {
      "cell_type": "code",
      "metadata": {
        "colab": {
          "base_uri": "https://localhost:8080/"
        },
        "id": "PHOSj1o7ZzDr",
        "outputId": "e9dbe46e-1d26-4fe7-f983-cb8975096bf0"
      },
      "source": [
        "for i, c in enumerate('Hello World!'):\n",
        "        print(i, c)"
      ],
      "execution_count": 8,
      "outputs": [
        {
          "output_type": "stream",
          "name": "stdout",
          "text": [
            "0 H\n",
            "1 e\n",
            "2 l\n",
            "3 l\n",
            "4 o\n",
            "5  \n",
            "6 W\n",
            "7 o\n",
            "8 r\n",
            "9 l\n",
            "10 d\n",
            "11 !\n"
          ]
        }
      ]
    }
  ]
}