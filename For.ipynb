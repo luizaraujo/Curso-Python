{
  "nbformat": 4,
  "nbformat_minor": 0,
  "metadata": {
    "colab": {
      "name": "For.ipynb",
      "provenance": [],
      "authorship_tag": "ABX9TyN/psrwtkmjMfs/3wQMzJgK",
      "include_colab_link": true
    },
    "kernelspec": {
      "name": "python3",
      "display_name": "Python 3"
    },
    "language_info": {
      "name": "python"
    }
  },
  "cells": [
    {
      "cell_type": "markdown",
      "metadata": {
        "id": "view-in-github",
        "colab_type": "text"
      },
      "source": [
        "<a href=\"https://colab.research.google.com/github/luizaraujo/Curso-Python/blob/main/For.ipynb\" target=\"_parent\"><img src=\"https://colab.research.google.com/assets/colab-badge.svg\" alt=\"Open In Colab\"/></a>"
      ]
    },
    {
      "cell_type": "markdown",
      "metadata": {
        "id": "5K_co_OEOCy-"
      },
      "source": [
        "### **Percorrendo uma string com FOR e separando com um traço.**"
      ]
    },
    {
      "cell_type": "code",
      "metadata": {
        "colab": {
          "base_uri": "https://localhost:8080/"
        },
        "id": "GAWDiHhvNBpw",
        "outputId": "7618a205-9996-4ce1-951a-860db2003cc5"
      },
      "source": [
        "for i in 'Luiz Carlos':\n",
        "    print(i, end='-')"
      ],
      "execution_count": 7,
      "outputs": [
        {
          "output_type": "stream",
          "name": "stdout",
          "text": [
            "L-u-i-z- -C-a-r-l-o-s-"
          ]
        }
      ]
    },
    {
      "cell_type": "markdown",
      "metadata": {
        "id": "ETQn9E0vN2kl"
      },
      "source": [
        "### Percorrendo uma string com FOR e separando as letras com **espaço** negrito "
      ]
    },
    {
      "cell_type": "code",
      "metadata": {
        "colab": {
          "base_uri": "https://localhost:8080/"
        },
        "id": "8er3cJ4UNjSM",
        "outputId": "03a5e98b-cdb4-4d0b-de7e-09e3b4e0d5cb"
      },
      "source": [
        "for n in 'Clube de regatas Flamengo':\n",
        "    print(n, end=' ')"
      ],
      "execution_count": 8,
      "outputs": [
        {
          "output_type": "stream",
          "name": "stdout",
          "text": [
            "C l u b e   d e   r e g a t a s   F l a m e n g o "
          ]
        }
      ]
    }
  ]
}