{
  "nbformat": 4,
  "nbformat_minor": 0,
  "metadata": {
    "colab": {
      "name": "Exercicios_com_FOR.ipynb",
      "provenance": [],
      "authorship_tag": "ABX9TyMKzFDfOqVDgPw/dCmozNOd",
      "include_colab_link": true
    },
    "kernelspec": {
      "name": "python3",
      "display_name": "Python 3"
    },
    "language_info": {
      "name": "python"
    }
  },
  "cells": [
    {
      "cell_type": "markdown",
      "metadata": {
        "id": "view-in-github",
        "colab_type": "text"
      },
      "source": [
        "<a href=\"https://colab.research.google.com/github/luizaraujo/Curso-Python/blob/main/Exercicios_com_FOR.ipynb\" target=\"_parent\"><img src=\"https://colab.research.google.com/assets/colab-badge.svg\" alt=\"Open In Colab\"/></a>"
      ]
    },
    {
      "cell_type": "code",
      "metadata": {
        "colab": {
          "base_uri": "https://localhost:8080/"
        },
        "id": "lcmG-feDUNG0",
        "outputId": "62adad97-93d7-4b96-e4ad-b9cf9dbf3cae"
      },
      "source": [
        "dic = {\n",
        "    1: 'a',\n",
        "    2: 'b',\n",
        "    3: 'c'\n",
        "}\n",
        "\n",
        "for x in dic.keys():\n",
        "    print(x)\n",
        "\n",
        "print(2 * ('-'))\n",
        "\n",
        "dic = {\n",
        "    1: 'a',\n",
        "    2: 'b',\n",
        "    3: 'c'\n",
        "}\n",
        "\n",
        "for x in dic.keys():\n",
        "    print(dic[x])\n"
      ],
      "execution_count": 5,
      "outputs": [
        {
          "output_type": "stream",
          "name": "stdout",
          "text": [
            "1\n",
            "2\n",
            "3\n",
            "--\n",
            "a\n",
            "b\n",
            "c\n"
          ]
        }
      ]
    }
  ]
}