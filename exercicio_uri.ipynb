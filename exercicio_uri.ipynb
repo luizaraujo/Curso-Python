{
  "nbformat": 4,
  "nbformat_minor": 0,
  "metadata": {
    "colab": {
      "name": "Untitled6.ipynb",
      "provenance": [],
      "authorship_tag": "ABX9TyP3THVDq4OCPGkUSVznzKHH",
      "include_colab_link": true
    },
    "kernelspec": {
      "name": "python3",
      "display_name": "Python 3"
    },
    "language_info": {
      "name": "python"
    }
  },
  "cells": [
    {
      "cell_type": "markdown",
      "metadata": {
        "id": "view-in-github",
        "colab_type": "text"
      },
      "source": [
        "<a href=\"https://colab.research.google.com/github/luizaraujo/Curso-Python/blob/main/exercicio_uri.ipynb\" target=\"_parent\"><img src=\"https://colab.research.google.com/assets/colab-badge.svg\" alt=\"Open In Colab\"/></a>"
      ]
    },
    {
      "cell_type": "code",
      "metadata": {
        "colab": {
          "base_uri": "https://localhost:8080/"
        },
        "id": "eni8w59GcxPl",
        "outputId": "c715ae5a-4a1e-4e94-e0b7-341c2295649a"
      },
      "source": [
        "codPeca1, numPeca1, valorPeca1 = input().split()\n",
        "codPeca1 = int(codPeca1)\n",
        "numPeca1 = int(numPeca1)\n",
        "valorPeca1 = float(valorPeca1)\n",
        "\n",
        "codPeca2, numPeca2, valorPeca2 = input().split()\n",
        "codPeca2 = int(codPeca2)\n",
        "numPeca2 = int(numPeca2)\n",
        "valorPeca2 = float(valorPeca2)\n",
        "\n",
        "total1 = (numPeca1 * valorPeca1)\n",
        "total2 = (numPeca2 * valorPeca2)\n",
        "\n",
        "print(f'VALOR A PAGAR: R$ {total1 + total2:.2F}')\n"
      ],
      "execution_count": 4,
      "outputs": [
        {
          "output_type": "stream",
          "name": "stdout",
          "text": [
            "001 5 10.00\n",
            "002 6 15.45\n",
            "VALOR A PAGAR: R$ 142.70.\n"
          ]
        }
      ]
    }
  ]
}