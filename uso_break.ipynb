{
  "nbformat": 4,
  "nbformat_minor": 0,
  "metadata": {
    "colab": {
      "name": "uso_break.ipynb",
      "provenance": [],
      "authorship_tag": "ABX9TyPlO04Sd9GdQV3EsU2iPpaX",
      "include_colab_link": true
    },
    "kernelspec": {
      "name": "python3",
      "display_name": "Python 3"
    },
    "language_info": {
      "name": "python"
    }
  },
  "cells": [
    {
      "cell_type": "markdown",
      "metadata": {
        "id": "view-in-github",
        "colab_type": "text"
      },
      "source": [
        "<a href=\"https://colab.research.google.com/github/luizaraujo/Curso-Python/blob/main/uso_break.ipynb\" target=\"_parent\"><img src=\"https://colab.research.google.com/assets/colab-badge.svg\" alt=\"Open In Colab\"/></a>"
      ]
    },
    {
      "cell_type": "code",
      "metadata": {
        "colab": {
          "base_uri": "https://localhost:8080/"
        },
        "id": "t0RKrOurH9Cx",
        "outputId": "5048f954-ab39-4df4-d8bb-0da969dac5be"
      },
      "source": [
        "lista_nome = ['Luiz Carlos', 'Alfredo', 'Carlos', 'Zeca', 'Claudia Cruz']\n",
        "\n",
        "for i in lista_nome:\n",
        "    if i == 'Claudia Cruz':\n",
        "        break\n",
        "    print(i)\n",
        "    \n",
        "\n",
        "print('Acabou!')"
      ],
      "execution_count": 27,
      "outputs": [
        {
          "output_type": "stream",
          "name": "stdout",
          "text": [
            "Luiz Carlos\n",
            "Alfredo\n",
            "Carlos\n",
            "Zeca\n",
            "Acabou!\n"
          ]
        }
      ]
    }
  ]
}