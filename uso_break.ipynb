{
  "nbformat": 4,
  "nbformat_minor": 0,
  "metadata": {
    "colab": {
      "name": "uso_break.ipynb",
      "provenance": [],
      "authorship_tag": "ABX9TyM9nZLk+WHFDwqaAnRrUyHe",
      "include_colab_link": true
    },
    "kernelspec": {
      "name": "python3",
      "display_name": "Python 3"
    },
    "language_info": {
      "name": "python"
    }
  },
  "cells": [
    {
      "cell_type": "markdown",
      "metadata": {
        "id": "view-in-github",
        "colab_type": "text"
      },
      "source": [
        "<a href=\"https://colab.research.google.com/github/luizaraujo/Curso-Python/blob/main/uso_break.ipynb\" target=\"_parent\"><img src=\"https://colab.research.google.com/assets/colab-badge.svg\" alt=\"Open In Colab\"/></a>"
      ]
    },
    {
      "cell_type": "code",
      "metadata": {
        "colab": {
          "base_uri": "https://localhost:8080/"
        },
        "id": "t0RKrOurH9Cx",
        "outputId": "d1b3b646-dba8-4b19-813b-460fa2bc16ae"
      },
      "source": [
        "lista_nome = ['Luiz Carlos', 'Alfredo', 'Carlos', 'Zeca', 'Claudia Cruz']\n",
        "\n",
        "for i in lista_nome:\n",
        "    if i == lista_nome[2]:\n",
        "        break\n",
        "    print(i)\n",
        "    \n",
        "\n",
        "print('Acabou!')\n",
        "\n",
        "print(15 * '*')\n",
        "\n",
        "lista_nome = ['Luiz Carlos', 'Alfredo', 'Carlos', 'Zeca', 'Claudia Cruz']\n",
        "\n",
        "for i in lista_nome:\n",
        "    if i == 'Zeca':\n",
        "        break\n",
        "    print(i)\n",
        "    \n",
        "\n",
        "print('Terminou!')"
      ],
      "execution_count": 4,
      "outputs": [
        {
          "output_type": "stream",
          "name": "stdout",
          "text": [
            "Luiz Carlos\n",
            "Alfredo\n",
            "Acabou!\n",
            "***************\n",
            "Luiz Carlos\n",
            "Alfredo\n",
            "Carlos\n",
            "Terminou!\n"
          ]
        }
      ]
    }
  ]
}