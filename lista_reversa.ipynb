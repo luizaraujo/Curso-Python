{
  "nbformat": 4,
  "nbformat_minor": 0,
  "metadata": {
    "colab": {
      "name": "lista_reversa.ipynb",
      "provenance": [],
      "authorship_tag": "ABX9TyPUPu7XBmJeVYNa2MNohP2j",
      "include_colab_link": true
    },
    "kernelspec": {
      "name": "python3",
      "display_name": "Python 3"
    },
    "language_info": {
      "name": "python"
    }
  },
  "cells": [
    {
      "cell_type": "markdown",
      "metadata": {
        "id": "view-in-github",
        "colab_type": "text"
      },
      "source": [
        "<a href=\"https://colab.research.google.com/github/luizaraujo/Curso-Python/blob/main/lista_reversa.ipynb\" target=\"_parent\"><img src=\"https://colab.research.google.com/assets/colab-badge.svg\" alt=\"Open In Colab\"/></a>"
      ]
    },
    {
      "cell_type": "markdown",
      "metadata": {
        "id": "qvo4Ir445V8e"
      },
      "source": [
        "# **Exercícios**"
      ]
    },
    {
      "cell_type": "markdown",
      "metadata": {
        "id": "0uIUJbnR5wUk"
      },
      "source": [
        "### **Exercício 01 - Crie um programa que receba 5 números inteiros e os imprima na ordem inversa em que foram digitados. Dica armazene os números em uma lista.**"
      ]
    },
    {
      "cell_type": "code",
      "metadata": {
        "colab": {
          "base_uri": "https://localhost:8080/"
        },
        "id": "aEU9XUd-5RJ6",
        "outputId": "3b7d8916-c7dc-42d1-fe2b-4aeee72bd262"
      },
      "source": [
        "numeros = [ ]\n",
        "num = int(input(\"Digite o primeiro número: \"))\n",
        "numeros.append(num)\n",
        "num = int(input(\"Digite o segundo múmero: \"))\n",
        "numeros.append(num)\n",
        "num = int(input(\"Digite o terceiro número: \"))\n",
        "numeros.append(num)\n",
        "num = int(input(\"Digite o quarto número: \"))\n",
        "numeros.append(num)\n",
        "num = int(input(\"Digite o quinto número: \"))\n",
        "numeros.append(num)\n",
        "numeros.reverse()\n",
        "print(numeros)\n",
        "     \n",
        "      \n",
        "      \n",
        "\n"
      ],
      "execution_count": 10,
      "outputs": [
        {
          "output_type": "stream",
          "name": "stdout",
          "text": [
            "Digite o primeiro número: 1\n",
            "Digite o segundo múmero: 3\n",
            "Digite o terceiro número: 5\n",
            "Digite o quarto número: 7\n",
            "Digite o quinto número: 9\n",
            "[9, 7, 5, 3, 1]\n"
          ]
        }
      ]
    }
  ]
}