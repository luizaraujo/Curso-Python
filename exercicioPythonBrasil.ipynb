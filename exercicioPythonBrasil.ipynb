{
  "nbformat": 4,
  "nbformat_minor": 0,
  "metadata": {
    "colab": {
      "name": "exercicioPythonBrasil.ipynb",
      "provenance": [],
      "authorship_tag": "ABX9TyPsdNe0lpETzA/Ef5lwTbiU",
      "include_colab_link": true
    },
    "kernelspec": {
      "name": "python3",
      "display_name": "Python 3"
    },
    "language_info": {
      "name": "python"
    }
  },
  "cells": [
    {
      "cell_type": "markdown",
      "metadata": {
        "id": "view-in-github",
        "colab_type": "text"
      },
      "source": [
        "<a href=\"https://colab.research.google.com/github/luizaraujo/Curso-Python/blob/main/exercicioPythonBrasil.ipynb\" target=\"_parent\"><img src=\"https://colab.research.google.com/assets/colab-badge.svg\" alt=\"Open In Colab\"/></a>"
      ]
    },
    {
      "cell_type": "markdown",
      "source": [
        "## **Exercicícios Python Brasil**"
      ],
      "metadata": {
        "id": "o6P01gNhmW8S"
      }
    },
    {
      "cell_type": "markdown",
      "source": [
        "**Exercício Nº 01 - Faça um Programa que mostre a mensagem \"Alo mundo\" na tela.**"
      ],
      "metadata": {
        "id": "5nV-VyZ-mkBH"
      }
    },
    {
      "cell_type": "code",
      "execution_count": null,
      "metadata": {
        "colab": {
          "base_uri": "https://localhost:8080/"
        },
        "id": "ADc-fgC4i9-p",
        "outputId": "03474e4a-df9f-4cd6-9fbc-774ec8231e5e"
      },
      "outputs": [
        {
          "output_type": "stream",
          "name": "stdout",
          "text": [
            "Alo, Mundo!\n"
          ]
        }
      ],
      "source": [
        "mensagem = 'Alo, Mundo!'\n",
        "print(mensagem)"
      ]
    },
    {
      "cell_type": "markdown",
      "source": [
        "**Exercício Nº 02 - Faça um Programa que peça um número e então mostre a mensagem O número informado foi [número].**"
      ],
      "metadata": {
        "id": "AF9UpKuims7w"
      }
    },
    {
      "cell_type": "code",
      "source": [
        "numero = int(input('Digite um número: '))\n",
        "print(f'O número informado foi {numero}')"
      ],
      "metadata": {
        "colab": {
          "base_uri": "https://localhost:8080/"
        },
        "id": "xYSslOScmyo_",
        "outputId": "7065eaac-9536-48b9-842d-4a7f725e6b47"
      },
      "execution_count": null,
      "outputs": [
        {
          "output_type": "stream",
          "name": "stdout",
          "text": [
            "Digite um número: 5\n",
            "O número informado foi 5\n"
          ]
        }
      ]
    },
    {
      "cell_type": "markdown",
      "source": [
        "### **Exercício Nº 03 - Faça um Programa que peça dois números e imprima a soma.**"
      ],
      "metadata": {
        "id": "awtFoiFdnPaP"
      }
    },
    {
      "cell_type": "code",
      "source": [
        "num1 = int(input('Digite o primeiro número: '))\n",
        "num2 = int(input('Digite o segundo numero: '))\n",
        "soma = num1 + num2\n",
        "print(f'A soma dos numeros {num1} e {num2} é {soma}')"
      ],
      "metadata": {
        "colab": {
          "base_uri": "https://localhost:8080/"
        },
        "id": "3fExyGZsnWH_",
        "outputId": "08d67f4b-736f-4383-c864-078cf758d1b3"
      },
      "execution_count": null,
      "outputs": [
        {
          "output_type": "stream",
          "name": "stdout",
          "text": [
            "Digite o primeiro número: 5\n",
            "Digite o segundo numero: 15\n",
            "A soma dos numeros 5 e 15 é 20\n"
          ]
        }
      ]
    },
    {
      "cell_type": "markdown",
      "source": [
        "**Exercicio Nº 04 - Faça um Programa que peça as 4 notas bimestrais e mostre a média.**"
      ],
      "metadata": {
        "id": "lFv1ZaDwn_Wo"
      }
    },
    {
      "cell_type": "code",
      "source": [
        "nota1 = float(input('Digite a 1ª nota: '))\n",
        "nota2 = float(input('Digite a 2ª nota: '))\n",
        "nota3 = float(input('Digite a 3ª nota: '))\n",
        "nota4 = float(input('Digite a 4ª nota: '))\n",
        "media = (nota1 + nota2 + nota3 + nota4) / 4\n",
        "print(f'A média das notas {nota1}, {nota2}, {nota3} e {nota4} foi {media:.2f}')"
      ],
      "metadata": {
        "colab": {
          "base_uri": "https://localhost:8080/"
        },
        "id": "wx5996sEoGqO",
        "outputId": "7cba17e6-2335-4082-815c-49461bc22d1c"
      },
      "execution_count": null,
      "outputs": [
        {
          "output_type": "stream",
          "name": "stdout",
          "text": [
            "Digite a 1ª nota: 4.1\n",
            "Digite a 2ª nota: 5.6\n",
            "Digite a 3ª nota: 7.8\n",
            "Digite a 4ª nota: 9.5\n",
            "A média das notas 4.1, 5.6, 7.8 e 9.5 foi 6.75\n"
          ]
        }
      ]
    },
    {
      "cell_type": "markdown",
      "source": [
        "**Exercício Nº 05 - Faça um Programa que converta metros para centímetros.**"
      ],
      "metadata": {
        "id": "1FyFQIVKpWR0"
      }
    },
    {
      "cell_type": "code",
      "source": [
        "metro = float(input('Digite um valor em metros: '))\n",
        "centimetro = metro * 100\n",
        "print(f'Voce digitou {metro} metro(s) e convertendo para centímetros ficou em {centimetro} cm.')"
      ],
      "metadata": {
        "colab": {
          "base_uri": "https://localhost:8080/"
        },
        "id": "NlsYA0q2pdHL",
        "outputId": "fb45b0ce-4cae-4c90-d675-fc9843c71a93"
      },
      "execution_count": null,
      "outputs": [
        {
          "output_type": "stream",
          "name": "stdout",
          "text": [
            "Digite um valor em metros: 3\n",
            "Voce digitou 3.0 metro(s) e convertendo para centímetros ficou em 300.0 cm.\n"
          ]
        }
      ]
    },
    {
      "cell_type": "markdown",
      "source": [
        "**Exercício Nº 06 - Faça um Programa que peça o raio de um círculo, calcule e mostre sua área.**"
      ],
      "metadata": {
        "id": "u2pISMM_1gZC"
      }
    },
    {
      "cell_type": "code",
      "source": [
        "raio = float(input('Digite a medida do raio do círculo: '))\n",
        "area = (3.1415 * raio ** 2)\n",
        "print(f'O valor da área do circulo é de {area:.3f}')"
      ],
      "metadata": {
        "colab": {
          "base_uri": "https://localhost:8080/"
        },
        "id": "LuRNeHAo1poo",
        "outputId": "0f639916-ef52-40e6-b832-15749eaeac29"
      },
      "execution_count": null,
      "outputs": [
        {
          "output_type": "stream",
          "name": "stdout",
          "text": [
            "Digite a medida do raio do círculo: 3\n",
            "O valor da área do circulo é de 28.274\n"
          ]
        }
      ]
    },
    {
      "cell_type": "markdown",
      "source": [
        "**Exercício Nº 07 - Faça um Programa que calcule a área de um quadrado, em seguida mostre o dobro desta área para o usuário.**"
      ],
      "metadata": {
        "id": "MCHVu8Zv3iji"
      }
    },
    {
      "cell_type": "code",
      "source": [
        "medida = float(input('Digite uma das medidas do quadrado: '))\n",
        "area_quadrado = medida ** 2\n",
        "print(f'A área total do quadrado é de {area_quadrado} metros e seu dobro será {area_quadrado * 2} metros')\n"
      ],
      "metadata": {
        "colab": {
          "base_uri": "https://localhost:8080/"
        },
        "id": "Xkf5ZwkA4N9M",
        "outputId": "3b331470-afd9-4f36-d67c-e38f150ca275"
      },
      "execution_count": null,
      "outputs": [
        {
          "output_type": "stream",
          "name": "stdout",
          "text": [
            "Digite uma das medidas do quadrado: 3.5\n",
            "A área total do quadrado é de 12.25 metros e seu dobro será 24.5 metros\n"
          ]
        }
      ]
    },
    {
      "cell_type": "markdown",
      "source": [
        "**Exercício Nº 08 - Faça um Programa que pergunte quanto você ganha por hora e o número de horas trabalhadas no mês. Calcule e mostre o total do seu salário no referido mês.**"
      ],
      "metadata": {
        "id": "KnwcsDO45ox8"
      }
    },
    {
      "cell_type": "code",
      "source": [
        "vlr_hora = float(input('Quanto você ganha por hora? '))\n",
        "hrs_trb_mes = float(input('Quantas horas você trabalha por mês? '))\n",
        "print(f'Você trabalhou {hrs_trb_mes} este mês e seu salário será de {(vlr_hora * hrs_trb_mes):.2f}')"
      ],
      "metadata": {
        "colab": {
          "base_uri": "https://localhost:8080/"
        },
        "id": "eRW6OTwR5zZL",
        "outputId": "7336a5df-9a61-476d-d3ef-46307c9fb3b3"
      },
      "execution_count": null,
      "outputs": [
        {
          "output_type": "stream",
          "name": "stdout",
          "text": [
            "Quanto você ganha por hora? 5.40\n",
            "Quantas horas você trabalha por mês? 30\n",
            "Você trabalhou 30.0 estte mês e seu salário será de 162.00\n"
          ]
        }
      ]
    },
    {
      "cell_type": "markdown",
      "source": [
        "**Exercício Nº 09 - Faça um Programa que peça a temperatura em graus Fahrenheit, transforme e mostre a temperatura em graus Celsius. C = 5 * ((F-32) / 9).**"
      ],
      "metadata": {
        "id": "0CXigMj07MrD"
      }
    },
    {
      "cell_type": "code",
      "source": [
        "fah = float(input('Digite a temperatura em Fahrenheit: '))\n",
        "celsius = 5 * ((fah - 32) / 9)\n",
        "print(f'A mediada em Fahrenheit é de {fah} e convertida para Celsius é de {celsius:.1f}')"
      ],
      "metadata": {
        "colab": {
          "base_uri": "https://localhost:8080/"
        },
        "id": "yJ25Q0JY7vhj",
        "outputId": "71d0e0f5-13c3-4dc8-c666-0fe51a8261c4"
      },
      "execution_count": null,
      "outputs": [
        {
          "output_type": "stream",
          "name": "stdout",
          "text": [
            "Digite a temperatura em Fahrenheit: 15\n",
            "A mediada em Fahrenheit é de 15.0 e convertida para Celsius é de -9.4\n"
          ]
        }
      ]
    },
    {
      "cell_type": "markdown",
      "source": [
        "**Exercício Nº 10 - Faça um Programa que peça a temperatura em graus Celsius, transforme e mostre em graus Fahrenheit. F = C x 1,8 + 32**"
      ],
      "metadata": {
        "id": "X53rgeas9-4o"
      }
    },
    {
      "cell_type": "code",
      "source": [
        "celsius = float(input('Digite a temperatura em Grau Celsius: '))\n",
        "fah = celsius * 1.8 + 32\n",
        "print(f'A temperatura em Graus Célsius é de {celsius} graus e convertida para Fahrenheit é {fah:.1f} graus.')"
      ],
      "metadata": {
        "colab": {
          "base_uri": "https://localhost:8080/"
        },
        "id": "aT09fUjI-H5f",
        "outputId": "12c65b44-8536-4cfa-feea-b7250ed8135a"
      },
      "execution_count": null,
      "outputs": [
        {
          "output_type": "stream",
          "name": "stdout",
          "text": [
            "Digite a temperatura em Grau Celsius: 37\n",
            "A temperatura em Graus Célsius é de 37.0 graus e convertida para Fahrenheit é 98.6 graus.\n"
          ]
        }
      ]
    },
    {
      "cell_type": "markdown",
      "source": [
        "#####**Exercício Nº 11 - Faça um Programa que peça 2 números inteiros e um número real. Calcule e mostre: 1 - O produto do dobro do primeiro com metade do segundo; 2 - A soma do triplo do primeiro com o terceiro; 3 - O terceiro elevado ao cubo.**\n",
        "\n",
        " "
      ],
      "metadata": {
        "id": "KI3uwck3ATH4"
      }
    },
    {
      "cell_type": "code",
      "source": [
        "num1 = int(input('Digite o primeiro número inteiro: '))\n",
        "num2 = int(input('Digite o segundo número inteiro: '))\n",
        "num3 = float(input('Digite o terceiro número decimal: '))\n",
        "print(f'A resposta do Item 1 é {float((num1 * 2) * (num2 / 2))}')\n",
        "print(f'A resposta do Item 2 é {float((num1 * 3) + num3)}')\n",
        "print(f'A resposta do Item 3 é {(num3 ** 3):.2f}')"
      ],
      "metadata": {
        "colab": {
          "base_uri": "https://localhost:8080/"
        },
        "id": "mCpl5Q8nAmQ1",
        "outputId": "16e3372b-821b-494e-ff37-5684f46fee58"
      },
      "execution_count": null,
      "outputs": [
        {
          "output_type": "stream",
          "name": "stdout",
          "text": [
            "Digite o primeiro número inteiro: 3\n",
            "Digite o segundo número inteiro: 4\n",
            "Digite o terceiro número decimal: 5.4\n",
            "A resposta do Item 1 é 12.0\n",
            "A resposta do Item 2 é 14.4\n",
            "A resposta do Item 3 é 157.46\n"
          ]
        }
      ]
    },
    {
      "cell_type": "markdown",
      "source": [
        "**Exercício Nº 12 - Tendo como dados de entrada a altura de uma pessoa, construa um algoritmo que calcule seu peso ideal, usando a seguinte fórmula: (72.7*altura) - 58 texto em negrito**"
      ],
      "metadata": {
        "id": "8_Wpt8RgGbTd"
      }
    },
    {
      "cell_type": "code",
      "source": [
        "altura = float(input('Digite a sua altura: '))\n",
        "peso_ideal = (72.7 * altura) - 58\n",
        "print(f'O seu peso ideal é {peso_ideal:.1f}')"
      ],
      "metadata": {
        "colab": {
          "base_uri": "https://localhost:8080/"
        },
        "id": "Y_Mu98TZGpv7",
        "outputId": "7d5a3c28-5fc2-4012-b1f8-89b907dda89a"
      },
      "execution_count": null,
      "outputs": [
        {
          "output_type": "stream",
          "name": "stdout",
          "text": [
            "Digite a sua altura: 1.87\n",
            "O seu peso ideal é 77.9\n"
          ]
        }
      ]
    },
    {
      "cell_type": "markdown",
      "source": [
        "####Exercicio Nº 13 - Tendo como dado de entrada a altura (h) de uma pessoa, construa um algoritmo que calcule seu peso ideal, utilizando as seguintes fórmulas: A - Para homens: (72.7*h) - 58 --- B - Para mulheres: (62.1*h) - 44.7"
      ],
      "metadata": {
        "id": "BZt8jqFaUnVm"
      }
    },
    {
      "cell_type": "code",
      "source": [
        "altura = float(input('Digite sua altura: '))\n",
        "sexo = input('Qual o seu sexo? [M - Masc ou F - Fem]: ').upper()\n",
        "\n",
        "if sexo == 'M':\n",
        "    pesoM = (72.7 * altura) - 58\n",
        "    print(f'Seu peso ideal é {pesoM}')\n",
        "else:\n",
        "    pesoF = (62.1 * altura) - 44.7\n",
        "    print(f'Seu peso ideal é {pesoF}')\n"
      ],
      "metadata": {
        "colab": {
          "base_uri": "https://localhost:8080/"
        },
        "id": "jH05B1OWU8Z0",
        "outputId": "643c08b5-d683-4064-cefc-16a631b85749"
      },
      "execution_count": null,
      "outputs": [
        {
          "output_type": "stream",
          "name": "stdout",
          "text": [
            "Digite sua altura: 1.87\n",
            "Qual o seu sexo? [M - Masc ou F - Fem]: m\n",
            "Seu peso ideal é 77.94900000000001\n"
          ]
        }
      ]
    },
    {
      "cell_type": "markdown",
      "source": [
        "**Exercício Nº 14** - João Papo-de-Pescador, homem de bem, comprou um microcomputador para controlar o rendimento diário de seu trabalho. Toda vez que ele traz um peso de peixes maior que o estabelecido pelo regulamento de pesca do estado de São Paulo (50 quilos) deve pagar uma multa de R$ 4,00 por quilo excedente. João precisa que você faça um programa que leia a variável peso (peso de peixes) e calcule o excesso. Gravar na variável excesso a quantidade de quilos além do limite e na variável multa o valor da multa que João deverá pagar. Imprima os dados do programa com as mensagens adequadas."
      ],
      "metadata": {
        "id": "QUZD6FKr9tGq"
      }
    },
    {
      "cell_type": "code",
      "source": [
        "peso = float(input('Qual o peso do peixe? '))\n",
        "multa = 4.00\n",
        "excesso = 0\n",
        "if peso > 50:\n",
        "    excesso = (peso - 50) * multa\n",
        "    print(f'O valor a pagar pelo excesso é de {multa:.2f}')\n",
        "else:\n",
        "    print(f'A pesagem dos peixes estão dentro do padrão do regulamento do estado de SP!')\n",
        "\n"
      ],
      "metadata": {
        "colab": {
          "base_uri": "https://localhost:8080/"
        },
        "id": "ga-S2u7896mH",
        "outputId": "9f50406b-ee73-46d2-c336-f9463930dfcc"
      },
      "execution_count": null,
      "outputs": [
        {
          "output_type": "stream",
          "name": "stdout",
          "text": [
            "Qual o peso do peixe? 55\n",
            "O valor a pagar pelo excesso é de 4.00\n"
          ]
        }
      ]
    },
    {
      "cell_type": "markdown",
      "source": [
        "**Exercício Nº 15** - Faça um Programa que pergunte quanto você ganha por hora e o número de horas trabalhadas no mês. Calcule e mostre o total do seu salário no referido mês, sabendo-se que são descontados 11% para o Imposto de Renda, 8% para o INSS e 5% para o sindicato, faça um programa que nos dê:\n"
      ],
      "metadata": {
        "id": "zlCfJAVqh0r3"
      }
    },
    {
      "cell_type": "markdown",
      "source": [
        "a. Salário Bruto,  \n",
        "b. Quanto pagou ao INSS,  \n",
        "c. Quanto pagou ao sindicato,  \n",
        "d. O Salário Líquido, \n",
        "e. Calcule os descontos e o salário líquido, conforme a tabela abaixo:\n",
        "\n",
        "\n"
      ],
      "metadata": {
        "id": "QdaVxrHPrLYG"
      }
    },
    {
      "cell_type": "markdown",
      "source": [
        "+ Salário Bruto : R$\n",
        "- IR (11%) : \n",
        "- INSS (8%) :\n",
        "- Sindicato (5%) :\n",
        "= Salário Líquido :\n",
        "\n",
        "Obs: Mostrar em Reais"
      ],
      "metadata": {
        "id": "8PWfCrWlsmTn"
      }
    },
    {
      "cell_type": "code",
      "source": [
        "valorRecebidoPorHora = float(input('Digite o valor a receber por hora: '))\n",
        "quantHoraTrabPorMes = int(input('Digite a quantidade de horas trabalhadas no mês: '))\n",
        "salarioBruto = valorRecebidoPorHora * quantHoraTrabPorMes\n",
        "descIR = salarioBruto * (11 / 100)\n",
        "descINSS = salarioBruto * (8 / 100)\n",
        "descSindicato = salarioBruto *  (5 / 100)\n",
        "totalDescontos = descINSS + descSindicato + descIR\n",
        "salarioLiquido = salarioBruto - totalDescontos\n",
        "\n",
        "print(f'O valor do salário Bruto é de R${salarioBruto:.2f}')\n",
        "print(f'O valor de desconto de Imposto de renda será de R${descIR:.2f}')\n",
        "print(f'O valor de desconto do INSS será de R${descINSS:.2f}')\n",
        "print(f'O valor de desconto do sindicato é de R${descSindicato:.2f}')\n",
        "print(f'O valor total dos descontos é de R${totalDescontos:.2f} e o seu Salário Líquido foi R${salarioLiquido:.2f}')"
      ],
      "metadata": {
        "colab": {
          "base_uri": "https://localhost:8080/"
        },
        "id": "mai6P6vythOD",
        "outputId": "dafe7241-b188-46d1-fae0-ce57b2a4e10e"
      },
      "execution_count": 8,
      "outputs": [
        {
          "output_type": "stream",
          "name": "stdout",
          "text": [
            "Digite o valor a receber por hora: 26\n",
            "Digite a quantidade de horas trabalhadas no mês: 220\n",
            "O valor do salário Bruto é de R$5720.00\n",
            "O valor de desconto de Imposto de renda será de R$629.20\n",
            "O valor de desconto do INSS será de R$457.60\n",
            "O valor de desconto do sindicato é de R$286.00\n",
            "O valor total dos descontos é de R$1372.80 e o seu Salário Líquido foi R$4347.20\n"
          ]
        }
      ]
    },
    {
      "cell_type": "markdown",
      "source": [
        "**Exercício Nº 16** - Faça um programa para uma loja de tintas. O programa deverá pedir o tamanho em metros quadrados da área a ser pintada. Considere que a cobertura da tinta é de 1 litro para cada 3 metros quadrados e que a tinta é vendida em latas de 18 litros, que custam R$ 80,00. Informe ao usuário a quantidades de latas de tinta a serem compradas e o preço total."
      ],
      "metadata": {
        "id": "FRHOXwqe3Yn_"
      }
    },
    {
      "cell_type": "code",
      "source": [
        "tamArea = float(input('Qual o tamanho da área a ser pintada? '))\n",
        "area_quadrado = tamArea ** 2\n",
        "vlrLitro = 80 / 18\n",
        "print(f'{area_quadrado} m²')\n",
        "print(f'A área a ser pintada foi de {area_quadrado:.1f} m² e serão gastos {area_quadrado / 3:.1f} litros de tinta ')\n",
        "print(f'E o valor gasto é de R${(area_quadrado / 3) * vlrLitro:.2f}')"
      ],
      "metadata": {
        "colab": {
          "base_uri": "https://localhost:8080/"
        },
        "id": "3qOHSRoW3rue",
        "outputId": "6b70eff2-285d-4556-ad6d-e587cb9ef07f"
      },
      "execution_count": 20,
      "outputs": [
        {
          "output_type": "stream",
          "name": "stdout",
          "text": [
            "Qual o tamanho da área a ser pintada? 4\n",
            "16.0 m²\n",
            "A área a ser pintada foi de 16.0 m² e serão gastos 5.3 litros de tinta \n",
            "E o valor gasto é de R$23.70\n"
          ]
        }
      ]
    }
  ]
}