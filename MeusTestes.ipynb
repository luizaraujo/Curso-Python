{
  "nbformat": 4,
  "nbformat_minor": 0,
  "metadata": {
    "colab": {
      "name": "MeusTestes.ipynb",
      "provenance": [],
      "authorship_tag": "ABX9TyPPc5c0RRBKRTuwKdh5pizy",
      "include_colab_link": true
    },
    "kernelspec": {
      "name": "python3",
      "display_name": "Python 3"
    },
    "language_info": {
      "name": "python"
    }
  },
  "cells": [
    {
      "cell_type": "markdown",
      "metadata": {
        "id": "view-in-github",
        "colab_type": "text"
      },
      "source": [
        "<a href=\"https://colab.research.google.com/github/luizaraujo/Curso-Python/blob/main/MeusTestes.ipynb\" target=\"_parent\"><img src=\"https://colab.research.google.com/assets/colab-badge.svg\" alt=\"Open In Colab\"/></a>"
      ]
    },
    {
      "cell_type": "code",
      "source": [
        "nome = input('Escreva seu nome:\\n')\n",
        "\n",
        "idade = int(input('Diga sua idade:\\n'))    \n",
        "print(f'Seu nome é {nome} e sua idade é {idade}')"
      ],
      "metadata": {
        "colab": {
          "base_uri": "https://localhost:8080/"
        },
        "id": "W4ImFWc0Tncj",
        "outputId": "91a027c6-bed4-475a-f237-e67dc8e15f6d"
      },
      "execution_count": 1,
      "outputs": [
        {
          "output_type": "stream",
          "name": "stdout",
          "text": [
            "Escreva seu nome:\n",
            "Karen\n",
            "Diga sua idade:\n",
            "19\n",
            "Seu nome é Karen e sua idade é 19\n"
          ]
        }
      ]
    },
    {
      "cell_type": "code",
      "source": [
        "import pandas as pd\n",
        "import numpy as np\n",
        "\n",
        "df = pd.DataFrame({'Aluno' : [\"Wilfred\", \"Abbie\", \"Harry\", \"Julia\", \"Carrie\"],\n",
        "                   'Faltas' : [3,4,2,1,4],\n",
        "                   'Prova' : [2,7,5,10,6],\n",
        "                   'Seminário': [8.5,7.5,9.0,7.5,8.0]})\n",
        "df"
      ],
      "metadata": {
        "colab": {
          "base_uri": "https://localhost:8080/",
          "height": 206
        },
        "id": "7zr4w15Pkep5",
        "outputId": "0e3dc0f8-ae89-475b-d144-d4fdc12cff30"
      },
      "execution_count": null,
      "outputs": [
        {
          "output_type": "execute_result",
          "data": {
            "text/plain": [
              "     Aluno  Faltas  Prova  Seminário\n",
              "0  Wilfred       3      2        8.5\n",
              "1    Abbie       4      7        7.5\n",
              "2    Harry       2      5        9.0\n",
              "3    Julia       1     10        7.5\n",
              "4   Carrie       4      6        8.0"
            ],
            "text/html": [
              "\n",
              "  <div id=\"df-17715144-ac45-464e-bd6d-132126a75063\">\n",
              "    <div class=\"colab-df-container\">\n",
              "      <div>\n",
              "<style scoped>\n",
              "    .dataframe tbody tr th:only-of-type {\n",
              "        vertical-align: middle;\n",
              "    }\n",
              "\n",
              "    .dataframe tbody tr th {\n",
              "        vertical-align: top;\n",
              "    }\n",
              "\n",
              "    .dataframe thead th {\n",
              "        text-align: right;\n",
              "    }\n",
              "</style>\n",
              "<table border=\"1\" class=\"dataframe\">\n",
              "  <thead>\n",
              "    <tr style=\"text-align: right;\">\n",
              "      <th></th>\n",
              "      <th>Aluno</th>\n",
              "      <th>Faltas</th>\n",
              "      <th>Prova</th>\n",
              "      <th>Seminário</th>\n",
              "    </tr>\n",
              "  </thead>\n",
              "  <tbody>\n",
              "    <tr>\n",
              "      <th>0</th>\n",
              "      <td>Wilfred</td>\n",
              "      <td>3</td>\n",
              "      <td>2</td>\n",
              "      <td>8.5</td>\n",
              "    </tr>\n",
              "    <tr>\n",
              "      <th>1</th>\n",
              "      <td>Abbie</td>\n",
              "      <td>4</td>\n",
              "      <td>7</td>\n",
              "      <td>7.5</td>\n",
              "    </tr>\n",
              "    <tr>\n",
              "      <th>2</th>\n",
              "      <td>Harry</td>\n",
              "      <td>2</td>\n",
              "      <td>5</td>\n",
              "      <td>9.0</td>\n",
              "    </tr>\n",
              "    <tr>\n",
              "      <th>3</th>\n",
              "      <td>Julia</td>\n",
              "      <td>1</td>\n",
              "      <td>10</td>\n",
              "      <td>7.5</td>\n",
              "    </tr>\n",
              "    <tr>\n",
              "      <th>4</th>\n",
              "      <td>Carrie</td>\n",
              "      <td>4</td>\n",
              "      <td>6</td>\n",
              "      <td>8.0</td>\n",
              "    </tr>\n",
              "  </tbody>\n",
              "</table>\n",
              "</div>\n",
              "      <button class=\"colab-df-convert\" onclick=\"convertToInteractive('df-17715144-ac45-464e-bd6d-132126a75063')\"\n",
              "              title=\"Convert this dataframe to an interactive table.\"\n",
              "              style=\"display:none;\">\n",
              "        \n",
              "  <svg xmlns=\"http://www.w3.org/2000/svg\" height=\"24px\"viewBox=\"0 0 24 24\"\n",
              "       width=\"24px\">\n",
              "    <path d=\"M0 0h24v24H0V0z\" fill=\"none\"/>\n",
              "    <path d=\"M18.56 5.44l.94 2.06.94-2.06 2.06-.94-2.06-.94-.94-2.06-.94 2.06-2.06.94zm-11 1L8.5 8.5l.94-2.06 2.06-.94-2.06-.94L8.5 2.5l-.94 2.06-2.06.94zm10 10l.94 2.06.94-2.06 2.06-.94-2.06-.94-.94-2.06-.94 2.06-2.06.94z\"/><path d=\"M17.41 7.96l-1.37-1.37c-.4-.4-.92-.59-1.43-.59-.52 0-1.04.2-1.43.59L10.3 9.45l-7.72 7.72c-.78.78-.78 2.05 0 2.83L4 21.41c.39.39.9.59 1.41.59.51 0 1.02-.2 1.41-.59l7.78-7.78 2.81-2.81c.8-.78.8-2.07 0-2.86zM5.41 20L4 18.59l7.72-7.72 1.47 1.35L5.41 20z\"/>\n",
              "  </svg>\n",
              "      </button>\n",
              "      \n",
              "  <style>\n",
              "    .colab-df-container {\n",
              "      display:flex;\n",
              "      flex-wrap:wrap;\n",
              "      gap: 12px;\n",
              "    }\n",
              "\n",
              "    .colab-df-convert {\n",
              "      background-color: #E8F0FE;\n",
              "      border: none;\n",
              "      border-radius: 50%;\n",
              "      cursor: pointer;\n",
              "      display: none;\n",
              "      fill: #1967D2;\n",
              "      height: 32px;\n",
              "      padding: 0 0 0 0;\n",
              "      width: 32px;\n",
              "    }\n",
              "\n",
              "    .colab-df-convert:hover {\n",
              "      background-color: #E2EBFA;\n",
              "      box-shadow: 0px 1px 2px rgba(60, 64, 67, 0.3), 0px 1px 3px 1px rgba(60, 64, 67, 0.15);\n",
              "      fill: #174EA6;\n",
              "    }\n",
              "\n",
              "    [theme=dark] .colab-df-convert {\n",
              "      background-color: #3B4455;\n",
              "      fill: #D2E3FC;\n",
              "    }\n",
              "\n",
              "    [theme=dark] .colab-df-convert:hover {\n",
              "      background-color: #434B5C;\n",
              "      box-shadow: 0px 1px 3px 1px rgba(0, 0, 0, 0.15);\n",
              "      filter: drop-shadow(0px 1px 2px rgba(0, 0, 0, 0.3));\n",
              "      fill: #FFFFFF;\n",
              "    }\n",
              "  </style>\n",
              "\n",
              "      <script>\n",
              "        const buttonEl =\n",
              "          document.querySelector('#df-17715144-ac45-464e-bd6d-132126a75063 button.colab-df-convert');\n",
              "        buttonEl.style.display =\n",
              "          google.colab.kernel.accessAllowed ? 'block' : 'none';\n",
              "\n",
              "        async function convertToInteractive(key) {\n",
              "          const element = document.querySelector('#df-17715144-ac45-464e-bd6d-132126a75063');\n",
              "          const dataTable =\n",
              "            await google.colab.kernel.invokeFunction('convertToInteractive',\n",
              "                                                     [key], {});\n",
              "          if (!dataTable) return;\n",
              "\n",
              "          const docLinkHtml = 'Like what you see? Visit the ' +\n",
              "            '<a target=\"_blank\" href=https://colab.research.google.com/notebooks/data_table.ipynb>data table notebook</a>'\n",
              "            + ' to learn more about interactive tables.';\n",
              "          element.innerHTML = '';\n",
              "          dataTable['output_type'] = 'display_data';\n",
              "          await google.colab.output.renderOutput(dataTable, element);\n",
              "          const docLink = document.createElement('div');\n",
              "          docLink.innerHTML = docLinkHtml;\n",
              "          element.appendChild(docLink);\n",
              "        }\n",
              "      </script>\n",
              "    </div>\n",
              "  </div>\n",
              "  "
            ]
          },
          "metadata": {},
          "execution_count": 30
        }
      ]
    },
    {
      "cell_type": "code",
      "source": [
        "notas = pd.Series([2,7,5,10,6], index=[\"Wilfred\", \"Abbie\", \"Harry\", \"Julia\", \"Carrie\"])\n",
        "display(notas)"
      ],
      "metadata": {
        "colab": {
          "base_uri": "https://localhost:8080/",
          "height": 121
        },
        "id": "7Yz4RCfzkp5X",
        "outputId": "566c8473-ae0e-4310-b5b7-5b77d3424073"
      },
      "execution_count": null,
      "outputs": [
        {
          "output_type": "display_data",
          "data": {
            "text/plain": [
              "Wilfred     2\n",
              "Abbie       7\n",
              "Harry       5\n",
              "Julia      10\n",
              "Carrie      6\n",
              "dtype: int64"
            ]
          },
          "metadata": {}
        }
      ]
    },
    {
      "cell_type": "markdown",
      "source": [
        "## É possível acessar a lista de colunas de forma bem intuitiva:"
      ],
      "metadata": {
        "id": "ei9r9HnFlBmA"
      }
    },
    {
      "cell_type": "code",
      "source": [
        "df.columns"
      ],
      "metadata": {
        "colab": {
          "base_uri": "https://localhost:8080/"
        },
        "id": "PSYnvQN-lEl5",
        "outputId": "54ca5e8e-0e31-45ee-a40e-976d5c42837f"
      },
      "execution_count": null,
      "outputs": [
        {
          "output_type": "execute_result",
          "data": {
            "text/plain": [
              "Index(['Aluno', 'Faltas', 'Prova', 'Seminário'], dtype='object')"
            ]
          },
          "metadata": {},
          "execution_count": 34
        }
      ]
    },
    {
      "cell_type": "markdown",
      "source": [
        "## Os tipos de dados que compõe as colunas podem ser verificados por um método próprio:"
      ],
      "metadata": {
        "id": "mAo_1z6blimI"
      }
    },
    {
      "cell_type": "code",
      "source": [
        "df.dtypes"
      ],
      "metadata": {
        "colab": {
          "base_uri": "https://localhost:8080/"
        },
        "id": "zn5qUQTWlkx3",
        "outputId": "7833e624-8e4a-40c1-8d12-a50768d9c167"
      },
      "execution_count": null,
      "outputs": [
        {
          "output_type": "execute_result",
          "data": {
            "text/plain": [
              "Aluno         object\n",
              "Faltas         int64\n",
              "Prova          int64\n",
              "Seminário    float64\n",
              "dtype: object"
            ]
          },
          "metadata": {},
          "execution_count": 35
        }
      ]
    },
    {
      "cell_type": "markdown",
      "source": [
        "## Os nomes das colunas podem ser usadas pra acessar seus valores:"
      ],
      "metadata": {
        "id": "xqTUfmE8lth4"
      }
    },
    {
      "cell_type": "code",
      "source": [
        "df[\"Seminário\"]"
      ],
      "metadata": {
        "colab": {
          "base_uri": "https://localhost:8080/"
        },
        "id": "3JL3MB4BlvGW",
        "outputId": "705fd467-ff83-408c-9eeb-caca8cbd430c"
      },
      "execution_count": null,
      "outputs": [
        {
          "output_type": "execute_result",
          "data": {
            "text/plain": [
              "0    8.5\n",
              "1    7.5\n",
              "2    9.0\n",
              "3    7.5\n",
              "4    8.0\n",
              "Name: Seminário, dtype: float64"
            ]
          },
          "metadata": {},
          "execution_count": 36
        }
      ]
    },
    {
      "cell_type": "markdown",
      "source": [
        "## Para DataFrames, .describe() também é uma boa forma de verificar resumidamente a disposição estatística dos dados numéricos:"
      ],
      "metadata": {
        "id": "AHilP9WXl1sg"
      }
    },
    {
      "cell_type": "code",
      "source": [
        "df.describe()"
      ],
      "metadata": {
        "colab": {
          "base_uri": "https://localhost:8080/",
          "height": 300
        },
        "id": "5rrzzpHCl3L-",
        "outputId": "ef976182-5885-4ea7-eec4-f0668d0532f7"
      },
      "execution_count": null,
      "outputs": [
        {
          "output_type": "execute_result",
          "data": {
            "text/plain": [
              "        Faltas      Prova  Seminário\n",
              "count  5.00000   5.000000    5.00000\n",
              "mean   2.80000   6.000000    8.10000\n",
              "std    1.30384   2.915476    0.65192\n",
              "min    1.00000   2.000000    7.50000\n",
              "25%    2.00000   5.000000    7.50000\n",
              "50%    3.00000   6.000000    8.00000\n",
              "75%    4.00000   7.000000    8.50000\n",
              "max    4.00000  10.000000    9.00000"
            ],
            "text/html": [
              "\n",
              "  <div id=\"df-3cbb6d86-cb5f-4410-8cdd-6cf716ecbc14\">\n",
              "    <div class=\"colab-df-container\">\n",
              "      <div>\n",
              "<style scoped>\n",
              "    .dataframe tbody tr th:only-of-type {\n",
              "        vertical-align: middle;\n",
              "    }\n",
              "\n",
              "    .dataframe tbody tr th {\n",
              "        vertical-align: top;\n",
              "    }\n",
              "\n",
              "    .dataframe thead th {\n",
              "        text-align: right;\n",
              "    }\n",
              "</style>\n",
              "<table border=\"1\" class=\"dataframe\">\n",
              "  <thead>\n",
              "    <tr style=\"text-align: right;\">\n",
              "      <th></th>\n",
              "      <th>Faltas</th>\n",
              "      <th>Prova</th>\n",
              "      <th>Seminário</th>\n",
              "    </tr>\n",
              "  </thead>\n",
              "  <tbody>\n",
              "    <tr>\n",
              "      <th>count</th>\n",
              "      <td>5.00000</td>\n",
              "      <td>5.000000</td>\n",
              "      <td>5.00000</td>\n",
              "    </tr>\n",
              "    <tr>\n",
              "      <th>mean</th>\n",
              "      <td>2.80000</td>\n",
              "      <td>6.000000</td>\n",
              "      <td>8.10000</td>\n",
              "    </tr>\n",
              "    <tr>\n",
              "      <th>std</th>\n",
              "      <td>1.30384</td>\n",
              "      <td>2.915476</td>\n",
              "      <td>0.65192</td>\n",
              "    </tr>\n",
              "    <tr>\n",
              "      <th>min</th>\n",
              "      <td>1.00000</td>\n",
              "      <td>2.000000</td>\n",
              "      <td>7.50000</td>\n",
              "    </tr>\n",
              "    <tr>\n",
              "      <th>25%</th>\n",
              "      <td>2.00000</td>\n",
              "      <td>5.000000</td>\n",
              "      <td>7.50000</td>\n",
              "    </tr>\n",
              "    <tr>\n",
              "      <th>50%</th>\n",
              "      <td>3.00000</td>\n",
              "      <td>6.000000</td>\n",
              "      <td>8.00000</td>\n",
              "    </tr>\n",
              "    <tr>\n",
              "      <th>75%</th>\n",
              "      <td>4.00000</td>\n",
              "      <td>7.000000</td>\n",
              "      <td>8.50000</td>\n",
              "    </tr>\n",
              "    <tr>\n",
              "      <th>max</th>\n",
              "      <td>4.00000</td>\n",
              "      <td>10.000000</td>\n",
              "      <td>9.00000</td>\n",
              "    </tr>\n",
              "  </tbody>\n",
              "</table>\n",
              "</div>\n",
              "      <button class=\"colab-df-convert\" onclick=\"convertToInteractive('df-3cbb6d86-cb5f-4410-8cdd-6cf716ecbc14')\"\n",
              "              title=\"Convert this dataframe to an interactive table.\"\n",
              "              style=\"display:none;\">\n",
              "        \n",
              "  <svg xmlns=\"http://www.w3.org/2000/svg\" height=\"24px\"viewBox=\"0 0 24 24\"\n",
              "       width=\"24px\">\n",
              "    <path d=\"M0 0h24v24H0V0z\" fill=\"none\"/>\n",
              "    <path d=\"M18.56 5.44l.94 2.06.94-2.06 2.06-.94-2.06-.94-.94-2.06-.94 2.06-2.06.94zm-11 1L8.5 8.5l.94-2.06 2.06-.94-2.06-.94L8.5 2.5l-.94 2.06-2.06.94zm10 10l.94 2.06.94-2.06 2.06-.94-2.06-.94-.94-2.06-.94 2.06-2.06.94z\"/><path d=\"M17.41 7.96l-1.37-1.37c-.4-.4-.92-.59-1.43-.59-.52 0-1.04.2-1.43.59L10.3 9.45l-7.72 7.72c-.78.78-.78 2.05 0 2.83L4 21.41c.39.39.9.59 1.41.59.51 0 1.02-.2 1.41-.59l7.78-7.78 2.81-2.81c.8-.78.8-2.07 0-2.86zM5.41 20L4 18.59l7.72-7.72 1.47 1.35L5.41 20z\"/>\n",
              "  </svg>\n",
              "      </button>\n",
              "      \n",
              "  <style>\n",
              "    .colab-df-container {\n",
              "      display:flex;\n",
              "      flex-wrap:wrap;\n",
              "      gap: 12px;\n",
              "    }\n",
              "\n",
              "    .colab-df-convert {\n",
              "      background-color: #E8F0FE;\n",
              "      border: none;\n",
              "      border-radius: 50%;\n",
              "      cursor: pointer;\n",
              "      display: none;\n",
              "      fill: #1967D2;\n",
              "      height: 32px;\n",
              "      padding: 0 0 0 0;\n",
              "      width: 32px;\n",
              "    }\n",
              "\n",
              "    .colab-df-convert:hover {\n",
              "      background-color: #E2EBFA;\n",
              "      box-shadow: 0px 1px 2px rgba(60, 64, 67, 0.3), 0px 1px 3px 1px rgba(60, 64, 67, 0.15);\n",
              "      fill: #174EA6;\n",
              "    }\n",
              "\n",
              "    [theme=dark] .colab-df-convert {\n",
              "      background-color: #3B4455;\n",
              "      fill: #D2E3FC;\n",
              "    }\n",
              "\n",
              "    [theme=dark] .colab-df-convert:hover {\n",
              "      background-color: #434B5C;\n",
              "      box-shadow: 0px 1px 3px 1px rgba(0, 0, 0, 0.15);\n",
              "      filter: drop-shadow(0px 1px 2px rgba(0, 0, 0, 0.3));\n",
              "      fill: #FFFFFF;\n",
              "    }\n",
              "  </style>\n",
              "\n",
              "      <script>\n",
              "        const buttonEl =\n",
              "          document.querySelector('#df-3cbb6d86-cb5f-4410-8cdd-6cf716ecbc14 button.colab-df-convert');\n",
              "        buttonEl.style.display =\n",
              "          google.colab.kernel.accessAllowed ? 'block' : 'none';\n",
              "\n",
              "        async function convertToInteractive(key) {\n",
              "          const element = document.querySelector('#df-3cbb6d86-cb5f-4410-8cdd-6cf716ecbc14');\n",
              "          const dataTable =\n",
              "            await google.colab.kernel.invokeFunction('convertToInteractive',\n",
              "                                                     [key], {});\n",
              "          if (!dataTable) return;\n",
              "\n",
              "          const docLinkHtml = 'Like what you see? Visit the ' +\n",
              "            '<a target=\"_blank\" href=https://colab.research.google.com/notebooks/data_table.ipynb>data table notebook</a>'\n",
              "            + ' to learn more about interactive tables.';\n",
              "          element.innerHTML = '';\n",
              "          dataTable['output_type'] = 'display_data';\n",
              "          await google.colab.output.renderOutput(dataTable, element);\n",
              "          const docLink = document.createElement('div');\n",
              "          docLink.innerHTML = docLinkHtml;\n",
              "          element.appendChild(docLink);\n",
              "        }\n",
              "      </script>\n",
              "    </div>\n",
              "  </div>\n",
              "  "
            ]
          },
          "metadata": {},
          "execution_count": 37
        }
      ]
    },
    {
      "cell_type": "markdown",
      "source": [
        "## Outra tarefa comum aplicada em DataFrames é ordená-los por determinada coluna:"
      ],
      "metadata": {
        "id": "ZhiPQDnvmBX-"
      }
    },
    {
      "cell_type": "code",
      "source": [
        "df.sort_values(by=\"Seminário\")"
      ],
      "metadata": {
        "colab": {
          "base_uri": "https://localhost:8080/",
          "height": 206
        },
        "id": "ipaq3kPDmCo-",
        "outputId": "a38071f9-2fbc-40d1-c0c8-e8d5f05dd643"
      },
      "execution_count": null,
      "outputs": [
        {
          "output_type": "execute_result",
          "data": {
            "text/plain": [
              "     Aluno  Faltas  Prova  Seminário\n",
              "1    Abbie       4      7        7.5\n",
              "3    Julia       1     10        7.5\n",
              "4   Carrie       4      6        8.0\n",
              "0  Wilfred       3      2        8.5\n",
              "2    Harry       2      5        9.0"
            ],
            "text/html": [
              "\n",
              "  <div id=\"df-8c568275-e4ff-4cfd-a3a8-1eeff9130b12\">\n",
              "    <div class=\"colab-df-container\">\n",
              "      <div>\n",
              "<style scoped>\n",
              "    .dataframe tbody tr th:only-of-type {\n",
              "        vertical-align: middle;\n",
              "    }\n",
              "\n",
              "    .dataframe tbody tr th {\n",
              "        vertical-align: top;\n",
              "    }\n",
              "\n",
              "    .dataframe thead th {\n",
              "        text-align: right;\n",
              "    }\n",
              "</style>\n",
              "<table border=\"1\" class=\"dataframe\">\n",
              "  <thead>\n",
              "    <tr style=\"text-align: right;\">\n",
              "      <th></th>\n",
              "      <th>Aluno</th>\n",
              "      <th>Faltas</th>\n",
              "      <th>Prova</th>\n",
              "      <th>Seminário</th>\n",
              "    </tr>\n",
              "  </thead>\n",
              "  <tbody>\n",
              "    <tr>\n",
              "      <th>1</th>\n",
              "      <td>Abbie</td>\n",
              "      <td>4</td>\n",
              "      <td>7</td>\n",
              "      <td>7.5</td>\n",
              "    </tr>\n",
              "    <tr>\n",
              "      <th>3</th>\n",
              "      <td>Julia</td>\n",
              "      <td>1</td>\n",
              "      <td>10</td>\n",
              "      <td>7.5</td>\n",
              "    </tr>\n",
              "    <tr>\n",
              "      <th>4</th>\n",
              "      <td>Carrie</td>\n",
              "      <td>4</td>\n",
              "      <td>6</td>\n",
              "      <td>8.0</td>\n",
              "    </tr>\n",
              "    <tr>\n",
              "      <th>0</th>\n",
              "      <td>Wilfred</td>\n",
              "      <td>3</td>\n",
              "      <td>2</td>\n",
              "      <td>8.5</td>\n",
              "    </tr>\n",
              "    <tr>\n",
              "      <th>2</th>\n",
              "      <td>Harry</td>\n",
              "      <td>2</td>\n",
              "      <td>5</td>\n",
              "      <td>9.0</td>\n",
              "    </tr>\n",
              "  </tbody>\n",
              "</table>\n",
              "</div>\n",
              "      <button class=\"colab-df-convert\" onclick=\"convertToInteractive('df-8c568275-e4ff-4cfd-a3a8-1eeff9130b12')\"\n",
              "              title=\"Convert this dataframe to an interactive table.\"\n",
              "              style=\"display:none;\">\n",
              "        \n",
              "  <svg xmlns=\"http://www.w3.org/2000/svg\" height=\"24px\"viewBox=\"0 0 24 24\"\n",
              "       width=\"24px\">\n",
              "    <path d=\"M0 0h24v24H0V0z\" fill=\"none\"/>\n",
              "    <path d=\"M18.56 5.44l.94 2.06.94-2.06 2.06-.94-2.06-.94-.94-2.06-.94 2.06-2.06.94zm-11 1L8.5 8.5l.94-2.06 2.06-.94-2.06-.94L8.5 2.5l-.94 2.06-2.06.94zm10 10l.94 2.06.94-2.06 2.06-.94-2.06-.94-.94-2.06-.94 2.06-2.06.94z\"/><path d=\"M17.41 7.96l-1.37-1.37c-.4-.4-.92-.59-1.43-.59-.52 0-1.04.2-1.43.59L10.3 9.45l-7.72 7.72c-.78.78-.78 2.05 0 2.83L4 21.41c.39.39.9.59 1.41.59.51 0 1.02-.2 1.41-.59l7.78-7.78 2.81-2.81c.8-.78.8-2.07 0-2.86zM5.41 20L4 18.59l7.72-7.72 1.47 1.35L5.41 20z\"/>\n",
              "  </svg>\n",
              "      </button>\n",
              "      \n",
              "  <style>\n",
              "    .colab-df-container {\n",
              "      display:flex;\n",
              "      flex-wrap:wrap;\n",
              "      gap: 12px;\n",
              "    }\n",
              "\n",
              "    .colab-df-convert {\n",
              "      background-color: #E8F0FE;\n",
              "      border: none;\n",
              "      border-radius: 50%;\n",
              "      cursor: pointer;\n",
              "      display: none;\n",
              "      fill: #1967D2;\n",
              "      height: 32px;\n",
              "      padding: 0 0 0 0;\n",
              "      width: 32px;\n",
              "    }\n",
              "\n",
              "    .colab-df-convert:hover {\n",
              "      background-color: #E2EBFA;\n",
              "      box-shadow: 0px 1px 2px rgba(60, 64, 67, 0.3), 0px 1px 3px 1px rgba(60, 64, 67, 0.15);\n",
              "      fill: #174EA6;\n",
              "    }\n",
              "\n",
              "    [theme=dark] .colab-df-convert {\n",
              "      background-color: #3B4455;\n",
              "      fill: #D2E3FC;\n",
              "    }\n",
              "\n",
              "    [theme=dark] .colab-df-convert:hover {\n",
              "      background-color: #434B5C;\n",
              "      box-shadow: 0px 1px 3px 1px rgba(0, 0, 0, 0.15);\n",
              "      filter: drop-shadow(0px 1px 2px rgba(0, 0, 0, 0.3));\n",
              "      fill: #FFFFFF;\n",
              "    }\n",
              "  </style>\n",
              "\n",
              "      <script>\n",
              "        const buttonEl =\n",
              "          document.querySelector('#df-8c568275-e4ff-4cfd-a3a8-1eeff9130b12 button.colab-df-convert');\n",
              "        buttonEl.style.display =\n",
              "          google.colab.kernel.accessAllowed ? 'block' : 'none';\n",
              "\n",
              "        async function convertToInteractive(key) {\n",
              "          const element = document.querySelector('#df-8c568275-e4ff-4cfd-a3a8-1eeff9130b12');\n",
              "          const dataTable =\n",
              "            await google.colab.kernel.invokeFunction('convertToInteractive',\n",
              "                                                     [key], {});\n",
              "          if (!dataTable) return;\n",
              "\n",
              "          const docLinkHtml = 'Like what you see? Visit the ' +\n",
              "            '<a target=\"_blank\" href=https://colab.research.google.com/notebooks/data_table.ipynb>data table notebook</a>'\n",
              "            + ' to learn more about interactive tables.';\n",
              "          element.innerHTML = '';\n",
              "          dataTable['output_type'] = 'display_data';\n",
              "          await google.colab.output.renderOutput(dataTable, element);\n",
              "          const docLink = document.createElement('div');\n",
              "          docLink.innerHTML = docLinkHtml;\n",
              "          element.appendChild(docLink);\n",
              "        }\n",
              "      </script>\n",
              "    </div>\n",
              "  </div>\n",
              "  "
            ]
          },
          "metadata": {},
          "execution_count": 38
        }
      ]
    },
    {
      "cell_type": "markdown",
      "source": [
        "## Note que simplesmente usar o método sort_values não modifica o nosso DataFrame original:"
      ],
      "metadata": {
        "id": "gSk6n0KRmMZV"
      }
    },
    {
      "cell_type": "code",
      "source": [
        "df"
      ],
      "metadata": {
        "id": "PyLCYHKsmNve",
        "outputId": "7f665a32-5367-4c1d-e6c9-25358cec55aa",
        "colab": {
          "base_uri": "https://localhost:8080/",
          "height": 206
        }
      },
      "execution_count": null,
      "outputs": [
        {
          "output_type": "execute_result",
          "data": {
            "text/plain": [
              "     Aluno  Faltas  Prova  Seminário\n",
              "0  Wilfred       3      2        8.5\n",
              "1    Abbie       4      7        7.5\n",
              "2    Harry       2      5        9.0\n",
              "3    Julia       1     10        7.5\n",
              "4   Carrie       4      6        8.0"
            ],
            "text/html": [
              "\n",
              "  <div id=\"df-5f3773ae-d513-4618-baba-9953e2cb9aee\">\n",
              "    <div class=\"colab-df-container\">\n",
              "      <div>\n",
              "<style scoped>\n",
              "    .dataframe tbody tr th:only-of-type {\n",
              "        vertical-align: middle;\n",
              "    }\n",
              "\n",
              "    .dataframe tbody tr th {\n",
              "        vertical-align: top;\n",
              "    }\n",
              "\n",
              "    .dataframe thead th {\n",
              "        text-align: right;\n",
              "    }\n",
              "</style>\n",
              "<table border=\"1\" class=\"dataframe\">\n",
              "  <thead>\n",
              "    <tr style=\"text-align: right;\">\n",
              "      <th></th>\n",
              "      <th>Aluno</th>\n",
              "      <th>Faltas</th>\n",
              "      <th>Prova</th>\n",
              "      <th>Seminário</th>\n",
              "    </tr>\n",
              "  </thead>\n",
              "  <tbody>\n",
              "    <tr>\n",
              "      <th>0</th>\n",
              "      <td>Wilfred</td>\n",
              "      <td>3</td>\n",
              "      <td>2</td>\n",
              "      <td>8.5</td>\n",
              "    </tr>\n",
              "    <tr>\n",
              "      <th>1</th>\n",
              "      <td>Abbie</td>\n",
              "      <td>4</td>\n",
              "      <td>7</td>\n",
              "      <td>7.5</td>\n",
              "    </tr>\n",
              "    <tr>\n",
              "      <th>2</th>\n",
              "      <td>Harry</td>\n",
              "      <td>2</td>\n",
              "      <td>5</td>\n",
              "      <td>9.0</td>\n",
              "    </tr>\n",
              "    <tr>\n",
              "      <th>3</th>\n",
              "      <td>Julia</td>\n",
              "      <td>1</td>\n",
              "      <td>10</td>\n",
              "      <td>7.5</td>\n",
              "    </tr>\n",
              "    <tr>\n",
              "      <th>4</th>\n",
              "      <td>Carrie</td>\n",
              "      <td>4</td>\n",
              "      <td>6</td>\n",
              "      <td>8.0</td>\n",
              "    </tr>\n",
              "  </tbody>\n",
              "</table>\n",
              "</div>\n",
              "      <button class=\"colab-df-convert\" onclick=\"convertToInteractive('df-5f3773ae-d513-4618-baba-9953e2cb9aee')\"\n",
              "              title=\"Convert this dataframe to an interactive table.\"\n",
              "              style=\"display:none;\">\n",
              "        \n",
              "  <svg xmlns=\"http://www.w3.org/2000/svg\" height=\"24px\"viewBox=\"0 0 24 24\"\n",
              "       width=\"24px\">\n",
              "    <path d=\"M0 0h24v24H0V0z\" fill=\"none\"/>\n",
              "    <path d=\"M18.56 5.44l.94 2.06.94-2.06 2.06-.94-2.06-.94-.94-2.06-.94 2.06-2.06.94zm-11 1L8.5 8.5l.94-2.06 2.06-.94-2.06-.94L8.5 2.5l-.94 2.06-2.06.94zm10 10l.94 2.06.94-2.06 2.06-.94-2.06-.94-.94-2.06-.94 2.06-2.06.94z\"/><path d=\"M17.41 7.96l-1.37-1.37c-.4-.4-.92-.59-1.43-.59-.52 0-1.04.2-1.43.59L10.3 9.45l-7.72 7.72c-.78.78-.78 2.05 0 2.83L4 21.41c.39.39.9.59 1.41.59.51 0 1.02-.2 1.41-.59l7.78-7.78 2.81-2.81c.8-.78.8-2.07 0-2.86zM5.41 20L4 18.59l7.72-7.72 1.47 1.35L5.41 20z\"/>\n",
              "  </svg>\n",
              "      </button>\n",
              "      \n",
              "  <style>\n",
              "    .colab-df-container {\n",
              "      display:flex;\n",
              "      flex-wrap:wrap;\n",
              "      gap: 12px;\n",
              "    }\n",
              "\n",
              "    .colab-df-convert {\n",
              "      background-color: #E8F0FE;\n",
              "      border: none;\n",
              "      border-radius: 50%;\n",
              "      cursor: pointer;\n",
              "      display: none;\n",
              "      fill: #1967D2;\n",
              "      height: 32px;\n",
              "      padding: 0 0 0 0;\n",
              "      width: 32px;\n",
              "    }\n",
              "\n",
              "    .colab-df-convert:hover {\n",
              "      background-color: #E2EBFA;\n",
              "      box-shadow: 0px 1px 2px rgba(60, 64, 67, 0.3), 0px 1px 3px 1px rgba(60, 64, 67, 0.15);\n",
              "      fill: #174EA6;\n",
              "    }\n",
              "\n",
              "    [theme=dark] .colab-df-convert {\n",
              "      background-color: #3B4455;\n",
              "      fill: #D2E3FC;\n",
              "    }\n",
              "\n",
              "    [theme=dark] .colab-df-convert:hover {\n",
              "      background-color: #434B5C;\n",
              "      box-shadow: 0px 1px 3px 1px rgba(0, 0, 0, 0.15);\n",
              "      filter: drop-shadow(0px 1px 2px rgba(0, 0, 0, 0.3));\n",
              "      fill: #FFFFFF;\n",
              "    }\n",
              "  </style>\n",
              "\n",
              "      <script>\n",
              "        const buttonEl =\n",
              "          document.querySelector('#df-5f3773ae-d513-4618-baba-9953e2cb9aee button.colab-df-convert');\n",
              "        buttonEl.style.display =\n",
              "          google.colab.kernel.accessAllowed ? 'block' : 'none';\n",
              "\n",
              "        async function convertToInteractive(key) {\n",
              "          const element = document.querySelector('#df-5f3773ae-d513-4618-baba-9953e2cb9aee');\n",
              "          const dataTable =\n",
              "            await google.colab.kernel.invokeFunction('convertToInteractive',\n",
              "                                                     [key], {});\n",
              "          if (!dataTable) return;\n",
              "\n",
              "          const docLinkHtml = 'Like what you see? Visit the ' +\n",
              "            '<a target=\"_blank\" href=https://colab.research.google.com/notebooks/data_table.ipynb>data table notebook</a>'\n",
              "            + ' to learn more about interactive tables.';\n",
              "          element.innerHTML = '';\n",
              "          dataTable['output_type'] = 'display_data';\n",
              "          await google.colab.output.renderOutput(dataTable, element);\n",
              "          const docLink = document.createElement('div');\n",
              "          docLink.innerHTML = docLinkHtml;\n",
              "          element.appendChild(docLink);\n",
              "        }\n",
              "      </script>\n",
              "    </div>\n",
              "  </div>\n",
              "  "
            ]
          },
          "metadata": {},
          "execution_count": 39
        }
      ]
    },
    {
      "cell_type": "code",
      "source": [
        "\n",
        "frutas = ['Maça', 'Laranja', 'Limão', 'Abacaxi', 'Melancia', 'Abacate', 'Cereja']\n",
        "\n",
        "frut = pd.Series(frutas)\n",
        "#display(frut)\n",
        "fr = np.\n",
        "display(fr)"
      ],
      "metadata": {
        "colab": {
          "base_uri": "https://localhost:8080/",
          "height": 34
        },
        "id": "GFd5uYnii3sE",
        "outputId": "83594856-364b-4f88-9b30-9214dbde631b"
      },
      "execution_count": null,
      "outputs": [
        {
          "output_type": "display_data",
          "data": {
            "text/plain": [
              "<function numpy.array>"
            ]
          },
          "metadata": {}
        }
      ]
    },
    {
      "cell_type": "code",
      "source": [
        "import pandas as pd\n",
        "carros = [{'Fusca': 100,\n",
        "           'Brasilia': 101,\n",
        "           'Gol': 102,\n",
        "           'Mercedez':103},\n",
        "          {25: 'Francisco',\n",
        "           14: 'Xavier',\n",
        "           51: 'Moacyr',\n",
        "           33: 'Contreras'},\n",
        "          {'haveiro': 500,\n",
        "           'Merc': 501,\n",
        "           'mercado': 502,\n",
        "           'Civil': 503\n",
        "           }]\n",
        "df = pd.DataFrame(carros)\n",
        "display(df)"
      ],
      "metadata": {
        "colab": {
          "base_uri": "https://localhost:8080/",
          "height": 143
        },
        "id": "I0eShVX2cjhz",
        "outputId": "b787e60e-149b-4014-e8ad-3d9d4f51884e"
      },
      "execution_count": null,
      "outputs": [
        {
          "output_type": "display_data",
          "data": {
            "text/plain": [
              "   Fusca  Brasilia    Gol  Mercedez         25      14      51         33  \\\n",
              "0  100.0     101.0  102.0     103.0        NaN     NaN     NaN        NaN   \n",
              "1    NaN       NaN    NaN       NaN  Francisco  Xavier  Moacyr  Contreras   \n",
              "2    NaN       NaN    NaN       NaN        NaN     NaN     NaN        NaN   \n",
              "\n",
              "   haveiro   Merc  mercado  Civil  \n",
              "0      NaN    NaN      NaN    NaN  \n",
              "1      NaN    NaN      NaN    NaN  \n",
              "2    500.0  501.0    502.0  503.0  "
            ],
            "text/html": [
              "\n",
              "  <div id=\"df-16c43ffe-754d-46dc-a884-31edb6d1591a\">\n",
              "    <div class=\"colab-df-container\">\n",
              "      <div>\n",
              "<style scoped>\n",
              "    .dataframe tbody tr th:only-of-type {\n",
              "        vertical-align: middle;\n",
              "    }\n",
              "\n",
              "    .dataframe tbody tr th {\n",
              "        vertical-align: top;\n",
              "    }\n",
              "\n",
              "    .dataframe thead th {\n",
              "        text-align: right;\n",
              "    }\n",
              "</style>\n",
              "<table border=\"1\" class=\"dataframe\">\n",
              "  <thead>\n",
              "    <tr style=\"text-align: right;\">\n",
              "      <th></th>\n",
              "      <th>Fusca</th>\n",
              "      <th>Brasilia</th>\n",
              "      <th>Gol</th>\n",
              "      <th>Mercedez</th>\n",
              "      <th>25</th>\n",
              "      <th>14</th>\n",
              "      <th>51</th>\n",
              "      <th>33</th>\n",
              "      <th>haveiro</th>\n",
              "      <th>Merc</th>\n",
              "      <th>mercado</th>\n",
              "      <th>Civil</th>\n",
              "    </tr>\n",
              "  </thead>\n",
              "  <tbody>\n",
              "    <tr>\n",
              "      <th>0</th>\n",
              "      <td>100.0</td>\n",
              "      <td>101.0</td>\n",
              "      <td>102.0</td>\n",
              "      <td>103.0</td>\n",
              "      <td>NaN</td>\n",
              "      <td>NaN</td>\n",
              "      <td>NaN</td>\n",
              "      <td>NaN</td>\n",
              "      <td>NaN</td>\n",
              "      <td>NaN</td>\n",
              "      <td>NaN</td>\n",
              "      <td>NaN</td>\n",
              "    </tr>\n",
              "    <tr>\n",
              "      <th>1</th>\n",
              "      <td>NaN</td>\n",
              "      <td>NaN</td>\n",
              "      <td>NaN</td>\n",
              "      <td>NaN</td>\n",
              "      <td>Francisco</td>\n",
              "      <td>Xavier</td>\n",
              "      <td>Moacyr</td>\n",
              "      <td>Contreras</td>\n",
              "      <td>NaN</td>\n",
              "      <td>NaN</td>\n",
              "      <td>NaN</td>\n",
              "      <td>NaN</td>\n",
              "    </tr>\n",
              "    <tr>\n",
              "      <th>2</th>\n",
              "      <td>NaN</td>\n",
              "      <td>NaN</td>\n",
              "      <td>NaN</td>\n",
              "      <td>NaN</td>\n",
              "      <td>NaN</td>\n",
              "      <td>NaN</td>\n",
              "      <td>NaN</td>\n",
              "      <td>NaN</td>\n",
              "      <td>500.0</td>\n",
              "      <td>501.0</td>\n",
              "      <td>502.0</td>\n",
              "      <td>503.0</td>\n",
              "    </tr>\n",
              "  </tbody>\n",
              "</table>\n",
              "</div>\n",
              "      <button class=\"colab-df-convert\" onclick=\"convertToInteractive('df-16c43ffe-754d-46dc-a884-31edb6d1591a')\"\n",
              "              title=\"Convert this dataframe to an interactive table.\"\n",
              "              style=\"display:none;\">\n",
              "        \n",
              "  <svg xmlns=\"http://www.w3.org/2000/svg\" height=\"24px\"viewBox=\"0 0 24 24\"\n",
              "       width=\"24px\">\n",
              "    <path d=\"M0 0h24v24H0V0z\" fill=\"none\"/>\n",
              "    <path d=\"M18.56 5.44l.94 2.06.94-2.06 2.06-.94-2.06-.94-.94-2.06-.94 2.06-2.06.94zm-11 1L8.5 8.5l.94-2.06 2.06-.94-2.06-.94L8.5 2.5l-.94 2.06-2.06.94zm10 10l.94 2.06.94-2.06 2.06-.94-2.06-.94-.94-2.06-.94 2.06-2.06.94z\"/><path d=\"M17.41 7.96l-1.37-1.37c-.4-.4-.92-.59-1.43-.59-.52 0-1.04.2-1.43.59L10.3 9.45l-7.72 7.72c-.78.78-.78 2.05 0 2.83L4 21.41c.39.39.9.59 1.41.59.51 0 1.02-.2 1.41-.59l7.78-7.78 2.81-2.81c.8-.78.8-2.07 0-2.86zM5.41 20L4 18.59l7.72-7.72 1.47 1.35L5.41 20z\"/>\n",
              "  </svg>\n",
              "      </button>\n",
              "      \n",
              "  <style>\n",
              "    .colab-df-container {\n",
              "      display:flex;\n",
              "      flex-wrap:wrap;\n",
              "      gap: 12px;\n",
              "    }\n",
              "\n",
              "    .colab-df-convert {\n",
              "      background-color: #E8F0FE;\n",
              "      border: none;\n",
              "      border-radius: 50%;\n",
              "      cursor: pointer;\n",
              "      display: none;\n",
              "      fill: #1967D2;\n",
              "      height: 32px;\n",
              "      padding: 0 0 0 0;\n",
              "      width: 32px;\n",
              "    }\n",
              "\n",
              "    .colab-df-convert:hover {\n",
              "      background-color: #E2EBFA;\n",
              "      box-shadow: 0px 1px 2px rgba(60, 64, 67, 0.3), 0px 1px 3px 1px rgba(60, 64, 67, 0.15);\n",
              "      fill: #174EA6;\n",
              "    }\n",
              "\n",
              "    [theme=dark] .colab-df-convert {\n",
              "      background-color: #3B4455;\n",
              "      fill: #D2E3FC;\n",
              "    }\n",
              "\n",
              "    [theme=dark] .colab-df-convert:hover {\n",
              "      background-color: #434B5C;\n",
              "      box-shadow: 0px 1px 3px 1px rgba(0, 0, 0, 0.15);\n",
              "      filter: drop-shadow(0px 1px 2px rgba(0, 0, 0, 0.3));\n",
              "      fill: #FFFFFF;\n",
              "    }\n",
              "  </style>\n",
              "\n",
              "      <script>\n",
              "        const buttonEl =\n",
              "          document.querySelector('#df-16c43ffe-754d-46dc-a884-31edb6d1591a button.colab-df-convert');\n",
              "        buttonEl.style.display =\n",
              "          google.colab.kernel.accessAllowed ? 'block' : 'none';\n",
              "\n",
              "        async function convertToInteractive(key) {\n",
              "          const element = document.querySelector('#df-16c43ffe-754d-46dc-a884-31edb6d1591a');\n",
              "          const dataTable =\n",
              "            await google.colab.kernel.invokeFunction('convertToInteractive',\n",
              "                                                     [key], {});\n",
              "          if (!dataTable) return;\n",
              "\n",
              "          const docLinkHtml = 'Like what you see? Visit the ' +\n",
              "            '<a target=\"_blank\" href=https://colab.research.google.com/notebooks/data_table.ipynb>data table notebook</a>'\n",
              "            + ' to learn more about interactive tables.';\n",
              "          element.innerHTML = '';\n",
              "          dataTable['output_type'] = 'display_data';\n",
              "          await google.colab.output.renderOutput(dataTable, element);\n",
              "          const docLink = document.createElement('div');\n",
              "          docLink.innerHTML = docLinkHtml;\n",
              "          element.appendChild(docLink);\n",
              "        }\n",
              "      </script>\n",
              "    </div>\n",
              "  </div>\n",
              "  "
            ]
          },
          "metadata": {}
        }
      ]
    },
    {
      "cell_type": "code",
      "source": [
        "largura = float(input('Diga a largura: '))\n",
        "comprimento = float(input('Diga o comprimento: '))\n",
        "area = largura * comprimento\n",
        "\n",
        "print"
      ],
      "metadata": {
        "id": "SeOtLyD0VWs3"
      },
      "execution_count": null,
      "outputs": []
    },
    {
      "cell_type": "code",
      "source": [
        "lista1 = ['casa', 'apartamento', 'beco', 'caserna']\n",
        "for i in range(len(lista1)):\n",
        "    print(i, lista1[i])"
      ],
      "metadata": {
        "colab": {
          "base_uri": "https://localhost:8080/"
        },
        "id": "_oZtcP7PjN3M",
        "outputId": "62f2303c-ff6e-4795-cef8-6842fa95f432"
      },
      "execution_count": null,
      "outputs": [
        {
          "output_type": "stream",
          "name": "stdout",
          "text": [
            "0 casa\n",
            "1 apartamento\n",
            "2 beco\n",
            "3 caserna\n"
          ]
        }
      ]
    },
    {
      "cell_type": "code",
      "source": [
        "nomes = ['luiz', 'Debora', 'onofre', 'carlito', 'Teotonio']\n",
        "for i in range(len(nomes)):\n",
        "    if nomes[i] == 'onofre':\n",
        "        print(i, nomes[i])"
      ],
      "metadata": {
        "colab": {
          "base_uri": "https://localhost:8080/"
        },
        "id": "yLyvM-hvj5KP",
        "outputId": "02e39748-7c82-49c7-e438-f49dc3a87c54"
      },
      "execution_count": null,
      "outputs": [
        {
          "output_type": "stream",
          "name": "stdout",
          "text": [
            "2 onofre\n"
          ]
        }
      ]
    },
    {
      "cell_type": "code",
      "source": [
        "minha_lista = [1, 2, 3]\n",
        "minha_lista.extend((4, 5, 6))\n",
        "print(minha_lista)"
      ],
      "metadata": {
        "colab": {
          "base_uri": "https://localhost:8080/"
        },
        "id": "A8yaHqFjQOtN",
        "outputId": "d5e52bdf-fdfe-4a23-8d58-06bee1c6ed1c"
      },
      "execution_count": null,
      "outputs": [
        {
          "output_type": "stream",
          "name": "stdout",
          "text": [
            "[1, 2, 3, 4, 5, 6]\n"
          ]
        }
      ]
    },
    {
      "cell_type": "code",
      "source": [
        "lista = [42, 'luiz', True, 51]\n",
        "print(lista[1])"
      ],
      "metadata": {
        "colab": {
          "base_uri": "https://localhost:8080/"
        },
        "id": "mycT_ZNqD2q9",
        "outputId": "cb644e51-4ea5-4e68-e968-961d50dc826a"
      },
      "execution_count": null,
      "outputs": [
        {
          "output_type": "stream",
          "name": "stdout",
          "text": [
            "luiz\n"
          ]
        }
      ]
    },
    {
      "cell_type": "code",
      "source": [
        "tuplas = ('luiz', 42, True)\n",
        "print(tuplas[1])"
      ],
      "metadata": {
        "colab": {
          "base_uri": "https://localhost:8080/"
        },
        "id": "63-t873wEM-T",
        "outputId": "6a0fb87e-0b66-430a-ed56-2e740c240936"
      },
      "execution_count": null,
      "outputs": [
        {
          "output_type": "stream",
          "name": "stdout",
          "text": [
            "42\n"
          ]
        }
      ]
    },
    {
      "cell_type": "code",
      "source": [
        "estados = {\n",
        "    11 : 'São Paulo',\n",
        "    21 : 'Rio de Janeiro',\n",
        "    31 : 'Minas Gerais',\n",
        "    41 : 'Paraná',\n",
        "    51 : 'Rio Grande do Sul',\n",
        "    84 : 'Rio Grande do Norte'\n",
        "}\n",
        "\n",
        "for key, valor in estados.items():\n",
        "    print(valor.encode()[0])\n",
        "\n",
        "#print(estados[84])"
      ],
      "metadata": {
        "colab": {
          "base_uri": "https://localhost:8080/"
        },
        "id": "PZtImoNJFk0K",
        "outputId": "b2e8b3d7-27ce-4f4a-87ba-730efcdff99c"
      },
      "execution_count": null,
      "outputs": [
        {
          "output_type": "stream",
          "name": "stdout",
          "text": [
            "83\n",
            "82\n",
            "77\n",
            "80\n",
            "82\n",
            "82\n"
          ]
        }
      ]
    },
    {
      "cell_type": "code",
      "execution_count": null,
      "metadata": {
        "id": "MmY-He7RjBA7",
        "colab": {
          "base_uri": "https://localhost:8080/"
        },
        "outputId": "e64bb333-a8d2-4156-f6f3-811aac9d3766"
      },
      "outputs": [
        {
          "output_type": "stream",
          "name": "stdout",
          "text": [
            "Digite uma palavra ou frase: caros\n",
            "Caros 5 Caros tem 0 anos de idade!\n"
          ]
        }
      ],
      "source": [
        "palavra = input('Digite uma palavra ou frase: ').capitalize()\n",
        "tam_palavra = len(palavra)\n",
        "if palavra == 'Luiz':\n",
        "    idade = 55\n",
        "elif palavra == 'Carlos':\n",
        "    idade = 35\n",
        "else:\n",
        "    idade = '0'\n",
        "\n",
        "print(palavra, tam_palavra, f'{palavra} tem {idade} anos de idade!')"
      ]
    },
    {
      "cell_type": "code",
      "source": [
        "variavel = float(input(\"Digite o valor correspondente ao lado de um quadrado: \"))\n",
        "\n",
        "x = variavel * 4\n",
        "\n",
        "y = variavel ** 2\n",
        "\n",
        "print(\"perímetro:\", x, \"área:\", y)"
      ],
      "metadata": {
        "colab": {
          "base_uri": "https://localhost:8080/"
        },
        "id": "ikZ00VTmQBRX",
        "outputId": "fbb2afd2-2c47-4688-f5bd-7dd6b41e9c24"
      },
      "execution_count": null,
      "outputs": [
        {
          "output_type": "stream",
          "name": "stdout",
          "text": [
            "Digite o valor correspondente ao lado de um quadrado: 3\n",
            "perímetro: 12.0 área: 9.0\n"
          ]
        }
      ]
    },
    {
      "cell_type": "markdown",
      "source": [
        "## Calculadora"
      ],
      "metadata": {
        "id": "nsJxxiwwtLUt"
      }
    },
    {
      "cell_type": "code",
      "source": [
        "velho = 0\n",
        "for c in range(1, 3):\n",
        "    print(5 * '-' + f' {c}ª PESSOA ' + 5 * '-')\n",
        "    nome = input('Digite seu nome: ')\n",
        "    idade = int(input('Digite sua idade: '))\n",
        "    sexo = input('Sexo (M/F): ').upper()  \n",
        "    if sexo == \"M\":\n",
        "        velho = idade\n",
        "        print(velho, f'\\nParabéns')\n",
        "    else:\n",
        "        velho == 0\n",
        "        velho += idade\n",
        "        print(f'Você não poderá participar do curso!!!') \n"
      ],
      "metadata": {
        "colab": {
          "base_uri": "https://localhost:8080/"
        },
        "id": "50QpnKG20BxW",
        "outputId": "a9126f78-49ad-4485-83f9-4fc1eef7d817"
      },
      "execution_count": null,
      "outputs": [
        {
          "output_type": "stream",
          "name": "stdout",
          "text": [
            "----- 1ª PESSOA -----\n",
            "Digite seu nome: sdfsf\n",
            "Digite sua idade: 2\n",
            "Sexo (M/F): m\n",
            "2 \n",
            "Parabéns\n",
            "----- 2ª PESSOA -----\n",
            "Digite seu nome: dfgdfdgdf\n",
            "Digite sua idade: 12\n",
            "Sexo (M/F): b\n",
            "Você não poderá participar do curso!!!\n"
          ]
        }
      ]
    },
    {
      "cell_type": "code",
      "source": [
        "raio = float(input())\n",
        "vol_esfera = ((4/3) * 3.14159 * raio ** 3)\n",
        "print(f'VOLUME = {vol_esfera:.3f}')"
      ],
      "metadata": {
        "colab": {
          "base_uri": "https://localhost:8080/"
        },
        "id": "Xgh6ENZ104iR",
        "outputId": "75586381-e8ec-4971-e5ab-41567a34ac9e"
      },
      "execution_count": null,
      "outputs": [
        {
          "output_type": "stream",
          "name": "stdout",
          "text": [
            "3\n",
            "VOLUME = 113.097\n"
          ]
        }
      ]
    },
    {
      "cell_type": "code",
      "source": [
        "a = float(input(\"Digite o lado 'a' do triângulo: \"))\n",
        "b = float(input(\"Digite o lado 'b' do triângulo: \"))\n",
        "c = float(input(\"Digite o lado 'c do triângulo: \"))\n",
        "\n",
        "triangulo = (a * c) / 2\n",
        "circulo = ((3.14159) * c **2"
      ],
      "metadata": {
        "id": "DNL3F4qmmDBT"
      },
      "execution_count": null,
      "outputs": []
    },
    {
      "cell_type": "code",
      "source": [
        "a, b, c = input().split(' ')\n",
        "a = float(a)\n",
        "b = float(b)\n",
        "c = float(c)\n",
        "tri = (a * c) / 2\n",
        "cir = (3.14159 * c ** 2)\n",
        "trap = ((a + b) * c) / 2\n",
        "quad = b * b\n",
        "ret = a * b\n",
        "print(f'TRIANGULO: {tri:.3f}')\n",
        "print(f'CIRCULO: {cir:.3f}')\n",
        "print(f'TRAPEZIO: {trap:.3f}')\n",
        "print(f'QUADRADO: {quad:.3f}')\n",
        "print(f'RETANGULO: {ret:.3f}')"
      ],
      "metadata": {
        "colab": {
          "base_uri": "https://localhost:8080/"
        },
        "id": "qA6cm0tz6Sas",
        "outputId": "75430a82-4317-4a01-c6dc-17db638bb718"
      },
      "execution_count": null,
      "outputs": [
        {
          "output_type": "stream",
          "name": "stdout",
          "text": [
            "3.0 4.0 5.2\n",
            "TRIANGULO: 7.800\n",
            "CIRCULO: 84.949\n",
            "TRAPEZIO: 18.200\n",
            "QUADRADO: 16.000\n",
            "RETANGULO: 12.000\n"
          ]
        }
      ]
    },
    {
      "cell_type": "code",
      "source": [
        "a, b, c = input().split(' ')\n",
        "a = int(a)\n",
        "b = int(b)\n",
        "c = int(c)\n",
        "maiorAB = (a + b + abs(a - b)) / 2\n",
        "maior = (maiorAB + c + abs(maiorAB - c)) / 2\n",
        "print(f'{maior:.0f} eh o maior')"
      ],
      "metadata": {
        "colab": {
          "base_uri": "https://localhost:8080/"
        },
        "id": "wTvfTfNVAikV",
        "outputId": "5b6ad8ed-63ac-4f16-b414-c822ab5e21b5"
      },
      "execution_count": null,
      "outputs": [
        {
          "output_type": "stream",
          "name": "stdout",
          "text": [
            "201 14 28\n",
            "201 eh o maior\n"
          ]
        }
      ]
    },
    {
      "cell_type": "code",
      "source": [
        "num = float(input())\n",
        "\n",
        "n, n1 = int(100), int(1)\n",
        "\n",
        "array = [50, 30, 10, 5, 3, 0]\n",
        "\n",
        "cent = [.5, .25, .15, .05, .04, 0]\n",
        "\n",
        "print(\"NOTAS:\")   \n",
        "\n",
        "for i in range(0, 6):\n",
        "\n",
        "    num1 = int(num / n)\n",
        "\n",
        "    temp = float(num % n)\n",
        "\n",
        "    num = temp\n",
        "\n",
        "    print(num1, \"nota(s) de R$\", format(n, '.2f'))\n",
        "\n",
        "    n -= array[i]\n",
        "    print(\"MOEDAS:\")\n",
        "\n",
        "for j in range(0, 6):\n",
        "\n",
        "    num1 = int(num / n1)\n",
        "\n",
        "    temp = float(num % n1)\n",
        "\n",
        "    num = temp\n",
        "\n",
        "    if (j != 5):\n",
        "\n",
        "        print(num1, \"moeda(s) de R$\", format(n1, '.2f'))\n",
        "\n",
        "    else:\n",
        "\n",
        "        print(num1, \"moeda(s) de R$\", format(n1, '.2f'), end='')\n",
        "\n",
        "        n1 -= cent[j]"
      ],
      "metadata": {
        "colab": {
          "base_uri": "https://localhost:8080/"
        },
        "id": "QiKyHySqENUi",
        "outputId": "55db39aa-6a92-4e52-ff0d-9c51a1eac47d"
      },
      "execution_count": null,
      "outputs": [
        {
          "output_type": "stream",
          "name": "stdout",
          "text": [
            "5\n",
            "NOTAS:\n",
            "0 nota(s) de R$ 100.00\n",
            "MOEDAS:\n",
            "0 nota(s) de R$ 50.00\n",
            "MOEDAS:\n",
            "0 nota(s) de R$ 20.00\n",
            "MOEDAS:\n",
            "0 nota(s) de R$ 10.00\n",
            "MOEDAS:\n",
            "1 nota(s) de R$ 5.00\n",
            "MOEDAS:\n",
            "0 nota(s) de R$ 2.00\n",
            "MOEDAS:\n",
            "0 moeda(s) de R$ 1.00\n",
            "0 moeda(s) de R$ 1.00\n",
            "0 moeda(s) de R$ 1.00\n",
            "0 moeda(s) de R$ 1.00\n",
            "0 moeda(s) de R$ 1.00\n",
            "0 moeda(s) de R$ 1.00"
          ]
        }
      ]
    },
    {
      "cell_type": "markdown",
      "source": [
        "**Adivinhar Número Secreto**"
      ],
      "metadata": {
        "id": "J_mI3L1JHHEj"
      }
    },
    {
      "cell_type": "code",
      "source": [
        "numeroSecreto = 5\n",
        "numero = int(input('Digite o número secreto \\n'))\n",
        "if (numero == numeroSecreto):\n",
        "    print('Acertou!!!')\n",
        "else:\n",
        "    print('Errou!!!')"
      ],
      "metadata": {
        "colab": {
          "base_uri": "https://localhost:8080/"
        },
        "id": "UiT9TNFsHE8U",
        "outputId": "2310b7fe-b925-4cd4-c720-8dc7d6f87dc9"
      },
      "execution_count": null,
      "outputs": [
        {
          "output_type": "stream",
          "name": "stdout",
          "text": [
            "Digite o número secreto \n",
            "5\n",
            "Acertou!!!\n"
          ]
        }
      ]
    },
    {
      "cell_type": "code",
      "source": [
        "users = {'hans': 'active', 'eleonora': 'inactive', 'hash': 'active'}\n",
        "for user, status in users.copy().items():\n",
        "    if status == 'inactive':\n",
        "        del users[user]\n",
        "\n",
        "active_users = {}\n",
        "for user, status in users.items():\n",
        "    if status == 'active':\n",
        "        active_users[user] = status"
      ],
      "metadata": {
        "id": "RY-rk4N_NRP4"
      },
      "execution_count": null,
      "outputs": []
    },
    {
      "cell_type": "code",
      "source": [
        "frutas = ['Maçã', 'Laranja', 'Uva', 'Goiaba', 'Limão']\n",
        "for i in frutas:\n",
        "    print(i.upper(), len(i))"
      ],
      "metadata": {
        "colab": {
          "base_uri": "https://localhost:8080/"
        },
        "id": "FF9kBBauZWIN",
        "outputId": "88d0ef8f-1012-40cc-f3a2-9567172ab1cd"
      },
      "execution_count": null,
      "outputs": [
        {
          "output_type": "stream",
          "name": "stdout",
          "text": [
            "MAÇÃ 4\n",
            "LARANJA 7\n",
            "UVA 3\n",
            "GOIABA 6\n",
            "LIMÃO 5\n"
          ]
        }
      ]
    },
    {
      "cell_type": "code",
      "source": [
        "s = 0\n",
        "for d in range(0, 5, 2):\n",
        "    s += d\n",
        "    print(s)"
      ],
      "metadata": {
        "id": "RDvLRaQbZ17c",
        "colab": {
          "base_uri": "https://localhost:8080/"
        },
        "outputId": "5c18ff00-4663-4d86-dc16-3b0fc677ed1a"
      },
      "execution_count": null,
      "outputs": [
        {
          "output_type": "stream",
          "name": "stdout",
          "text": [
            "0\n",
            "2\n",
            "6\n"
          ]
        }
      ]
    }
  ]
}