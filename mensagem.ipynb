{
  "nbformat": 4,
  "nbformat_minor": 0,
  "metadata": {
    "colab": {
      "name": "mensagem.ipynb",
      "provenance": [],
      "authorship_tag": "ABX9TyPw6Jl0KPI9HRZbBXZLQnfu",
      "include_colab_link": true
    },
    "kernelspec": {
      "name": "python3",
      "display_name": "Python 3"
    },
    "language_info": {
      "name": "python"
    }
  },
  "cells": [
    {
      "cell_type": "markdown",
      "metadata": {
        "id": "view-in-github",
        "colab_type": "text"
      },
      "source": [
        "<a href=\"https://colab.research.google.com/github/luizaraujo/Curso-Python/blob/main/mensagem.ipynb\" target=\"_parent\"><img src=\"https://colab.research.google.com/assets/colab-badge.svg\" alt=\"Open In Colab\"/></a>"
      ]
    },
    {
      "cell_type": "code",
      "execution_count": 5,
      "metadata": {
        "colab": {
          "base_uri": "https://localhost:8080/"
        },
        "id": "4wK8iG6eMwSr",
        "outputId": "1f361458-37ac-42ac-88f3-75bcc5cd4a7c"
      },
      "outputs": [
        {
          "output_type": "stream",
          "name": "stdout",
          "text": [
            "Digite um número:\n",
            "3\n",
            "Entrei na quarto suite, num vale 3\n"
          ]
        }
      ],
      "source": [
        "num = int(input('Digite um número:\\n'))\n",
        "mensagem = 'Nenhuma condição foi digitada ainda!'\n",
        "if num == 0:\n",
        "    mensagem = 'Entrei no primeiro suite, num vale 0'\n",
        "elif num == 1:\n",
        "    mensagem = 'Entrei na segundo suite, num vale 1'\n",
        "elif num == 2:\n",
        "    mensagem = 'Entrei na terceiro suite, num vale 2'\n",
        "elif num == 3:\n",
        "    mensagem = 'Entrei na quarto suite, num vale 3'\n",
        "elif num == 4:\n",
        "    mensagem = 'Entrei na quinto suite, num vale 4'\n",
        "else:\n",
        "    mensagem = 'Entrei na suite do else. O valor de num é 42.'\n",
        "print(mensagem)\n",
        "\n",
        "\n"
      ]
    }
  ]
}