{
  "nbformat": 4,
  "nbformat_minor": 0,
  "metadata": {
    "colab": {
      "name": "Listas.ipynb",
      "provenance": [],
      "authorship_tag": "ABX9TyNPkjCyb525s65XRl8PtNZQ",
      "include_colab_link": true
    },
    "kernelspec": {
      "name": "python3",
      "display_name": "Python 3"
    },
    "language_info": {
      "name": "python"
    }
  },
  "cells": [
    {
      "cell_type": "markdown",
      "metadata": {
        "id": "view-in-github",
        "colab_type": "text"
      },
      "source": [
        "<a href=\"https://colab.research.google.com/github/luizaraujo/Curso-Python/blob/main/Listas.ipynb\" target=\"_parent\"><img src=\"https://colab.research.google.com/assets/colab-badge.svg\" alt=\"Open In Colab\"/></a>"
      ]
    },
    {
      "cell_type": "markdown",
      "source": [
        "# Crie uma lista e depois acescente 5 números a ela:"
      ],
      "metadata": {
        "id": "NkEUy6xZid-L"
      }
    },
    {
      "cell_type": "code",
      "execution_count": 2,
      "metadata": {
        "colab": {
          "base_uri": "https://localhost:8080/"
        },
        "id": "avOInBINiYrG",
        "outputId": "82271ed2-efb4-4a37-fc56-a1601150a221"
      },
      "outputs": [
        {
          "output_type": "stream",
          "name": "stdout",
          "text": [
            "Digite um número: 2\n",
            "Digite um número: 5.4\n",
            "Digite um número: 13\n",
            "Digite um número: 21\n",
            "Digite um número: 42.1\n",
            "[2.0, 5.4, 13.0, 21.0, 42.1]\n"
          ]
        }
      ],
      "source": [
        "lista = []\n",
        "for _ in range(5):\n",
        "    num = float(input('Digite um número: '))\n",
        "    lista.append(num)\n",
        "print(lista)"
      ]
    },
    {
      "cell_type": "markdown",
      "source": [
        "# Crie uma Lista de 5 números e depois imprima na ordem inversa:"
      ],
      "metadata": {
        "id": "uoaDCck9nRn7"
      }
    },
    {
      "cell_type": "code",
      "source": [
        "lista1 = []\n",
        "for _ in range(5):\n",
        "    num = float(input('Digite um número: '))\n",
        "    lista1.append(num)\n",
        "print(lista1)\n",
        "lista1.reverse()\n",
        "print(lista1)\n"
      ],
      "metadata": {
        "colab": {
          "base_uri": "https://localhost:8080/"
        },
        "id": "y7ZTbUwZkcgC",
        "outputId": "e00919d9-25f2-4abd-8fb1-3473821b18dd"
      },
      "execution_count": 12,
      "outputs": [
        {
          "output_type": "stream",
          "name": "stdout",
          "text": [
            "Digite um número: 1\n",
            "Digite um número: 3\n",
            "Digite um número: 5\n",
            "Digite um número: 7\n",
            "Digite um número: 9\n",
            "[1.0, 3.0, 5.0, 7.0, 9.0]\n",
            "[9.0, 7.0, 5.0, 3.0, 1.0]\n"
          ]
        }
      ]
    }
  ]
}