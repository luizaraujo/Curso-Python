{
  "nbformat": 4,
  "nbformat_minor": 0,
  "metadata": {
    "colab": {
      "name": "Listas.ipynb",
      "provenance": [],
      "authorship_tag": "ABX9TyNzCJxBTHibzbDgbtXDPzoM",
      "include_colab_link": true
    },
    "kernelspec": {
      "name": "python3",
      "display_name": "Python 3"
    },
    "language_info": {
      "name": "python"
    }
  },
  "cells": [
    {
      "cell_type": "markdown",
      "metadata": {
        "id": "view-in-github",
        "colab_type": "text"
      },
      "source": [
        "<a href=\"https://colab.research.google.com/github/luizaraujo/Curso-Python/blob/main/Listas.ipynb\" target=\"_parent\"><img src=\"https://colab.research.google.com/assets/colab-badge.svg\" alt=\"Open In Colab\"/></a>"
      ]
    },
    {
      "cell_type": "markdown",
      "metadata": {
        "id": "TXRT-xfESY9x"
      },
      "source": [
        "### **Listas (Arrays)**"
      ]
    },
    {
      "cell_type": "code",
      "metadata": {
        "id": "f54oY1dmSXmo"
      },
      "source": [
        "frutas = ['Banana', 'Laranja', 'Abacate', 'Melancia', 'Abacaxi']\n",
        "saldo_alunos = [500.00, 1200.00, 600.00, 50000.00]\n",
        "num_pacientes = [25, 36, 50, 45, 22, 33, 89]"
      ],
      "execution_count": 2,
      "outputs": []
    },
    {
      "cell_type": "code",
      "metadata": {
        "colab": {
          "base_uri": "https://localhost:8080/"
        },
        "id": "Aa_BfgtZS9TI",
        "outputId": "5960c053-ad73-4c48-db0f-84e21955d0aa"
      },
      "source": [
        "print(frutas)"
      ],
      "execution_count": 3,
      "outputs": [
        {
          "output_type": "stream",
          "name": "stdout",
          "text": [
            "['Banana', 'Laranja', 'Abacate', 'Melancia', 'Abacaxi']\n"
          ]
        }
      ]
    },
    {
      "cell_type": "code",
      "metadata": {
        "colab": {
          "base_uri": "https://localhost:8080/"
        },
        "id": "qnYgwyWqTAzH",
        "outputId": "c0bde463-3250-4222-8f21-0812c8fcb1d5"
      },
      "source": [
        "print(saldo_alunos)"
      ],
      "execution_count": 4,
      "outputs": [
        {
          "output_type": "stream",
          "name": "stdout",
          "text": [
            "[500.0, 1200.0, 600.0, 50000.0]\n"
          ]
        }
      ]
    },
    {
      "cell_type": "code",
      "metadata": {
        "colab": {
          "base_uri": "https://localhost:8080/"
        },
        "id": "Mvd36HU8TEE4",
        "outputId": "aec14f06-1fa0-42df-e077-b124af39696d"
      },
      "source": [
        "print(num_pacientes)"
      ],
      "execution_count": 5,
      "outputs": [
        {
          "output_type": "stream",
          "name": "stdout",
          "text": [
            "[25, 36, 50, 45, 22, 33, 89]\n"
          ]
        }
      ]
    },
    {
      "cell_type": "markdown",
      "metadata": {
        "id": "Zkzld3kvTLcQ"
      },
      "source": [
        "### **Permite Duplicados**"
      ]
    },
    {
      "cell_type": "code",
      "metadata": {
        "id": "u6jHlVzRTPiI"
      },
      "source": [
        "frutas_duplicadas = ['Banana', 'Laranja', 'Abacate', 'Melancia', 'Abacaxi', 'Abacate', 'Melancia', 'Abacaxi']"
      ],
      "execution_count": 6,
      "outputs": []
    },
    {
      "cell_type": "code",
      "metadata": {
        "colab": {
          "base_uri": "https://localhost:8080/"
        },
        "id": "GaGhR39BThyH",
        "outputId": "ed430f2b-b086-4e5f-dd03-db9b0f3db421"
      },
      "source": [
        "print(frutas_duplicadas)"
      ],
      "execution_count": 7,
      "outputs": [
        {
          "output_type": "stream",
          "name": "stdout",
          "text": [
            "['Banana', 'Laranja', 'Abacate', 'Melancia', 'Abacaxi', 'Abacate', 'Melancia', 'Abacaxi']\n"
          ]
        }
      ]
    },
    {
      "cell_type": "markdown",
      "metadata": {
        "id": "QLqi7jtkTlc3"
      },
      "source": [
        "### **Calcula tamanho da lista**"
      ]
    },
    {
      "cell_type": "code",
      "metadata": {
        "colab": {
          "base_uri": "https://localhost:8080/"
        },
        "id": "9hUn62PCTsHz",
        "outputId": "398cad74-0918-4365-f3e4-89988a8b5e58"
      },
      "source": [
        "len(frutas_duplicadas)"
      ],
      "execution_count": 8,
      "outputs": [
        {
          "output_type": "execute_result",
          "data": {
            "text/plain": [
              "8"
            ]
          },
          "metadata": {},
          "execution_count": 8
        }
      ]
    },
    {
      "cell_type": "code",
      "metadata": {
        "colab": {
          "base_uri": "https://localhost:8080/"
        },
        "id": "oIUcUO0IT2DO",
        "outputId": "20f723ac-2f59-4cac-8069-9e0133b5b9d5"
      },
      "source": [
        "len(saldo_alunos)"
      ],
      "execution_count": 9,
      "outputs": [
        {
          "output_type": "execute_result",
          "data": {
            "text/plain": [
              "4"
            ]
          },
          "metadata": {},
          "execution_count": 9
        }
      ]
    },
    {
      "cell_type": "markdown",
      "metadata": {
        "id": "5r6r8p8MT8G2"
      },
      "source": [
        "### **Uma Lista pode conter diferentes tipos de dados**"
      ]
    },
    {
      "cell_type": "code",
      "metadata": {
        "id": "N9oPkRY-UGUi"
      },
      "source": [
        "variados = [255, 'Madame', 12.5, 'Arroz']"
      ],
      "execution_count": 10,
      "outputs": []
    },
    {
      "cell_type": "code",
      "metadata": {
        "colab": {
          "base_uri": "https://localhost:8080/"
        },
        "id": "T6gg5ITIUQWx",
        "outputId": "50a00fe4-e71a-4829-9933-94ea34b94c67"
      },
      "source": [
        "print(variados)"
      ],
      "execution_count": 11,
      "outputs": [
        {
          "output_type": "stream",
          "name": "stdout",
          "text": [
            "[255, 'Madame', 12.5, 'Arroz']\n"
          ]
        }
      ]
    },
    {
      "cell_type": "markdown",
      "metadata": {
        "id": "5KO-454uUeG1"
      },
      "source": [
        "### **Acessar um item da lista**"
      ]
    },
    {
      "cell_type": "code",
      "metadata": {
        "colab": {
          "base_uri": "https://localhost:8080/"
        },
        "id": "kN75ep4lUjGi",
        "outputId": "94a5010d-ab68-421c-d88c-3518ab03b907"
      },
      "source": [
        "print(frutas[1])"
      ],
      "execution_count": 12,
      "outputs": [
        {
          "output_type": "stream",
          "name": "stdout",
          "text": [
            "Laranja\n"
          ]
        }
      ]
    },
    {
      "cell_type": "code",
      "metadata": {
        "colab": {
          "base_uri": "https://localhost:8080/"
        },
        "id": "vLs6IZXRUt3Q",
        "outputId": "7ed9635c-bffc-4831-86da-1ec8b933be21"
      },
      "source": [
        "print(saldo_alunos[2])"
      ],
      "execution_count": 13,
      "outputs": [
        {
          "output_type": "stream",
          "name": "stdout",
          "text": [
            "600.0\n"
          ]
        }
      ]
    },
    {
      "cell_type": "markdown",
      "metadata": {
        "id": "KVcjeM_9UVM2"
      },
      "source": [
        "### **Adicionando um item na lista**"
      ]
    },
    {
      "cell_type": "code",
      "metadata": {
        "id": "-CBq_3VrUZXe"
      },
      "source": [
        "frutas.append('Morango')"
      ],
      "execution_count": 14,
      "outputs": []
    },
    {
      "cell_type": "code",
      "metadata": {
        "colab": {
          "base_uri": "https://localhost:8080/"
        },
        "id": "oYmEgZpRU49R",
        "outputId": "4e20d460-d20c-4962-df9c-c5fa88ec6615"
      },
      "source": [
        "print(frutas)"
      ],
      "execution_count": 15,
      "outputs": [
        {
          "output_type": "stream",
          "name": "stdout",
          "text": [
            "['Banana', 'Laranja', 'Abacate', 'Melancia', 'Abacaxi', 'Morango']\n"
          ]
        }
      ]
    },
    {
      "cell_type": "markdown",
      "metadata": {
        "id": "6kN5e9U0U9Lg"
      },
      "source": [
        "### **Unindo listas**"
      ]
    },
    {
      "cell_type": "code",
      "metadata": {
        "id": "oCVVTgL2VAr3"
      },
      "source": [
        "saldo_alunos.extend(num_pacientes)"
      ],
      "execution_count": 16,
      "outputs": []
    },
    {
      "cell_type": "code",
      "metadata": {
        "colab": {
          "base_uri": "https://localhost:8080/"
        },
        "id": "FJHk-ZUwVGfQ",
        "outputId": "c31b5818-49e7-49ba-bec6-f3d070a508d3"
      },
      "source": [
        "print(saldo_alunos)"
      ],
      "execution_count": 17,
      "outputs": [
        {
          "output_type": "stream",
          "name": "stdout",
          "text": [
            "[500.0, 1200.0, 600.0, 50000.0, 25, 36, 50, 45, 22, 33, 89]\n"
          ]
        }
      ]
    }
  ]
}