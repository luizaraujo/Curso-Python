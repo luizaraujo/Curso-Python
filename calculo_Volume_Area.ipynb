{
  "nbformat": 4,
  "nbformat_minor": 0,
  "metadata": {
    "colab": {
      "name": "calculo_Volume_Area.ipynb",
      "provenance": [],
      "authorship_tag": "ABX9TyPdqU0saYxEtXuFiD5D5JmM",
      "include_colab_link": true
    },
    "kernelspec": {
      "name": "python3",
      "display_name": "Python 3"
    },
    "language_info": {
      "name": "python"
    }
  },
  "cells": [
    {
      "cell_type": "markdown",
      "metadata": {
        "id": "view-in-github",
        "colab_type": "text"
      },
      "source": [
        "<a href=\"https://colab.research.google.com/github/luizaraujo/Curso-Python/blob/main/calculo_Volume_Area.ipynb\" target=\"_parent\"><img src=\"https://colab.research.google.com/assets/colab-badge.svg\" alt=\"Open In Colab\"/></a>"
      ]
    },
    {
      "cell_type": "markdown",
      "metadata": {
        "id": "v4c8EEI7zvj9"
      },
      "source": [
        "# **Calculo de Área e Volume**"
      ]
    },
    {
      "cell_type": "code",
      "metadata": {
        "colab": {
          "base_uri": "https://localhost:8080/"
        },
        "id": "38MyAbQrzRh-",
        "outputId": "11578c53-8731-48db-fb07-179d12915bc2"
      },
      "source": [
        "largura = float(input(\"Insira a largura por favor: \"))\n",
        "comprimento = float(input(\"Insira o comprimento: \"))\n",
        "profundidade = float(input(\"Insira a profundidade: \"))\n",
        "\n",
        "area = largura * comprimento\n",
        "volume = area * profundidade\n",
        "\n",
        "print(f'\\nO calculo da área é de {area:.2f} m² e o Volume é {volume:.2f} m³.')"
      ],
      "execution_count": 3,
      "outputs": [
        {
          "output_type": "stream",
          "name": "stdout",
          "text": [
            "Insira a largura por favor: 5.14\n",
            "Insira o comprimento: 13.24\n",
            "Insira a profundidade: 2.70\n",
            "\n",
            "O calculo da área é de 68.05 m² e o Volume é 183.74 m³.\n"
          ]
        }
      ]
    }
  ]
}