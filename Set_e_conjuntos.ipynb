{
  "nbformat": 4,
  "nbformat_minor": 0,
  "metadata": {
    "colab": {
      "name": "Set e conjuntos.ipynb",
      "provenance": [],
      "authorship_tag": "ABX9TyNHGqwrylurcRecxTcNL+YD",
      "include_colab_link": true
    },
    "kernelspec": {
      "name": "python3",
      "display_name": "Python 3"
    },
    "language_info": {
      "name": "python"
    }
  },
  "cells": [
    {
      "cell_type": "markdown",
      "metadata": {
        "id": "view-in-github",
        "colab_type": "text"
      },
      "source": [
        "<a href=\"https://colab.research.google.com/github/luizaraujo/Curso-Python/blob/main/Set_e_conjuntos.ipynb\" target=\"_parent\"><img src=\"https://colab.research.google.com/assets/colab-badge.svg\" alt=\"Open In Colab\"/></a>"
      ]
    },
    {
      "cell_type": "code",
      "metadata": {
        "colab": {
          "base_uri": "https://localhost:8080/"
        },
        "id": "Hainy5XanRKE",
        "outputId": "8e420a26-08e6-44f7-9788-545a3c86fb56"
      },
      "source": [
        "A = (1, 3, 5)\n",
        "B = (2, 3, 4, 7)\n",
        "\n",
        "print(set(A + B))"
      ],
      "execution_count": 8,
      "outputs": [
        {
          "output_type": "stream",
          "name": "stdout",
          "text": [
            "{1, 2, 3, 4, 5, 7}\n"
          ]
        }
      ]
    },
    {
      "cell_type": "code",
      "metadata": {
        "colab": {
          "base_uri": "https://localhost:8080/"
        },
        "id": "5SZo_ubunvGY",
        "outputId": "fad40192-0afe-41e4-ba66-31c7f7dc0a66"
      },
      "source": [
        "X = {115, 42, 'luiz', 21, 42}\n",
        "Y = {21, 42, 115, 'luiz'}\n",
        "X == Y"
      ],
      "execution_count": 10,
      "outputs": [
        {
          "output_type": "execute_result",
          "data": {
            "text/plain": [
              "True"
            ]
          },
          "metadata": {},
          "execution_count": 10
        }
      ]
    },
    {
      "cell_type": "code",
      "metadata": {
        "colab": {
          "base_uri": "https://localhost:8080/"
        },
        "id": "js67gj6-pO48",
        "outputId": "c14c16f8-734e-4871-8711-4478a8bb64ab"
      },
      "source": [
        "x = 1\n",
        "x in {2, 4, 5}\n"
      ],
      "execution_count": 13,
      "outputs": [
        {
          "output_type": "execute_result",
          "data": {
            "text/plain": [
              "False"
            ]
          },
          "metadata": {},
          "execution_count": 13
        }
      ]
    },
    {
      "cell_type": "code",
      "metadata": {
        "colab": {
          "base_uri": "https://localhost:8080/"
        },
        "id": "8ZHsRbV_s5Lt",
        "outputId": "2f3b19ba-cd62-4116-c746-916764d2e1c4"
      },
      "source": [
        "y = 1\n",
        "y not in {2, 4, 5}"
      ],
      "execution_count": 15,
      "outputs": [
        {
          "output_type": "execute_result",
          "data": {
            "text/plain": [
              "True"
            ]
          },
          "metadata": {},
          "execution_count": 15
        }
      ]
    },
    {
      "cell_type": "markdown",
      "metadata": {
        "id": "aWm3c-rKtcFW"
      },
      "source": [
        "### **Operações com conjuntos**"
      ]
    },
    {
      "cell_type": "markdown",
      "metadata": {
        "id": "yKS99Y9yt2N8"
      },
      "source": [
        "**Criando um conjunto vazio, use a função set()**"
      ]
    },
    {
      "cell_type": "code",
      "metadata": {
        "id": "eZBfeJEwt0sa"
      },
      "source": [
        "conjunto_vazio = set()"
      ],
      "execution_count": 19,
      "outputs": []
    },
    {
      "cell_type": "markdown",
      "metadata": {
        "id": "chSMBzezxAqE"
      },
      "source": [
        "**Se fizer conjunto_vazio = {}, a variável conjunto_vazio apontará na realidade para um dicionário.**"
      ]
    }
  ]
}