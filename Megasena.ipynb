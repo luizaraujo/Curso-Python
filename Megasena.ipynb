{
  "nbformat": 4,
  "nbformat_minor": 0,
  "metadata": {
    "colab": {
      "name": "Megasena.ipynb",
      "provenance": [],
      "authorship_tag": "ABX9TyNvxrlIKyOdNm17jv2HIZ5V",
      "include_colab_link": true
    },
    "kernelspec": {
      "name": "python3",
      "display_name": "Python 3"
    },
    "language_info": {
      "name": "python"
    }
  },
  "cells": [
    {
      "cell_type": "markdown",
      "metadata": {
        "id": "view-in-github",
        "colab_type": "text"
      },
      "source": [
        "<a href=\"https://colab.research.google.com/github/luizaraujo/Curso-Python/blob/main/Megasena.ipynb\" target=\"_parent\"><img src=\"https://colab.research.google.com/assets/colab-badge.svg\" alt=\"Open In Colab\"/></a>"
      ]
    },
    {
      "cell_type": "code",
      "execution_count": 5,
      "metadata": {
        "colab": {
          "base_uri": "https://localhost:8080/"
        },
        "id": "xhnuiA5l5eWO",
        "outputId": "f59bbb0b-bc32-4823-97b9-ebb00c442846"
      },
      "outputs": [
        {
          "output_type": "stream",
          "name": "stdout",
          "text": [
            "________________________________________\n",
            "                MegaSena                \n",
            "________________________________________\n",
            "     Quantas apostas vc quer fazer?      \n",
            "5\n",
            "________________________________________\n",
            "-=-=-=-=-=  Sorteando 5 jogos  -=-=-=-=\n",
            "________________________________________\n",
            "Sua 1° Aposta é: [3, 12, 20, 36, 55, 60]\n",
            "Sua 2° Aposta é: [17, 21, 40, 41, 46, 50]\n",
            "Sua 3° Aposta é: [16, 23, 31, 44, 58, 60]\n",
            "Sua 4° Aposta é: [0, 4, 26, 43, 44, 47]\n",
            "Sua 5° Aposta é: [7, 8, 24, 27, 30, 53]\n",
            "-=-=-=-=-=-=  Boa sorte  -=-=-=-=-=-=-=\n"
          ]
        }
      ],
      "source": [
        "from random import randint as r\n",
        "from time import sleep as s\n",
        "list = []\n",
        "data = []\n",
        "print('_' * 40)\n",
        "print(f'{\"MegaSena\":^40}')\n",
        "print('_' * 40)\n",
        "n = int(input(f'{\"Quantas apostas vc quer fazer?\":^40} \\n'))\n",
        "print('_' * 40)\n",
        "print('-=' * 5 + f'  Sorteando {n} jogos  ' + '-=' * 4)\n",
        "print('_' * 40)\n",
        "for c in range(0, n):\n",
        "    aposta = 0\n",
        "    while aposta != 6:\n",
        "        a = r(0, 60)\n",
        "        if a not in data:\n",
        "            data.append(a)\n",
        "            aposta += 1\n",
        "    list.append(data.copy())\n",
        "    data.clear()\n",
        "for i, c in enumerate(list):\n",
        "    print(f'Sua {i + 1}° Aposta é: {sorted(c)}')\n",
        "    s(0.5)\n",
        "print('-=' * 6 + f'  Boa sorte  ' + '-=' * 7)"
      ]
    }
  ]
}