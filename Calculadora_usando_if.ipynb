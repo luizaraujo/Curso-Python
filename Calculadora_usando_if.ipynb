{
  "nbformat": 4,
  "nbformat_minor": 0,
  "metadata": {
    "colab": {
      "name": "Calculadora.ipynb",
      "provenance": [],
      "authorship_tag": "ABX9TyNxoKexqrHVMxnGjoz7iZtK",
      "include_colab_link": true
    },
    "kernelspec": {
      "name": "python3",
      "display_name": "Python 3"
    },
    "language_info": {
      "name": "python"
    }
  },
  "cells": [
    {
      "cell_type": "markdown",
      "metadata": {
        "id": "view-in-github",
        "colab_type": "text"
      },
      "source": [
        "<a href=\"https://colab.research.google.com/github/luizaraujo/Curso-Python/blob/main/Calculadora_usando_if.ipynb\" target=\"_parent\"><img src=\"https://colab.research.google.com/assets/colab-badge.svg\" alt=\"Open In Colab\"/></a>"
      ]
    },
    {
      "cell_type": "code",
      "metadata": {
        "colab": {
          "base_uri": "https://localhost:8080/"
        },
        "id": "VW_OiabBiQWn",
        "outputId": "620f3153-3f44-4d80-cc9c-bc417d2af251"
      },
      "source": [
        "num1 = float(input(\"Informe o primeiro número: \\n\"))\n",
        "num2 = float(input(\"Informe o segundo número: \\n\"))\n",
        "soma = num1 + num2\n",
        "sub = num1 - num2\n",
        "mult = num1 * num2\n",
        "div = num1 / num2\n",
        "\n",
        "opcao = input(\"Qual a opção desejada: soma / sub / mult / div \\n\")\n",
        "\n",
        "if (opcao == 'soma'):   \n",
        "    print(f'A soma dos números {num1} e {num2} é {soma}\\n')\n",
        "elif (opcao == 'sub'):\n",
        "    print(f'A subtração dos números {num1} e {num2} é {sub}\\n')\n",
        "elif (opcao == 'mult'):\n",
        "    print(f'A multiplicação dos números {num1} e {num2} é {mult}\\n')\n",
        "else:\n",
        "   print(f'A divisão dos números {num1} e {num2} é {div}\\n')\n",
        "\n",
        "print(\"FIM\")\n"
      ],
      "execution_count": 15,
      "outputs": [
        {
          "output_type": "stream",
          "name": "stdout",
          "text": [
            "Informe o primeiro número: \n",
            "2.5\n",
            "Informe o segundo número: \n",
            "3.4\n",
            "Qual a opção desejada: soma / sub / mult / div \n",
            "soma\n",
            "A soma dos números 2.5 e 3.4 é 5.9\n",
            "\n",
            "FIM\n"
          ]
        }
      ]
    }
  ]
}