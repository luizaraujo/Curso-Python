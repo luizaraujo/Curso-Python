{
  "nbformat": 4,
  "nbformat_minor": 0,
  "metadata": {
    "colab": {
      "name": "dicionario.ipynb",
      "provenance": [],
      "authorship_tag": "ABX9TyNxeZwUA80lcH4jhFJxcJxQ",
      "include_colab_link": true
    },
    "kernelspec": {
      "name": "python3",
      "display_name": "Python 3"
    },
    "language_info": {
      "name": "python"
    }
  },
  "cells": [
    {
      "cell_type": "markdown",
      "metadata": {
        "id": "view-in-github",
        "colab_type": "text"
      },
      "source": [
        "<a href=\"https://colab.research.google.com/github/luizaraujo/Curso-Python/blob/main/dicionario.ipynb\" target=\"_parent\"><img src=\"https://colab.research.google.com/assets/colab-badge.svg\" alt=\"Open In Colab\"/></a>"
      ]
    },
    {
      "cell_type": "code",
      "execution_count": 7,
      "metadata": {
        "colab": {
          "base_uri": "https://localhost:8080/"
        },
        "id": "RFNqpk2Hyt2r",
        "outputId": "7ca7c004-6a9b-465b-92c2-e1a2b489426a"
      },
      "outputs": [
        {
          "output_type": "stream",
          "name": "stdout",
          "text": [
            "\n",
            "Insira o nome do aluno: Luiz\n",
            "Insira a nota do aluno: 5.5\n",
            "\n",
            "Insira o nome do aluno: carlos\n",
            "Insira a nota do aluno: 7.3\n",
            "\n",
            "Insira o nome do aluno: marcos\n",
            "Insira a nota do aluno: 9\n",
            "Luiz\n"
          ]
        }
      ],
      "source": [
        "dicionario = {}\n",
        "for x in range(0, 3):\n",
        "    nome = input(\"\\nInsira o nome do aluno: \")\n",
        "    nota = float(input(\"Insira a nota do aluno: \"))\n",
        "    dicionario[nome] = nota\n",
        "\n",
        "newdict = sorted(dicionario)\n",
        "\n",
        "print(newdict[0])"
      ]
    },
    {
      "cell_type": "code",
      "source": [
        "dicionario = {}\n",
        "for x in range(0, 3):\n",
        "    nome = input(\"\\nInsira o nome do aluno: \")\n",
        "    nota = float(input(\"Insira a nota do aluno: \"))\n",
        "    dicionario[nome] = nota\n",
        "\n",
        "newdict = sorted(dicionario.items())\n",
        "\n",
        "print(dicionario)\n",
        "print(newdict[0][1])"
      ],
      "metadata": {
        "colab": {
          "base_uri": "https://localhost:8080/"
        },
        "id": "RWQU4akTzaew",
        "outputId": "47a9cae4-209d-4a6c-c6d3-60cad2cbfe14"
      },
      "execution_count": 8,
      "outputs": [
        {
          "output_type": "stream",
          "name": "stdout",
          "text": [
            "\n",
            "Insira o nome do aluno: luiz\n",
            "Insira a nota do aluno: 5\n",
            "\n",
            "Insira o nome do aluno: carlos\n",
            "Insira a nota do aluno: 7.1\n",
            "\n",
            "Insira o nome do aluno: jorge\n",
            "Insira a nota do aluno: 6.3\n",
            "{'luiz': 5.0, 'carlos': 7.1, 'jorge': 6.3}\n",
            "7.1\n"
          ]
        }
      ]
    },
    {
      "cell_type": "code",
      "source": [
        ""
      ],
      "metadata": {
        "id": "Utx7WyWs4ARY"
      },
      "execution_count": null,
      "outputs": []
    }
  ]
}