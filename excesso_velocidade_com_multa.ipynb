{
  "nbformat": 4,
  "nbformat_minor": 0,
  "metadata": {
    "colab": {
      "name": "excesso_velocidade_com_multa.ipynb",
      "provenance": [],
      "authorship_tag": "ABX9TyPt+tjX0YWbNTN8jvU2Ako2",
      "include_colab_link": true
    },
    "kernelspec": {
      "name": "python3",
      "display_name": "Python 3"
    },
    "language_info": {
      "name": "python"
    }
  },
  "cells": [
    {
      "cell_type": "markdown",
      "metadata": {
        "id": "view-in-github",
        "colab_type": "text"
      },
      "source": [
        "<a href=\"https://colab.research.google.com/github/luizaraujo/Curso-Python/blob/main/excesso_velocidade_com_multa.ipynb\" target=\"_parent\"><img src=\"https://colab.research.google.com/assets/colab-badge.svg\" alt=\"Open In Colab\"/></a>"
      ]
    },
    {
      "cell_type": "markdown",
      "metadata": {
        "id": "J8LOPJd9ftvD"
      },
      "source": [
        "### **Escreva um programa que leia a velocidade de um carro. Se ele ultrapassar 80 Km/h, mostre uma mensagem dizendo que ele foi multado. A multa vai custar R$7,00 por cada Km acima do limite.**"
      ]
    },
    {
      "cell_type": "code",
      "metadata": {
        "id": "LUXnFVqufs_7",
        "colab": {
          "base_uri": "https://localhost:8080/"
        },
        "outputId": "ecde8185-7b40-42e0-ccf8-c3be29ff5656"
      },
      "source": [
        "velocidade = float(input('Qual foi a velocidade do carro? '))\n",
        "velocidade_maxima = 80.0\n",
        "multa = 7.0\n",
        "vlr_multa = velocidade * multa\n",
        "\n",
        "if velocidade > velocidade_maxima:\n",
        "    print(f'Você será multado e pagará a multa de {vlr_multa:.2f} .')\n",
        "else:\n",
        "    print('Parabéns você está na velocidade permitida na rodovia!')"
      ],
      "execution_count": 12,
      "outputs": [
        {
          "output_type": "stream",
          "name": "stdout",
          "text": [
            "Qual foi a velocidade do carro? 125\n",
            "Você será multado e pagará a multa de 875.00 .\n"
          ]
        }
      ]
    }
  ]
}