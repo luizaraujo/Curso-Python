{
  "nbformat": 4,
  "nbformat_minor": 0,
  "metadata": {
    "colab": {
      "name": "excesso_velocidade_com_multa.ipynb",
      "provenance": [],
      "authorship_tag": "ABX9TyPN9tscG/ys8BxxFk9eZD3k",
      "include_colab_link": true
    },
    "kernelspec": {
      "name": "python3",
      "display_name": "Python 3"
    },
    "language_info": {
      "name": "python"
    }
  },
  "cells": [
    {
      "cell_type": "markdown",
      "metadata": {
        "id": "view-in-github",
        "colab_type": "text"
      },
      "source": [
        "<a href=\"https://colab.research.google.com/github/luizaraujo/Curso-Python/blob/main/excesso_velocidade_com_multa.ipynb\" target=\"_parent\"><img src=\"https://colab.research.google.com/assets/colab-badge.svg\" alt=\"Open In Colab\"/></a>"
      ]
    },
    {
      "cell_type": "markdown",
      "metadata": {
        "id": "J8LOPJd9ftvD"
      },
      "source": [
        "### **Escreva um programa que leia a velocidade de um carro. Se ele ultrapassar 80 Km/h, mostre uma mensagem dizendo que ele foi multado. A multa vai custar R$7,00 por cada Km acima do limite.**"
      ]
    },
    {
      "cell_type": "code",
      "metadata": {
        "id": "pCLmV_-VEkHq",
        "colab": {
          "base_uri": "https://localhost:8080/"
        },
        "outputId": "f02c273e-366d-4273-8772-c1d036d4c848"
      },
      "source": [
        "velocidade_carro = int(input('Qual a velocidade do carro?\\n'))\n",
        "multa_km = 7.0\n",
        "velocidade_limite = 80\n",
        "\n",
        "if velocidade_carro > 80:\n",
        "    dif_velocidade = velocidade_carro -  velocidade_limite\n",
        "    valor_multado = dif_velocidade * multa_km\n",
        "    print(f'Você ultrapassou o limite de velocidade da rodovia e será multado no valor de R${valor_multado:.2f}!')\n",
        "else:\n",
        "    print('Parabéns, você está dentro dos limites de velocidade da rodovia!')"
      ],
      "execution_count": 1,
      "outputs": [
        {
          "output_type": "stream",
          "name": "stdout",
          "text": [
            "Qual a velocidade do carro?\n",
            "121\n",
            "Você ultrapassou o limite de velocidade da rodovia e será multado no valor de R$287.00!\n"
          ]
        }
      ]
    }
  ]
}