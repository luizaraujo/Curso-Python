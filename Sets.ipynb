{
  "nbformat": 4,
  "nbformat_minor": 0,
  "metadata": {
    "colab": {
      "name": "Sets.ipynb",
      "provenance": [],
      "authorship_tag": "ABX9TyMDNX4tngJECjYWaC66QinM",
      "include_colab_link": true
    },
    "kernelspec": {
      "name": "python3",
      "display_name": "Python 3"
    },
    "language_info": {
      "name": "python"
    }
  },
  "cells": [
    {
      "cell_type": "markdown",
      "metadata": {
        "id": "view-in-github",
        "colab_type": "text"
      },
      "source": [
        "<a href=\"https://colab.research.google.com/github/luizaraujo/Curso-Python/blob/main/Sets.ipynb\" target=\"_parent\"><img src=\"https://colab.research.google.com/assets/colab-badge.svg\" alt=\"Open In Colab\"/></a>"
      ]
    },
    {
      "cell_type": "markdown",
      "metadata": {
        "id": "xPWKeI2YmVZk"
      },
      "source": [
        "### **Sets**"
      ]
    },
    {
      "cell_type": "code",
      "metadata": {
        "id": "ZRaaFP75HzES",
        "colab": {
          "base_uri": "https://localhost:8080/"
        },
        "outputId": "32009fb1-cc38-4196-aa9a-1e1cf1f3ba1b"
      },
      "source": [
        "frutas1 = {'Abacaxi', 'Mamão', 'Laranja', 'Limão', 'Goiaba'}\n",
        "print(type(frutas1))\n",
        "\n"
      ],
      "execution_count": 27,
      "outputs": [
        {
          "output_type": "stream",
          "name": "stdout",
          "text": [
            "<class 'set'>\n"
          ]
        }
      ]
    },
    {
      "cell_type": "code",
      "metadata": {
        "colab": {
          "base_uri": "https://localhost:8080/"
        },
        "id": "0mH4Y_YOOkuC",
        "outputId": "c67e7664-1fc3-4df2-9640-1889d0ccb8ba"
      },
      "source": [
        "print(frutas1)"
      ],
      "execution_count": 28,
      "outputs": [
        {
          "output_type": "stream",
          "name": "stdout",
          "text": [
            "{'Laranja', 'Goiaba', 'Abacaxi', 'Mamão', 'Limão'}\n"
          ]
        }
      ]
    },
    {
      "cell_type": "markdown",
      "metadata": {
        "id": "YxZL1nuWOs09"
      },
      "source": [
        "### **Não permitem valores** **duplicados**"
      ]
    },
    {
      "cell_type": "code",
      "metadata": {
        "colab": {
          "base_uri": "https://localhost:8080/"
        },
        "id": "PhjQrADOO3yr",
        "outputId": "462582bb-90bb-4a08-f923-2b1257441036"
      },
      "source": [
        "frutas2 = {'Abacaxi', 'Mamão', 'Laranja', 'Limão', 'Goiaba', 'Abacaxi', 'Mamão', 'Laranja', 'Limão', 'Goiaba','Abacaxi', 'Mamão', 'Laranja', 'Limão', 'Goiaba', 'Jabuticaba'}\n",
        "print(frutas2)"
      ],
      "execution_count": 29,
      "outputs": [
        {
          "output_type": "stream",
          "name": "stdout",
          "text": [
            "{'Laranja', 'Goiaba', 'Abacaxi', 'Jabuticaba', 'Mamão', 'Limão'}\n"
          ]
        }
      ]
    },
    {
      "cell_type": "markdown",
      "metadata": {
        "id": "87tAT_1oPizi"
      },
      "source": [
        "### **Checando valores em um SET**"
      ]
    },
    {
      "cell_type": "code",
      "metadata": {
        "colab": {
          "base_uri": "https://localhost:8080/"
        },
        "id": "ljpGhPrUPo64",
        "outputId": "7fb77998-e03e-4ac6-8ab0-69eb6b6ef596"
      },
      "source": [
        "print('Laranja' in frutas2)"
      ],
      "execution_count": 30,
      "outputs": [
        {
          "output_type": "stream",
          "name": "stdout",
          "text": [
            "True\n"
          ]
        }
      ]
    },
    {
      "cell_type": "code",
      "metadata": {
        "colab": {
          "base_uri": "https://localhost:8080/"
        },
        "id": "aDrRI6xbP3nJ",
        "outputId": "d05bd576-fe6c-4a35-8c07-cd29aa2cc8b1"
      },
      "source": [
        "print('Manga' in frutas2)"
      ],
      "execution_count": 31,
      "outputs": [
        {
          "output_type": "stream",
          "name": "stdout",
          "text": [
            "False\n"
          ]
        }
      ]
    },
    {
      "cell_type": "markdown",
      "metadata": {
        "id": "bxYduLwBQVH5"
      },
      "source": [
        "### **Adicionando item ao Set**"
      ]
    },
    {
      "cell_type": "code",
      "metadata": {
        "id": "oHEuC87tQcxX"
      },
      "source": [
        "frutas2.add('Manga')"
      ],
      "execution_count": 32,
      "outputs": []
    },
    {
      "cell_type": "code",
      "metadata": {
        "colab": {
          "base_uri": "https://localhost:8080/"
        },
        "id": "KPhVMMvPQmW3",
        "outputId": "a7809db7-a3a6-41c9-8e0b-9437120b5ece"
      },
      "source": [
        "print(frutas2)"
      ],
      "execution_count": 33,
      "outputs": [
        {
          "output_type": "stream",
          "name": "stdout",
          "text": [
            "{'Manga', 'Laranja', 'Goiaba', 'Abacaxi', 'Jabuticaba', 'Mamão', 'Limão'}\n"
          ]
        }
      ]
    },
    {
      "cell_type": "markdown",
      "metadata": {
        "id": "gfTZRc8_QrT-"
      },
      "source": [
        "### Unindo **Sets**"
      ]
    },
    {
      "cell_type": "code",
      "metadata": {
        "id": "XWOitDx3Qvum"
      },
      "source": [
        "frutas = {'Melancia', 'Fruta do Conde'}"
      ],
      "execution_count": 36,
      "outputs": []
    },
    {
      "cell_type": "code",
      "metadata": {
        "id": "hlB-i9qBRDaK"
      },
      "source": [
        "frutas2.update(frutas)"
      ],
      "execution_count": 37,
      "outputs": []
    },
    {
      "cell_type": "code",
      "metadata": {
        "colab": {
          "base_uri": "https://localhost:8080/"
        },
        "id": "_SRNyfWKRrKn",
        "outputId": "71db7514-6227-49c9-8bba-bfcc3168b7e1"
      },
      "source": [
        "print(frutas2)"
      ],
      "execution_count": 38,
      "outputs": [
        {
          "output_type": "stream",
          "name": "stdout",
          "text": [
            "{'Manga', 'Melancia', 'Fruta do Conde', 'Laranja', 'Goiaba', 'Abacaxi', 'Jabuticaba', 'Mamão', 'Limão'}\n"
          ]
        }
      ]
    }
  ]
}