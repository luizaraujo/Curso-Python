{
  "nbformat": 4,
  "nbformat_minor": 0,
  "metadata": {
    "colab": {
      "name": "mediaAlunos.ipynb",
      "provenance": [],
      "collapsed_sections": [],
      "authorship_tag": "ABX9TyPPR08CUJO/kiR0TjZ4tQOl",
      "include_colab_link": true
    },
    "kernelspec": {
      "name": "python3",
      "display_name": "Python 3"
    },
    "language_info": {
      "name": "python"
    }
  },
  "cells": [
    {
      "cell_type": "markdown",
      "metadata": {
        "id": "view-in-github",
        "colab_type": "text"
      },
      "source": [
        "<a href=\"https://colab.research.google.com/github/luizaraujo/Curso-Python/blob/main/mediaAlunos.ipynb\" target=\"_parent\"><img src=\"https://colab.research.google.com/assets/colab-badge.svg\" alt=\"Open In Colab\"/></a>"
      ]
    },
    {
      "cell_type": "markdown",
      "metadata": {
        "id": "gM3ksECXlb-9"
      },
      "source": [
        "# **Exercícios**"
      ]
    },
    {
      "cell_type": "markdown",
      "metadata": {
        "id": "lj-Q0P5JllZs"
      },
      "source": [
        "### **1 - Fazer média de notas de alunos**"
      ]
    },
    {
      "cell_type": "code",
      "metadata": {
        "colab": {
          "base_uri": "https://localhost:8080/"
        },
        "id": "rNN3AjMxlaUW",
        "outputId": "e62077f6-7517-4a24-d9ef-c6727aab59cc"
      },
      "source": [
        "nomes = ['','','']\n",
        "notas = [0.0,0.0,0.0]\n",
        "\n",
        "nome = input('Entre com o nome do aluno 1: ')\n",
        "nota = float(input('Digite a nota do aluno 1: '))\n",
        "nomes[0] = nome\n",
        "notas[0] = nota\n",
        "\n",
        "nome = input('Entre com o nome do aluno 2: ')\n",
        "nota = float(input('Digite a nota do aluno 2: '))\n",
        "nomes[1] = nome\n",
        "notas[1] = nota\n",
        "\n",
        "nome = input('Entre com o nome do aluno 3: ')\n",
        "nota = float(input('Digite a nota do aluno 3: '))\n",
        "nomes[2] = nome\n",
        "notas[2] = nota\n",
        "\n",
        "media = (notas[0] + notas[1] + notas[2]) / 3\n",
        "\n",
        "print(f'A média da turma foi {media}')\n",
        "\n",
        "\n",
        "\n",
        "\n",
        "\n",
        "\n",
        "\n"
      ],
      "execution_count": 1,
      "outputs": [
        {
          "output_type": "stream",
          "name": "stdout",
          "text": [
            "Entre com o nome do aluno 1: Luiz\n",
            "Digite a nota do aluno 1: 7.5\n",
            "Entre com o nome do aluno 2: Carlos\n",
            "Digite a nota do aluno 2: 5.4\n",
            "Entre com o nome do aluno 3: Pedro\n",
            "Digite a nota do aluno 3: 2.7\n",
            "A média da turma foi 5.2\n"
          ]
        }
      ]
    }
  ]
}