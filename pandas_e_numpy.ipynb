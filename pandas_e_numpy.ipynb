{
  "nbformat": 4,
  "nbformat_minor": 0,
  "metadata": {
    "colab": {
      "name": "pandas_e_numpy.ipynb",
      "provenance": [],
      "authorship_tag": "ABX9TyMHFR2ngwhqEnsMSNDeO48g",
      "include_colab_link": true
    },
    "kernelspec": {
      "name": "python3",
      "display_name": "Python 3"
    },
    "language_info": {
      "name": "python"
    }
  },
  "cells": [
    {
      "cell_type": "markdown",
      "metadata": {
        "id": "view-in-github",
        "colab_type": "text"
      },
      "source": [
        "<a href=\"https://colab.research.google.com/github/luizaraujo/Curso-Python/blob/main/pandas_e_numpy.ipynb\" target=\"_parent\"><img src=\"https://colab.research.google.com/assets/colab-badge.svg\" alt=\"Open In Colab\"/></a>"
      ]
    },
    {
      "cell_type": "code",
      "source": [
        "import numpy as np\n",
        "import pandas as pd"
      ],
      "metadata": {
        "id": "LuBrnBgxos08"
      },
      "execution_count": 1,
      "outputs": []
    },
    {
      "cell_type": "code",
      "execution_count": 10,
      "metadata": {
        "id": "xmjLUgxaoiDK"
      },
      "outputs": [],
      "source": [
        "meus_dados = np.array([['Luiz', 55], ['Lucilia', 76], ['Moises', 81], ['Sandra', 54], ['Maitê', 3]])"
      ]
    },
    {
      "cell_type": "code",
      "source": [
        "meus_nomes_coluna = ['Nome', ' Idade']"
      ],
      "metadata": {
        "id": "CSgERT37pRBa"
      },
      "execution_count": 11,
      "outputs": []
    },
    {
      "cell_type": "code",
      "source": [
        "meu_dataframe = pd.DataFrame(data=meus_dados, columns=meus_nomes_coluna)"
      ],
      "metadata": {
        "id": "hkROWJrNplJS"
      },
      "execution_count": 12,
      "outputs": []
    },
    {
      "cell_type": "code",
      "source": [
        "print(meu_dataframe)"
      ],
      "metadata": {
        "colab": {
          "base_uri": "https://localhost:8080/"
        },
        "id": "VzcnkK7Gp4UY",
        "outputId": "561c5149-d7e6-43d2-c814-69b6ba6ce32e"
      },
      "execution_count": 13,
      "outputs": [
        {
          "output_type": "stream",
          "name": "stdout",
          "text": [
            "      Nome  Idade\n",
            "0     Luiz     55\n",
            "1  Lucilia     76\n",
            "2   Moises     81\n",
            "3   Sandra     54\n",
            "4    Maitê      3\n"
          ]
        }
      ]
    },
    {
      "cell_type": "code",
      "source": [
        "print(meu_dataframe['Nome'] + ' É o meu nome!')"
      ],
      "metadata": {
        "colab": {
          "base_uri": "https://localhost:8080/"
        },
        "id": "lRWCDReO-X25",
        "outputId": "c1a7c375-28f9-4701-b6d1-162eccfc767c"
      },
      "execution_count": 19,
      "outputs": [
        {
          "output_type": "stream",
          "name": "stdout",
          "text": [
            "0       Luiz É o meu nome!\n",
            "1    Lucilia É o meu nome!\n",
            "2     Moises É o meu nome!\n",
            "3     Sandra É o meu nome!\n",
            "4      Maitê É o meu nome!\n",
            "Name: Nome, dtype: object\n"
          ]
        }
      ]
    }
  ]
}