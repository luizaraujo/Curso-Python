{
  "nbformat": 4,
  "nbformat_minor": 0,
  "metadata": {
    "colab": {
      "name": "tuplas2.ipynb",
      "provenance": [],
      "authorship_tag": "ABX9TyO9T9CkkfenwFsSfKuw6vg7",
      "include_colab_link": true
    },
    "kernelspec": {
      "name": "python3",
      "display_name": "Python 3"
    },
    "language_info": {
      "name": "python"
    }
  },
  "cells": [
    {
      "cell_type": "markdown",
      "metadata": {
        "id": "view-in-github",
        "colab_type": "text"
      },
      "source": [
        "<a href=\"https://colab.research.google.com/github/luizaraujo/Curso-Python/blob/main/tuplas2.ipynb\" target=\"_parent\"><img src=\"https://colab.research.google.com/assets/colab-badge.svg\" alt=\"Open In Colab\"/></a>"
      ]
    },
    {
      "cell_type": "code",
      "metadata": {
        "colab": {
          "base_uri": "https://localhost:8080/"
        },
        "id": "Ks0GhbDUwUai",
        "outputId": "329e7013-039f-48ce-906f-1fbe52fe1ff1"
      },
      "source": [
        "minha_tupla = ('Carros', 'Maquinas', 'Bicicletas')\n",
        "print(minha_tupla[1])"
      ],
      "execution_count": null,
      "outputs": [
        {
          "output_type": "stream",
          "name": "stdout",
          "text": [
            "Maquinas\n"
          ]
        }
      ]
    },
    {
      "cell_type": "code",
      "metadata": {
        "id": "vtmTMOxrxHiJ"
      },
      "source": [
        "minha_tupla = ('Laranja', 'Goiaba', 'Maça')"
      ],
      "execution_count": null,
      "outputs": []
    },
    {
      "cell_type": "code",
      "metadata": {
        "colab": {
          "base_uri": "https://localhost:8080/",
          "height": 129
        },
        "id": "Vl2Kdgx3wsrq",
        "outputId": "d5768a26-19df-4d6c-9995-255207c1cf85"
      },
      "source": [
        "minha_tupla[1] = 'Skate'  //Não se pode alterar uma tupla"
      ],
      "execution_count": null,
      "outputs": [
        {
          "output_type": "error",
          "ename": "SyntaxError",
          "evalue": "ignored",
          "traceback": [
            "\u001b[0;36m  File \u001b[0;32m\"<ipython-input-8-0c2cc70d7409>\"\u001b[0;36m, line \u001b[0;32m1\u001b[0m\n\u001b[0;31m    minha_tupla[1] = 'Skate'  //Não se pode alterar uma tupla\u001b[0m\n\u001b[0m                                     ^\u001b[0m\n\u001b[0;31mSyntaxError\u001b[0m\u001b[0;31m:\u001b[0m invalid syntax\n"
          ]
        }
      ]
    },
    {
      "cell_type": "code",
      "metadata": {
        "id": "mjiZ8_uXYMDs",
        "colab": {
          "base_uri": "https://localhost:8080/"
        },
        "outputId": "bd5b8737-6949-4de2-8bbc-a30f895fa2fd"
      },
      "source": [
        "tupla2 = ('luiz', 'Carlos')\n",
        "print(tupla2[0])"
      ],
      "execution_count": 16,
      "outputs": [
        {
          "output_type": "stream",
          "name": "stdout",
          "text": [
            "luiz\n"
          ]
        }
      ]
    },
    {
      "cell_type": "code",
      "metadata": {
        "colab": {
          "base_uri": "https://localhost:8080/"
        },
        "id": "oj-SukXXj_tO",
        "outputId": "2f53dc9c-ed6c-4c3e-e40e-f160b484a659"
      },
      "source": [
        "print(tupla2[1])"
      ],
      "execution_count": 17,
      "outputs": [
        {
          "output_type": "stream",
          "name": "stdout",
          "text": [
            "Carlos\n"
          ]
        }
      ]
    },
    {
      "cell_type": "code",
      "metadata": {
        "id": "qLsuAanckXN5"
      },
      "source": [
        "del tupla2"
      ],
      "execution_count": 18,
      "outputs": []
    },
    {
      "cell_type": "code",
      "metadata": {
        "colab": {
          "base_uri": "https://localhost:8080/",
          "height": 163
        },
        "id": "8b1V34t6kahf",
        "outputId": "36d2b133-31fd-42df-eab5-03ee1a31b179"
      },
      "source": [
        "print(tupla2)"
      ],
      "execution_count": 19,
      "outputs": [
        {
          "output_type": "error",
          "ename": "NameError",
          "evalue": "ignored",
          "traceback": [
            "\u001b[0;31m---------------------------------------------------------------------------\u001b[0m",
            "\u001b[0;31mNameError\u001b[0m                                 Traceback (most recent call last)",
            "\u001b[0;32m<ipython-input-19-85fe5c8d8df7>\u001b[0m in \u001b[0;36m<module>\u001b[0;34m()\u001b[0m\n\u001b[0;32m----> 1\u001b[0;31m \u001b[0mprint\u001b[0m\u001b[0;34m(\u001b[0m\u001b[0mtupla2\u001b[0m\u001b[0;34m)\u001b[0m\u001b[0;34m\u001b[0m\u001b[0;34m\u001b[0m\u001b[0m\n\u001b[0m",
            "\u001b[0;31mNameError\u001b[0m: name 'tupla2' is not defined"
          ]
        }
      ]
    }
  ]
}