{
  "nbformat": 4,
  "nbformat_minor": 0,
  "metadata": {
    "colab": {
      "name": "+Listas.ipynb",
      "provenance": [],
      "authorship_tag": "ABX9TyORD/ny6T9OnZyL0R2vzUPq",
      "include_colab_link": true
    },
    "kernelspec": {
      "name": "python3",
      "display_name": "Python 3"
    },
    "language_info": {
      "name": "python"
    }
  },
  "cells": [
    {
      "cell_type": "markdown",
      "metadata": {
        "id": "view-in-github",
        "colab_type": "text"
      },
      "source": [
        "<a href=\"https://colab.research.google.com/github/luizaraujo/Curso-Python/blob/main/%2BListas.ipynb\" target=\"_parent\"><img src=\"https://colab.research.google.com/assets/colab-badge.svg\" alt=\"Open In Colab\"/></a>"
      ]
    },
    {
      "cell_type": "markdown",
      "source": [
        "### Criando uma lista chamada \"carros\""
      ],
      "metadata": {
        "id": "lxEwA8Rw_9jr"
      }
    },
    {
      "cell_type": "code",
      "execution_count": 40,
      "metadata": {
        "colab": {
          "base_uri": "https://localhost:8080/"
        },
        "id": "lLIZtImL9qbD",
        "outputId": "c177c0f9-40ef-4025-8bbf-a2a970e3494d"
      },
      "outputs": [
        {
          "output_type": "stream",
          "name": "stdout",
          "text": [
            "['fusca', 'Chevett', 'Gol', 'Passat']\n"
          ]
        }
      ],
      "source": [
        "\"\"\"\n",
        "Listas em Python\n",
        "Fatiamento\n",
        "apeend, insert, pop, del, clear, extend, min, max ...\n",
        "range\n",
        "\"\"\"\n",
        "carros = ['fusca', 'Chevett', 'Gol', 'Passat']\n",
        "print(carros)"
      ]
    },
    {
      "cell_type": "markdown",
      "source": [
        "### Acrescentando 1 item a lista, sendo que \"append\" acrescenta no final da lista"
      ],
      "metadata": {
        "id": "5GUtroS__qOn"
      }
    },
    {
      "cell_type": "code",
      "source": [
        "carros.append('Maverick')\n",
        "carros.append('Fox')\n",
        "carros.append('ferrari')\n",
        "carros.append('Miura')\n",
        "carros.append('corsa')\n",
        "print(carros)"
      ],
      "metadata": {
        "colab": {
          "base_uri": "https://localhost:8080/"
        },
        "id": "1n1wZOwE_CuO",
        "outputId": "2889ccf7-a636-45e0-ff2b-49ea4576843e"
      },
      "execution_count": 41,
      "outputs": [
        {
          "output_type": "stream",
          "name": "stdout",
          "text": [
            "['fusca', 'Chevett', 'Gol', 'Passat', 'Maverick', 'Fox', 'ferrari', 'Miura', 'corsa']\n"
          ]
        }
      ]
    },
    {
      "cell_type": "markdown",
      "source": [
        "### Exibindo o 3º item da lista carros"
      ],
      "metadata": {
        "id": "y2ZftcLs_eME"
      }
    },
    {
      "cell_type": "code",
      "source": [
        "print(carros[2])"
      ],
      "metadata": {
        "colab": {
          "base_uri": "https://localhost:8080/"
        },
        "id": "8xi9_7he_LBr",
        "outputId": "e24de35c-9439-4bcd-e43d-5c5ad4288c4b"
      },
      "execution_count": 42,
      "outputs": [
        {
          "output_type": "stream",
          "name": "stdout",
          "text": [
            "Gol\n"
          ]
        }
      ]
    },
    {
      "cell_type": "markdown",
      "source": [
        "### Apagando o último item da lista"
      ],
      "metadata": {
        "id": "J9-Z_Mq6_R49"
      }
    },
    {
      "cell_type": "code",
      "source": [
        "carros.pop()\n",
        "print(carros)"
      ],
      "metadata": {
        "colab": {
          "base_uri": "https://localhost:8080/"
        },
        "id": "syhdCbil_PGW",
        "outputId": "c6aeb7a8-83ec-41d6-bdce-f20ca10a3375"
      },
      "execution_count": 43,
      "outputs": [
        {
          "output_type": "stream",
          "name": "stdout",
          "text": [
            "['fusca', 'Chevett', 'Gol', 'Passat', 'Maverick', 'Fox', 'ferrari', 'Miura']\n"
          ]
        }
      ]
    },
    {
      "cell_type": "markdown",
      "source": [
        "### Fatiando lista no Python"
      ],
      "metadata": {
        "id": "rVkKmuqOARaH"
      }
    },
    {
      "cell_type": "code",
      "source": [
        "print(carros[1:3])"
      ],
      "metadata": {
        "colab": {
          "base_uri": "https://localhost:8080/"
        },
        "id": "6K8jJfXWAWpT",
        "outputId": "dd4bdd40-d993-497e-8216-5680f4010388"
      },
      "execution_count": 44,
      "outputs": [
        {
          "output_type": "stream",
          "name": "stdout",
          "text": [
            "['Chevett', 'Gol']\n"
          ]
        }
      ]
    },
    {
      "cell_type": "markdown",
      "source": [
        "### Localizando o último item da lista"
      ],
      "metadata": {
        "id": "MTt5gKW_Al22"
      }
    },
    {
      "cell_type": "code",
      "source": [
        "print(carros[-1])"
      ],
      "metadata": {
        "colab": {
          "base_uri": "https://localhost:8080/"
        },
        "id": "_T7CAXK6AsZb",
        "outputId": "99407b57-5432-4f2d-b32a-e868c9c5424d"
      },
      "execution_count": 45,
      "outputs": [
        {
          "output_type": "stream",
          "name": "stdout",
          "text": [
            "Miura\n"
          ]
        }
      ]
    },
    {
      "cell_type": "markdown",
      "source": [
        "### Utilizando \"saltos\" na lista"
      ],
      "metadata": {
        "id": "HYDkNWajBJCK"
      }
    },
    {
      "cell_type": "code",
      "source": [
        "print(carros[::2])"
      ],
      "metadata": {
        "colab": {
          "base_uri": "https://localhost:8080/"
        },
        "id": "vZlNEkuXBPxU",
        "outputId": "42bffeaf-12d9-4593-879f-a8273fa17d5f"
      },
      "execution_count": 46,
      "outputs": [
        {
          "output_type": "stream",
          "name": "stdout",
          "text": [
            "['fusca', 'Gol', 'Maverick', 'ferrari']\n"
          ]
        }
      ]
    },
    {
      "cell_type": "markdown",
      "source": [
        "### Deletando um item específico em uma lista:"
      ],
      "metadata": {
        "id": "zgzsrBT7DwzX"
      }
    },
    {
      "cell_type": "code",
      "source": [
        "del(carros[4:6])"
      ],
      "metadata": {
        "id": "UPwSEpwfDXDO"
      },
      "execution_count": 47,
      "outputs": []
    },
    {
      "cell_type": "code",
      "source": [
        "print(carros)"
      ],
      "metadata": {
        "colab": {
          "base_uri": "https://localhost:8080/"
        },
        "id": "xE_m9ZY-DqFT",
        "outputId": "a036e934-b843-40f6-ae7d-8cc57e62e4c7"
      },
      "execution_count": 48,
      "outputs": [
        {
          "output_type": "stream",
          "name": "stdout",
          "text": [
            "['fusca', 'Chevett', 'Gol', 'Passat', 'ferrari', 'Miura']\n"
          ]
        }
      ]
    },
    {
      "cell_type": "markdown",
      "source": [
        "### Inserindo um item em um lugar específico de uma lista"
      ],
      "metadata": {
        "id": "w9k2lmi3Fdxl"
      }
    },
    {
      "cell_type": "code",
      "source": [
        "carros.insert(2, 'mercedez')\n",
        "print(carros)"
      ],
      "metadata": {
        "colab": {
          "base_uri": "https://localhost:8080/"
        },
        "id": "1ls6mzYpFnUg",
        "outputId": "bb6a4b93-194b-4273-e5a3-10c19802bc42"
      },
      "execution_count": 49,
      "outputs": [
        {
          "output_type": "stream",
          "name": "stdout",
          "text": [
            "['fusca', 'Chevett', 'mercedez', 'Gol', 'Passat', 'ferrari', 'Miura']\n"
          ]
        }
      ]
    },
    {
      "cell_type": "code",
      "source": [
        "#print(carros)\n",
        "#print(min(carros))\n",
        "#print(max(carros))\n",
        "\n",
        "numeros = [1, 2, 3, 5, 8, 12, 4]\n",
        "print(numeros)\n",
        "print(min(numeros))\n",
        "print(max(numeros))"
      ],
      "metadata": {
        "colab": {
          "base_uri": "https://localhost:8080/"
        },
        "id": "xc6rzKyPF054",
        "outputId": "e23ef7da-170b-43af-a982-70aaa5dd313e"
      },
      "execution_count": 56,
      "outputs": [
        {
          "output_type": "stream",
          "name": "stdout",
          "text": [
            "[1, 2, 3, 5, 8, 12, 4]\n",
            "1\n",
            "12\n"
          ]
        }
      ]
    }
  ]
}